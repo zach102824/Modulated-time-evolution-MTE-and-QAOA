{
 "cells": [
  {
   "cell_type": "markdown",
   "id": "fb7f13aa-a66a-475e-900e-efc3b3446010",
   "metadata": {},
   "source": [
    "Parameters used in the code:\r\n",
    "\r\n",
    "N: Number of sites in the transverse field Ising model.\r\n",
    "\r\n",
    "This code optimizes only 8 sites because we are using SciPy with a CPU, which is slow but suitable for a toy model.\r\n",
    "\r\n",
    "B: B-field value for the target Hamiltonian, which can be zero or non-zero.\r\n",
    "\r\n",
    "J_value: J coupling strength.\r\n",
    "\r\n",
    "J_matrix_alpha: Power-law decay constant.\r\n",
    "\r\n",
    "number_of_layers: The number of steps in the optimization.\r\n",
    "\r\n",
    "The convergence threshold or learning rate can be adjusted using SciPy’s arguments. More details can be found here: https://docs.scipy.org/doc/scipy/reference/generated/scipy.optimize.minimize.html#scipy.optimize.minimize\r\n",
    "\r\n",
    "The final output file name is f'scipy_lambda_result_N={N}_B={B}_layers{number_of_layers}.txt'."
   ]
  },
  {
   "cell_type": "code",
   "execution_count": 1,
   "id": "eb681a6f-13fc-44dc-bef9-5713efc959a5",
   "metadata": {},
   "outputs": [],
   "source": [
    "# initialize variables\n",
    "N = 8 \n",
    "B = 0.1\n",
    "J_value = 1\n",
    "J_matrix_alpha =  1\n",
    "number_of_layers = 10"
   ]
  },
  {
   "cell_type": "code",
   "execution_count": 2,
   "id": "07cb000c-4018-47fb-9edd-9560d594fa91",
   "metadata": {
    "jupyter": {
     "source_hidden": true
    },
    "tags": []
   },
   "outputs": [],
   "source": [
    "import numpy as np\n",
    "from scipy.sparse.linalg import eigs\n",
    "from numpy import linalg as LA\n",
    "from scipy.interpolate import Akima1DInterpolator\n",
    "from scipy.linalg import expm\n",
    "import time\n",
    "from scipy import sparse\n",
    "import matplotlib.pyplot as plt\n",
    "import pandas\n",
    "import scipy\n",
    "np.set_printoptions(precision=6)\n",
    "# Q is the dimension\n",
    "Q = pow(2, N)\n",
    "\n",
    "# decimal number to binary array function\n",
    "def D2B(num):\n",
    "    string = f'{num:1b}'\n",
    "    result = np.zeros(N - len(string), int)\n",
    "\n",
    "    for ele in string:\n",
    "        result = np.append(result, int(ele))\n",
    "\n",
    "    return result\n",
    "\n",
    "# decimal number to binary array function\n",
    "def D2B_with_digit(num,digit):\n",
    "    string = f'{num:1b}'\n",
    "    result = np.zeros(digit - len(string), int)\n",
    "\n",
    "    for ele in string:\n",
    "        result = np.append(result, int(ele))\n",
    "\n",
    "    return result\n",
    "\n",
    "# binary array to decimal function\n",
    "def B2D(array):\n",
    "    res = 0\n",
    "    for ele in array:\n",
    "        res = (res << 1) | ele\n",
    "    return res\n",
    "\n",
    "def spin_reflection(array):\n",
    "    new_array = np.zeros(len(array),dtype=int)\n",
    "    for i in range(len(array)):\n",
    "        if array[i] == 1:\n",
    "            new_array[i] = 0\n",
    "        else:\n",
    "            new_array[i] = 1\n",
    "    return new_array\n",
    "\n",
    "def spatial_reflection(array):\n",
    "    new_array = array[::-1]\n",
    "    return new_array\n",
    "\n",
    "# start my main function\n",
    "\n",
    "# initialize J matrix\n",
    "J_matrix = np.zeros((N, N), dtype='float64')\n",
    "for i in range(N):\n",
    "    for j in range(N):\n",
    "        if j >= (i + 1):\n",
    "            J_matrix[i][j] = J_value/pow(abs(i-j),J_matrix_alpha)"
   ]
  },
  {
   "cell_type": "code",
   "execution_count": 3,
   "id": "0a6aadaf-a0d9-4a97-be0e-c10fcc207179",
   "metadata": {
    "jupyter": {
     "source_hidden": true
    },
    "tags": []
   },
   "outputs": [],
   "source": [
    "# start to get what product states are having the same symmtries\n",
    "loop_state_list = np.linspace(0,Q-1,num=Q,dtype=int)\n",
    "\n",
    "couple_state_matrix = []\n",
    "sign_matrix = []\n",
    "# this is the final result for the states to consctruct basis \n",
    "\n",
    "for n in range(Q):  # n is an unused index\n",
    "    \n",
    "    # couple_num_list would be my result for each state we loop\n",
    "    \n",
    "    if len(loop_state_list)!=0: # loop for couple number for one state\n",
    "                \n",
    "        couple_num_list = [] # this is the list to store all the number that couple to the number we are looping\n",
    "        couple_num_list = np.array(couple_num_list, dtype=int)\n",
    "        state_num = loop_state_list[0]\n",
    "        couple_num_list = np.append(couple_num_list,state_num)\n",
    "        \n",
    "        for m in range(Q): # loop for spin and spatial for all states inside the couple number list\n",
    "            \n",
    "            if m==0:\n",
    "                \n",
    "                couple_num_list_old =couple_num_list\n",
    "                \n",
    "                for i in range(len(couple_num_list)):\n",
    "                    number = couple_num_list[i]\n",
    "                    array = D2B(number)\n",
    "\n",
    "                    # spin reflection \n",
    "                    spin_relfection_array = spin_reflection(array)\n",
    "                    spin_number = B2D(spin_relfection_array)\n",
    "                    couple_num_list =np.append(couple_num_list,spin_number)\n",
    "\n",
    "\n",
    "                    # spatial reflection \n",
    "                    spatial_relfection_array = spatial_reflection(array)\n",
    "                    spatial_number = B2D(spatial_relfection_array)\n",
    "                    couple_num_list =np.append(couple_num_list,spatial_number)\n",
    "                    \n",
    "                    # remove the repeated element \n",
    "                    couple_num_list = np.unique(couple_num_list)\n",
    "            else:\n",
    "                \n",
    "                if len(couple_num_list_old) != len(couple_num_list):\n",
    "                    # update couple_num_list_old first \n",
    "                    couple_num_list_old =couple_num_list\n",
    "                    \n",
    "                    for i in range(len(couple_num_list)):\n",
    "                        number = couple_num_list[i]\n",
    "                        array = D2B(number)\n",
    "\n",
    "                        # spin reflection \n",
    "                        spin_relfection_array = spin_reflection(array)\n",
    "                        spin_number = B2D(spin_relfection_array)\n",
    "                        couple_num_list =np.append(couple_num_list,spin_number)\n",
    "                        \n",
    "                        \n",
    "                        # spatial reflection \n",
    "                        spatial_relfection_array = spatial_reflection(array)\n",
    "                        spatial_number = B2D(spatial_relfection_array)\n",
    "                        couple_num_list = np.append(couple_num_list,spatial_number)\n",
    "                        \n",
    "                        # remove the repeated element \n",
    "                        couple_num_list = np.unique(couple_num_list)\n",
    "                        \n",
    "        # now we have final couple_num_list\n",
    "        couple_state_matrix.append(couple_num_list.tolist())\n",
    "        \n",
    "        # remove the ones already found \n",
    "        for j in range(len(couple_num_list)):\n",
    "            loop_state_list = np.delete(loop_state_list, np.where(loop_state_list ==couple_num_list[j] ))"
   ]
  },
  {
   "cell_type": "code",
   "execution_count": 4,
   "id": "bc0acdbe-5e19-4358-abdb-19490c8d74ae",
   "metadata": {
    "tags": []
   },
   "outputs": [],
   "source": [
    "# initialize H matrix\n",
    "couple_dimen = len(couple_state_matrix)\n",
    "\n",
    "HA_matrix = np.zeros((couple_dimen, couple_dimen), dtype='float64')\n",
    "HB_matrix = np.zeros((couple_dimen, couple_dimen), dtype='float64')"
   ]
  },
  {
   "cell_type": "code",
   "execution_count": 5,
   "id": "e72f81c3-30f3-4b84-8cfb-e9e64ac22519",
   "metadata": {},
   "outputs": [
    {
     "name": "stdout",
     "output_type": "stream",
     "text": [
      "the dimension of the subspace hamiltonian is  72\n"
     ]
    }
   ],
   "source": [
    "print('the dimension of the subspace hamiltonian is ',couple_dimen)"
   ]
  },
  {
   "cell_type": "code",
   "execution_count": 6,
   "id": "c4ab9342-e60b-44b3-bdb9-22c65ab1dee2",
   "metadata": {
    "jupyter": {
     "source_hidden": true
    },
    "tags": []
   },
   "outputs": [],
   "source": [
    "# loop each basis to fill in the diagonal elements for HA matrix \n",
    "\n",
    "for i in range(couple_dimen):\n",
    "    \n",
    "    state_array = np.array( couple_state_matrix[i] )\n",
    "    \n",
    "    # loop each element inside the array \n",
    "    normalization = len(state_array)\n",
    "    \n",
    "    # energy total for all the product states inside one basis\n",
    "    \n",
    "    e_tot = 0\n",
    "    for j in range(len(state_array)):\n",
    "        \n",
    "        state = D2B(state_array[j])\n",
    "        \n",
    "        # loop over N sites to change the state vector to either 1 or -1\n",
    "        \n",
    "        for k in range(N):\n",
    "            # 1 is spin down , 0 is spin up\n",
    "            if state[k] == 1:\n",
    "                state[k] = -1\n",
    "            else:\n",
    "                state[k] = 1\n",
    "\n",
    "        # now get the energy, loop all the sites and then pairs\n",
    "        \n",
    "        for m in range(N):\n",
    "            for q in range(N):\n",
    "                e_temp = J_matrix[m][q] * state[m] * state[q]\n",
    "                e_tot = e_tot + e_temp\n",
    "\n",
    "    HA_matrix[i][i] = e_tot/normalization"
   ]
  },
  {
   "cell_type": "code",
   "execution_count": 7,
   "id": "504fc82d-599c-452d-960b-540b4a1ef4c1",
   "metadata": {
    "jupyter": {
     "source_hidden": true
    },
    "tags": []
   },
   "outputs": [],
   "source": [
    "# generate vector form for each basis\n",
    "vector_form_basis_matrix = np.zeros((couple_dimen,Q))\n",
    "\n",
    "for i in range(couple_dimen):\n",
    "    \n",
    "    state_array = np.array( couple_state_matrix[i] )\n",
    "    normalization = np.sqrt(len(state_array))\n",
    "    \n",
    "    for j in state_array:\n",
    "        vector_form_basis_matrix[i][j] = 1\n",
    "        \n",
    "    # put back normalization factor\n",
    "    vector_form_basis_matrix[i] = vector_form_basis_matrix[i]/normalization\n",
    "    \n",
    "    "
   ]
  },
  {
   "cell_type": "code",
   "execution_count": 8,
   "id": "bb008183-6972-46e7-91fa-97cd7797b695",
   "metadata": {
    "jupyter": {
     "source_hidden": true
    },
    "tags": []
   },
   "outputs": [],
   "source": [
    "# loop each basis to fill in HB matrix \n",
    "\n",
    "for i in range(couple_dimen):\n",
    "\n",
    "    state_array = np.array( couple_state_matrix[i] )\n",
    "\n",
    "    # this is the actual normalization unlike before since it will couple to some other states\n",
    "    # so it can not be like just the square like we did before\n",
    "    normalization = np.sqrt(len(state_array))\n",
    "\n",
    "    # loop each product state to generate N other states, i.e. generaete the state after operator acting on it\n",
    "    result_num_list = []\n",
    "    result_num_list = np.array(result_num_list,dtype=int)\n",
    "    for k in range(len(state_array)):\n",
    "        \n",
    "        spin = D2B(state_array[k])\n",
    "\n",
    "        # start fliping the spins\n",
    "        for j in range(N):\n",
    "            if spin[j] == 1:\n",
    "                # if it's spin down, raise to spin up\n",
    "                spin[j] = 0\n",
    "                new_num = B2D(spin)\n",
    "                result_num_list = np.append(result_num_list,new_num)\n",
    "                # change it back for next operation\n",
    "                spin[j] = 1\n",
    "            else:\n",
    "                # if it's spin down, raise to spin up\n",
    "                spin[j] = 1\n",
    "                new_num = B2D(spin)\n",
    "                result_num_list = np.append(result_num_list,new_num)\n",
    "                # change it back for next operation\n",
    "                spin[j] = 0\n",
    "        \n",
    "     \n",
    "    # generate the vector form for the state after operrator acting on it\n",
    "    \n",
    "    vector_final_state = np.zeros(Q)\n",
    "    \n",
    "    for j in result_num_list:\n",
    "        vector_final_state[j] = vector_final_state[j] +1\n",
    "        \n",
    "    # put back normalization factor \n",
    "    vector_final_state = vector_final_state/normalization\n",
    "    \n",
    "    # calculate dot product to put into inside the matrix\n",
    "    for j in range(couple_dimen):\n",
    "        \n",
    "        dot_product = np.dot(vector_final_state,vector_form_basis_matrix[j])\n",
    "        HB_matrix[i][j] = dot_product"
   ]
  },
  {
   "cell_type": "code",
   "execution_count": 9,
   "id": "4a5a615f-4bba-4115-adac-33388d311370",
   "metadata": {
    "tags": []
   },
   "outputs": [],
   "source": [
    "# get true ground state \n",
    "w, v = LA.eigh(HA_matrix + B* HB_matrix)\n",
    "inx = np.argsort(w)\n",
    "true_gs_vec = v[:, inx[0]]\n",
    "true_gs_energy =w[0]\n",
    "E_max =w[-1]"
   ]
  },
  {
   "cell_type": "code",
   "execution_count": 10,
   "id": "24d64853-9986-4270-a169-d1a78e62115d",
   "metadata": {},
   "outputs": [
    {
     "name": "stdout",
     "output_type": "stream",
     "text": [
      "true ground state energy is -5.110650491789136\n"
     ]
    }
   ],
   "source": [
    "print('true ground state energy is', true_gs_energy)"
   ]
  },
  {
   "cell_type": "code",
   "execution_count": 11,
   "id": "ecacef1f-cf97-46d1-a321-bc30a7c23c16",
   "metadata": {
    "tags": []
   },
   "outputs": [],
   "source": [
    "# get  ground state with initial H_B Hamiltonian \n",
    "w, v = LA.eigh(HB_matrix)\n",
    "inx = np.argsort(w)\n",
    "temp_vec = v[:, inx[0]] # the index here could be zero or one, depending on the parity\n",
    "# but if the wrong index will always give roughly zero fidelity "
   ]
  },
  {
   "cell_type": "code",
   "execution_count": 12,
   "id": "e0a9cbca-d47e-4c50-b045-dfc00747188b",
   "metadata": {
    "tags": []
   },
   "outputs": [
    {
     "name": "stdout",
     "output_type": "stream",
     "text": [
      "fidelity before optim is 0.016242148889510737\n"
     ]
    }
   ],
   "source": [
    "# get initial fidelity\n",
    "fidelity_t_0 = pow(np.dot(true_gs_vec,temp_vec),2) # all real so no need to c.c.\n",
    "print('fidelity before optim is', fidelity_t_0)"
   ]
  },
  {
   "cell_type": "code",
   "execution_count": 13,
   "id": "eb90d1d0-5dbd-4c5e-8390-053ee462dba7",
   "metadata": {
    "tags": []
   },
   "outputs": [],
   "source": [
    "def get_energy(H_matrix,state):\n",
    "    \n",
    "    a = np.dot(H_matrix,state)\n",
    "    energy = np.dot(np.conjugate(state),a).real\n",
    "\n",
    "    return energy"
   ]
  },
  {
   "cell_type": "code",
   "execution_count": 14,
   "id": "49b16761-4ce8-43fd-86fa-d0562db65d95",
   "metadata": {
    "tags": []
   },
   "outputs": [],
   "source": [
    "def get_fidelity(gs,state):\n",
    "    \n",
    "    dp = np.dot(gs,state) # dp is dot product\n",
    "    #print(dp)\n",
    "    dp_cc = np.conjugate(dp)     # the complex conjucate of the dot product \n",
    "    return (dp*dp_cc).real"
   ]
  },
  {
   "cell_type": "code",
   "execution_count": 15,
   "id": "49911cb8-8e6e-40ad-981a-71c779529a46",
   "metadata": {
    "tags": []
   },
   "outputs": [],
   "source": [
    "target_H = np.copy(HA_matrix + B* HB_matrix)"
   ]
  },
  {
   "cell_type": "code",
   "execution_count": 16,
   "id": "b2e74f53-96c8-4dff-b0a3-47725ac22589",
   "metadata": {},
   "outputs": [],
   "source": [
    "def lambda_evolve(x):\n",
    "    # global fidelity\n",
    "    # final_fidelity_list =[]\n",
    "    # final_fidelity_list.append(fidelity_t_0)\n",
    "    # product state\n",
    "    p = temp_vec  # p stands for product\n",
    "     # loop each time step\n",
    "    for i in range(number_of_layers):\n",
    "        H_matrix = HA_matrix + x[i+number_of_layers]*HB_matrix\n",
    "        exp_imgH_matrix = expm( -1*1j*x[i]*H_matrix )\n",
    "        new_p = np.dot(exp_imgH_matrix,p)\n",
    "        # update state\n",
    "        p = new_p\n",
    "        \n",
    "    # get fidelity \n",
    "    # fidelity = get_fidelity(true_gs_vec,p)\n",
    "    #print('fidelity is ',fidelity)\n",
    "    # get energy\n",
    "    energy = get_energy(target_H,p)\n",
    "    #return -1*fidelity\n",
    "    return energy"
   ]
  },
  {
   "cell_type": "code",
   "execution_count": 17,
   "id": "a7a25342-615f-4333-91c6-c8b791db1879",
   "metadata": {},
   "outputs": [],
   "source": [
    "def lambda_evolve_fidelity_list(x):\n",
    "    fidelity_list= []\n",
    "    inst_f_list=[]\n",
    "    p = temp_vec  # p stands for product\n",
    "     # loop each time step\n",
    "    for i in range(number_of_layers):            \n",
    "        H_matrix = HA_matrix + x[i+number_of_layers]*HB_matrix\n",
    "        # inst H\n",
    "        if x[i]<0 and x[i+number_of_layers]<0:\n",
    "            print('both smaller than zero',i)\n",
    "            w, v = LA.eigh( -HA_matrix - x[i+number_of_layers]*HB_matrix)\n",
    "            inst_gs_vec = v[:,0]\n",
    "        else:\n",
    "            w, v = LA.eigh( HA_matrix + x[i+number_of_layers]*HB_matrix)\n",
    "            inst_gs_vec = v[:,0]\n",
    "            \n",
    "        exp_imgH_matrix = expm( -1*1j*x[i]*H_matrix )\n",
    "        new_p = np.dot(exp_imgH_matrix,p)\n",
    "        # update state\n",
    "        p = new_p\n",
    "        fidelity_list.append(get_fidelity(true_gs_vec,p))\n",
    "        inst_f_list.append(get_fidelity(inst_gs_vec,p))\n",
    "    return np.array(fidelity_list), np.array(inst_f_list)"
   ]
  },
  {
   "cell_type": "code",
   "execution_count": 18,
   "id": "322abda5-d557-46cb-a430-8f505e6f2bba",
   "metadata": {},
   "outputs": [],
   "source": [
    "# # this serves as a checking part only \n",
    "# # best result N=12,46 LAYERS,64 bits\n",
    "# x_46 =np.array([ 0.097725,  0.477288,  0.443276,  0.172682,  1.246086,  0.880701,\n",
    "#         0.311077,  0.343559,  0.4446  ,  0.498634,  3.513766,  2.195835,\n",
    "#        -1.679474,  2.34228 ,  1.033489,  3.00999 , -0.583254, -1.904584,\n",
    "#         6.23439 ,  0.627215,  0.72342 ,  0.945287,  0.84764 ,  2.777252,\n",
    "#         0.920419,  0.795509,  0.771761,  1.074029,  0.849288,  0.778886,\n",
    "#         2.109009,  2.799745,  2.618029,  9.436081, -6.322151,  9.304835,\n",
    "#         0.817901,  0.557422,  0.670992,  0.875811,  5.658462, -0.068928,\n",
    "#         0.289072,  5.464772,  2.425481,  1.070671, 23.078089,  7.676801,\n",
    "#         4.609007,  3.1356  ,  2.488154,  2.080197,  1.473614,  1.071259,\n",
    "#         0.827909,  0.710397,  0.655159,  0.635309,  0.610464,  0.589641,\n",
    "#         0.570621,  0.552939,  0.528794,  0.507812,  0.486003,  0.456375,\n",
    "#         0.418009,  0.388989,  0.374755,  0.359278,  0.349239,  0.336304,\n",
    "#         0.314521,  0.293763,  0.279373,  0.261307,  0.24796 ,  0.243052,\n",
    "#         0.236972,  0.232609,  0.236054,  0.227522,  0.218561,  0.199195,\n",
    "#         0.179152,  0.151823,  0.135518,  0.330649,  0.170398,  0.117737,\n",
    "#         0.115771,  0.107222])\n",
    "# number_of_layers=46\n",
    "# a,b=lambda_evolve_fidelity_list(x_46)"
   ]
  },
  {
   "cell_type": "code",
   "execution_count": 19,
   "id": "999957dc-70dd-4f12-9774-e97ea0022fc0",
   "metadata": {
    "tags": []
   },
   "outputs": [],
   "source": [
    "Nfeval = 1\n",
    "filename = f'scipy_lambda_B_training_log_N={N}_B={B}_layers_{number_of_layers}.txt'\n",
    "def callback(intermediate_result):\n",
    "    global Nfeval\n",
    "    global energy_list\n",
    "    energy =intermediate_result.fun\n",
    "    # Print information\n",
    "    print(f'{Nfeval:4d}   Energy: {energy:.6f}')\n",
    "    \n",
    "    # Write information to a file\n",
    "    with open(filename, 'a') as f:\n",
    "        f.write(f'{energy:.6f},')\n",
    "    \n",
    "    Nfeval += 1"
   ]
  },
  {
   "cell_type": "code",
   "execution_count": 20,
   "id": "13f67cf1-0be7-4f93-af27-87d66a29be6b",
   "metadata": {},
   "outputs": [],
   "source": [
    "def exp_decay_guess_new(B_0, B_f, j):\n",
    "    tau = np.log(B_0 / B_f)\n",
    "    value = B_0 * np.exp(-j * tau / (number_of_layers - 1))  # Adjust for exact B_0 and B_f\n",
    "    return value\n",
    "\n",
    "# Parameters\n",
    "B_0 = 1                 # Initial value (starts here)\n",
    "B_f = 0.1               # Final value (ends here)\n",
    "# Generate B_guess using the new method\n",
    "layer_indices = np.arange(0, number_of_layers)  # Adjust indices to go from 0 to number_of_layers - 1\n",
    "B_guess = np.array([exp_decay_guess_new(B_0, B_f, j) for j in layer_indices])\n",
    "\n",
    "lambada_guess = np.random.uniform(1,2,number_of_layers)\n",
    "x = np.concatenate((lambada_guess, B_guess))\n",
    "\n",
    "######################################################################################################\n",
    "# the first len(number_of_layers) parameters are the lambda field parameter while the rest is for the B field "
   ]
  },
  {
   "cell_type": "code",
   "execution_count": 21,
   "id": "575b1204-3479-4ac0-848d-10e6d7b4ccca",
   "metadata": {
    "scrolled": true,
    "tags": []
   },
   "outputs": [
    {
     "name": "stdout",
     "output_type": "stream",
     "text": [
      "   1   Energy: -4.398952\n",
      "   2   Energy: -4.535576\n",
      "   3   Energy: -4.583663\n",
      "   4   Energy: -4.650343\n",
      "   5   Energy: -4.721795\n",
      "   6   Energy: -4.745749\n",
      "   7   Energy: -4.759519\n",
      "   8   Energy: -4.771771\n",
      "   9   Energy: -4.789429\n",
      "  10   Energy: -4.813039\n",
      "  11   Energy: -4.825057\n",
      "  12   Energy: -4.838619\n",
      "  13   Energy: -4.856074\n",
      "  14   Energy: -4.881077\n",
      "  15   Energy: -4.899299\n",
      "  16   Energy: -4.918554\n",
      "  17   Energy: -4.926403\n",
      "  18   Energy: -4.938882\n",
      "  19   Energy: -4.954262\n",
      "  20   Energy: -4.967545\n",
      "  21   Energy: -4.987659\n",
      "  22   Energy: -5.009708\n",
      "  23   Energy: -5.018771\n",
      "  24   Energy: -5.030076\n",
      "  25   Energy: -5.036031\n",
      "  26   Energy: -5.045060\n",
      "  27   Energy: -5.055228\n",
      "  28   Energy: -5.057305\n",
      "  29   Energy: -5.060667\n",
      "  30   Energy: -5.064449\n",
      "  31   Energy: -5.066430\n",
      "  32   Energy: -5.069556\n",
      "  33   Energy: -5.072574\n",
      "  34   Energy: -5.073247\n",
      "  35   Energy: -5.074251\n",
      "  36   Energy: -5.075540\n",
      "  37   Energy: -5.076887\n",
      "  38   Energy: -5.078068\n",
      "  39   Energy: -5.078757\n",
      "  40   Energy: -5.079364\n",
      "  41   Energy: -5.080161\n",
      "  42   Energy: -5.081169\n",
      "  43   Energy: -5.082379\n",
      "  44   Energy: -5.083709\n",
      "  45   Energy: -5.084996\n",
      "  46   Energy: -5.086522\n",
      "  47   Energy: -5.087239\n",
      "  48   Energy: -5.088111\n",
      "  49   Energy: -5.088849\n",
      "  50   Energy: -5.089425\n",
      "  51   Energy: -5.089618\n",
      "  52   Energy: -5.089862\n",
      "  53   Energy: -5.090132\n",
      "  54   Energy: -5.090299\n",
      "  55   Energy: -5.090466\n",
      "  56   Energy: -5.090712\n",
      "  57   Energy: -5.090962\n",
      "  58   Energy: -5.091130\n",
      "  59   Energy: -5.091230\n",
      "  60   Energy: -5.091316\n",
      "  61   Energy: -5.091395\n",
      "  62   Energy: -5.091467\n",
      "  63   Energy: -5.091551\n",
      "  64   Energy: -5.091642\n",
      "  65   Energy: -5.091772\n",
      "  66   Energy: -5.091965\n",
      "  67   Energy: -5.092200\n",
      "  68   Energy: -5.092388\n",
      "  69   Energy: -5.092522\n",
      "  70   Energy: -5.092566\n",
      "  71   Energy: -5.092593\n",
      "  72   Energy: -5.092612\n",
      "  73   Energy: -5.092625\n",
      "  74   Energy: -5.092640\n",
      "  75   Energy: -5.092658\n",
      "  76   Energy: -5.092687\n",
      "  77   Energy: -5.092731\n",
      "  78   Energy: -5.092769\n",
      "  79   Energy: -5.092791\n",
      "  80   Energy: -5.092803\n",
      "  81   Energy: -5.092808\n",
      "  82   Energy: -5.092811\n",
      "  83   Energy: -5.092812\n",
      "  84   Energy: -5.092813\n",
      "  85   Energy: -5.092813\n",
      "  86   Energy: -5.092813\n",
      "  87   Energy: -5.092814\n",
      "  88   Energy: -5.092815\n",
      "  89   Energy: -5.092815\n",
      "  90   Energy: -5.092816\n",
      "  91   Energy: -5.092816\n",
      "  92   Energy: -5.092816\n",
      "  93   Energy: -5.092816\n",
      "  94   Energy: -5.092816\n"
     ]
    }
   ],
   "source": [
    "# If one wish to run optim with bounds, the followings can do that with L-BFGS-B\n",
    "######################################################################################################\n",
    "# bounds =[]\n",
    "# for j in range(number_of_layers):\n",
    "#     bounds.append((0,4))\n",
    "# for j in range(number_of_layers):\n",
    "#     bounds.append((0,10))\n",
    "# result = scipy.optimize.minimize(lambda_evolve,x,method='L-BFGS-B',callback=lambda xk: callbackF(xk, x),tol=1e-30,bounds=bounds)\n",
    "\n",
    "######################################################################################################\n",
    "\n",
    "# In the paper, we mainly just use BFGS without bounds\n",
    "\n",
    "result = scipy.optimize.minimize(lambda_evolve,x,method='BFGS',callback=callback,options={'gtol': 1e-5})\n",
    "\n",
    "# the callback function will return energy value during each iteration "
   ]
  },
  {
   "cell_type": "code",
   "execution_count": 22,
   "id": "b2becfee-051a-4fa4-ae49-61b4abfef96d",
   "metadata": {},
   "outputs": [],
   "source": [
    "# Function to save the result into a file\n",
    "def save_result_to_file(result, filename):\n",
    "    with open(filename, 'w') as f:\n",
    "        f.write(f\"message: {result.message}\\n\")\n",
    "        f.write(f\"success: {result.success}\\n\")\n",
    "        f.write(f\"status: {result.status}\\n\")\n",
    "        f.write(f\"fun: {result.fun}\\n\")\n",
    "        f.write(f\"x: {result.x.tolist()}\\n\")\n",
    "        f.write(f\"nit: {result.nit}\\n\")\n",
    "        f.write(f\"jac: {result.jac.tolist()}\\n\")\n",
    "        f.write(f\"hess_inv: {result.hess_inv.tolist()}\\n\")\n",
    "        f.write(f\"nfev: {result.nfev}\\n\")\n",
    "        f.write(f\"njev: {result.njev}\\n\")\n",
    "\n",
    "# Save the result\n",
    "save_result_to_file(result,f'scipy_lambda_result_N={N}_B={B}_layers_{number_of_layers}.txt')"
   ]
  },
  {
   "cell_type": "code",
   "execution_count": 23,
   "id": "49a37dd0-9ba6-4b33-9bef-0e01ce083d45",
   "metadata": {},
   "outputs": [],
   "source": [
    "optim_fidelity_list, optim_inst_f_list = lambda_evolve_fidelity_list(result.x)"
   ]
  },
  {
   "cell_type": "code",
   "execution_count": 24,
   "id": "36907766-ea70-497f-aae8-1b977c719397",
   "metadata": {},
   "outputs": [
    {
     "data": {
      "text/plain": [
       "[<matplotlib.lines.Line2D at 0x23935f04650>]"
      ]
     },
     "execution_count": 24,
     "metadata": {},
     "output_type": "execute_result"
    },
    {
     "data": {
      "image/png": "[encoded data removed]",
      "text/plain": [
       "<Figure size 640x480 with 1 Axes>"
      ]
     },
     "metadata": {},
     "output_type": "display_data"
    }
   ],
   "source": [
    "# plot the fidelity during modulated time evolution \n",
    "plt.plot(optim_fidelity_list)"
   ]
  },
  {
   "cell_type": "code",
   "execution_count": 25,
   "id": "9e520a6d-213c-46c2-9919-a58e0465c4ac",
   "metadata": {},
   "outputs": [
    {
     "data": {
      "text/plain": [
       "[<matplotlib.lines.Line2D at 0x2393e7c3550>]"
      ]
     },
     "execution_count": 25,
     "metadata": {},
     "output_type": "execute_result"
    },
    {
     "data": {
      "image/png": "[encoded data removed]",
      "text/plain": [
       "<Figure size 640x480 with 1 Axes>"
      ]
     },
     "metadata": {},
     "output_type": "display_data"
    }
   ],
   "source": [
    "# plot the instantaneous fidelity during modulated time evolution \n",
    "plt.plot(optim_inst_f_list)"
   ]
  },
  {
   "cell_type": "code",
   "execution_count": null,
   "id": "c51cc37e-af2e-4861-8923-84dd427845df",
   "metadata": {},
   "outputs": [],
   "source": []
  }
 ],
 "metadata": {
  "kernelspec": {
   "display_name": "Python 3 (ipykernel)",
   "language": "python",
   "name": "python3"
  },
  "language_info": {
   "codemirror_mode": {
    "name": "ipython",
    "version": 3
   },
   "file_extension": ".py",
   "mimetype": "text/x-python",
   "name": "python",
   "nbconvert_exporter": "python",
   "pygments_lexer": "ipython3",
   "version": "3.11.5"
  }
 },
 "nbformat": 4,
 "nbformat_minor": 5
}
