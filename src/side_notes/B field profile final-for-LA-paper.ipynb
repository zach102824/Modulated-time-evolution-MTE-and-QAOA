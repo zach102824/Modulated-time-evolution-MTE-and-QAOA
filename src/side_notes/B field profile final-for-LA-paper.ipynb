{
 "cells": [
  {
   "cell_type": "code",
   "execution_count": 1,
   "metadata": {},
   "outputs": [],
   "source": [
    "import numpy as np\n",
    "from scipy.sparse.linalg import eigsh\n",
    "from numpy import linalg as LA\n",
    "from scipy.interpolate import Akima1DInterpolator\n",
    "import matplotlib\n",
    "import matplotlib.pyplot as plt\n",
    "import time\n",
    "from scipy import sparse\n",
    "import sys\n",
    "np.set_printoptions(precision=16)\n",
    "np.set_printoptions(threshold=sys.maxsize)\n",
    "start_time = time.time()\n",
    "# initialize variables\n",
    "N = 6   # NEED TO BE CHANGED FOR DIFFERENT N\n",
    "# Q is the dimension\n",
    "Q = pow(2, N)\n",
    "\n",
    "\n",
    "# decimal number to binary array function\n",
    "def D2B(num):\n",
    "    string = f'{num:1b}'\n",
    "    result = np.zeros(N - len(string), int)\n",
    "\n",
    "    for ele in string:\n",
    "        result = np.append(result, int(ele))\n",
    "\n",
    "    return result\n",
    "\n",
    "\n",
    "# binary array to decimal function\n",
    "def B2D(array):\n",
    "    res = 0\n",
    "    for ele in array:\n",
    "        res = (res << 1) | ele\n",
    "    return res"
   ]
  },
  {
   "cell_type": "code",
   "execution_count": 2,
   "metadata": {},
   "outputs": [],
   "source": [
    "# initialize J matrix\n",
    "J_matrix = np.zeros((N, N), dtype='float64')\n",
    "B = 0.01  # Initial B value, cannot be zero due to deg when B=0 \n",
    "\n",
    "'''\n",
    "\n",
    "J_value = 1\n",
    "J_matrix_alpha = 1\n",
    "for i in range(N):\n",
    "    for j in range(N):\n",
    "        if j >= (i + 1):\n",
    "            J_matrix[i][j] = J_value/pow(abs(i-j),J_matrix_alpha)\n",
    "\n",
    "'''\n",
    "\n",
    "\n",
    "J_matrix = 0.157552*np.array([[0,4.9640,2.6885,1.6748,1.1009,0.7214],[0,0,4.7138,2.7427,1.7331,1.1009],[0,0,0,4.6260,2.7427,1.6748],[0,0,0,0,4.7138,2.6885],[0,0,0,0,0,4.9640],[0,0,0,0,0,0]])\n",
    "\n",
    "J_value = np.max(J_matrix)"
   ]
  },
  {
   "cell_type": "code",
   "execution_count": null,
   "metadata": {},
   "outputs": [],
   "source": []
  },
  {
   "cell_type": "code",
   "execution_count": 3,
   "metadata": {},
   "outputs": [],
   "source": [
    "# initialize H matrix\n",
    "H_matrix = np.zeros((Q, Q), dtype='float64')\n",
    "\n",
    "# start fill in the elements for H matrix by looping all 2^N states\n",
    "\n",
    "for i in range(Q):\n",
    "    state = D2B(i)\n",
    "    spin = D2B(i)  # second copy for the non-diagonal elements to use\n",
    "    # loop over N sites to change the state vector to either 1 or -1\n",
    "    for j in range(N):\n",
    "        # 1 is spin down , 0 is spin up\n",
    "        if state[j] == 1:\n",
    "            state[j] = -1\n",
    "        else:\n",
    "            state[j] = 1\n",
    "    # now get the energy, loop all the sites and then pairs\n",
    "    e_tot = 0\n",
    "    for j in range(N):\n",
    "        for q in range(N):\n",
    "            e_temp = J_matrix[j][q] * state[j] * state[q]\n",
    "            e_tot = e_tot + e_temp\n",
    "\n",
    "    H_matrix[i][i] = e_tot\n",
    "\n",
    "    # start calculating non diagonal elements\n",
    "    for j in range(N):\n",
    "        if spin[j] == 1:\n",
    "            # if it's spin down, raise to spin up\n",
    "            spin[j] = 0\n",
    "            new_num = B2D(spin)\n",
    "            H_matrix[i][new_num] = B\n",
    "            # change it back for next operation\n",
    "            spin[j] = 1\n",
    "        else:\n",
    "            # if it's spin down, raise to spin up\n",
    "            spin[j] = 1\n",
    "            new_num = B2D(spin)\n",
    "            H_matrix[i][new_num] = B\n",
    "            # change it back for next operation\n",
    "            spin[j] = 0\n",
    "            \n",
    "## THERE SHOULD BE N*2^N B_values in the matrix "
   ]
  },
  {
   "cell_type": "code",
   "execution_count": 4,
   "metadata": {},
   "outputs": [],
   "source": [
    "i_list =[]\n",
    "j_list =[]\n",
    "for i in range(Q):\n",
    "    for j in range(Q):\n",
    "        if H_matrix[i][j] == 0.01:\n",
    "            i_list.append(i)\n",
    "            j_list.append(j)\n",
    "            \n"
   ]
  },
  {
   "cell_type": "code",
   "execution_count": null,
   "metadata": {},
   "outputs": [],
   "source": []
  },
  {
   "cell_type": "code",
   "execution_count": 5,
   "metadata": {},
   "outputs": [],
   "source": [
    "# for spatial reflection, just read the state array backward and we will have the new state \n",
    "spatial_sym = np.empty(Q,dtype=int)\n",
    "for i in range(Q):\n",
    "    before_sym = D2B(i)\n",
    "    after_sym = D2B(i) # to keep the same data format \n",
    "    for j in range(N):\n",
    "        after_sym[j] = before_sym[N-j-1]\n",
    "    spatial_num = int(B2D(after_sym))\n",
    "    #  create a list append the new index\n",
    "    spatial_sym[i]= spatial_num"
   ]
  },
  {
   "cell_type": "code",
   "execution_count": null,
   "metadata": {},
   "outputs": [],
   "source": []
  },
  {
   "cell_type": "code",
   "execution_count": 6,
   "metadata": {},
   "outputs": [],
   "source": [
    "# start looping for different B value \n",
    "dB=0.01\n",
    "B_not =  J_value*5 # the biggest value of B, change the sign if we change FM TO AFM \n",
    "times = int(abs((B_not-B)/dB))\n",
    "B_list = []\n",
    "delta_e_list = []\n",
    "for _ in range(0,times):\n",
    "    vals, vecs = LA.eigh(H_matrix)\n",
    "    vecs = np.transpose(vecs)\n",
    "    inx = np.argsort(vals)\n",
    "    # run sptaial reflection symmetry \n",
    "    new_state = np.empty(Q,dtype=complex)\n",
    "    # get gs parity \n",
    "    temp_vec = vecs[inx[0]]\n",
    "    for i in range(Q):\n",
    "        new_state[i]= temp_vec[spatial_sym[i]]\n",
    "    gs_parity_spatial = np.dot(temp_vec,new_state)\n",
    "    # loop first N+5 excited state to get spatial parity number , note, the parity value is not 1 or -1 when PBC is apply\n",
    "    couple_spatial_list = []\n",
    "    for k in range(1,N+10):\n",
    "        temp_vec = vecs[inx[k]]\n",
    "        for j in range(Q):\n",
    "            new_state[j]= temp_vec[spatial_sym[j]]\n",
    "        parity_spatial = np.dot(temp_vec,new_state)\n",
    "        #print('parity sptial is ',parity_spatial)\n",
    "        if parity_spatial*gs_parity_spatial >0:\n",
    "            couple_spatial_list.append(k)\n",
    "    couple_spatial_list = np.array(couple_spatial_list)\n",
    "    # run spin reflection symmetry \n",
    "    # get gs parity \n",
    "    temp_vec = vecs[inx[0]]\n",
    "    for a in range(Q):\n",
    "        new_state[a]= temp_vec[Q-1-a]\n",
    "    gs_parity_spin = np.dot(temp_vec,new_state)\n",
    "    # loop first N+5 excited state to get spin parity number\n",
    "    couple_spin_list = []\n",
    "    for c in range(1,N+10):\n",
    "        temp_vec = vecs[inx[c]]\n",
    "        for d in range(Q):\n",
    "            new_state[d]= temp_vec[Q-1-d]\n",
    "        parity_spin = np.dot(temp_vec,new_state)\n",
    "        #print('parity spin is', parity_spin)\n",
    "        if parity_spin*gs_parity_spin >0:\n",
    "            couple_spin_list.append(c)\n",
    "    couple_spin_list = np.array(couple_spin_list)\n",
    "    \n",
    "    first_couple = np.amin(np.intersect1d(couple_spatial_list,couple_spin_list))\n",
    "    #print(first_couple)\n",
    "    delta_enengy = vals[inx[first_couple]]- vals[inx[0]]\n",
    "    #print(delta_enengy)\n",
    "    delta_e_list.append(delta_enengy) \n",
    "    # update H matrix and B for next loop \n",
    "    H_matrix[H_matrix == B] = B+dB # AFM + , FM would be - , NEED CHANGE\n",
    "    B_list.append(B)\n",
    "    B = B + dB # AFM + , FM would be - , NEED CHANGE "
   ]
  },
  {
   "cell_type": "code",
   "execution_count": null,
   "metadata": {},
   "outputs": [],
   "source": []
  },
  {
   "cell_type": "code",
   "execution_count": 7,
   "metadata": {},
   "outputs": [],
   "source": [
    "# calculate delta energy value from  0 to 0.01\n",
    "B_nearzero_list=[]\n",
    "de_nearzero_list=[]\n",
    "H_matrix[H_matrix == B] = 0\n",
    "B= 0\n",
    "for _ in range(0,1): # change this 10 if we change dB\n",
    "    vals, vecs = LA.eigh(H_matrix)\n",
    "    inx = np.argsort(vals)\n",
    "    delta_enengy = vals[inx[3]]- vals[inx[0]]\n",
    "    # append values \n",
    "    de_nearzero_list.append(delta_enengy)\n",
    "    # update H matrix and B for next loop \n",
    "    H_matrix[H_matrix == B] = B+dB # AFM + , FM would be - , NEED CHANGE \n",
    "    B_nearzero_list.append(B)\n",
    "    B = B+dB # AFM + , FM would be - , NEED CHANGE "
   ]
  },
  {
   "cell_type": "code",
   "execution_count": 8,
   "metadata": {},
   "outputs": [],
   "source": [
    "B_nearzero_list = np.array(B_nearzero_list)\n",
    "de_nearzero_list = np.array(de_nearzero_list)\n",
    "# combine 2 lists together\n",
    "B_total_list = np.concatenate((B_nearzero_list, B_list))\n",
    "de_total_list = np.concatenate((de_nearzero_list, delta_e_list))"
   ]
  },
  {
   "cell_type": "code",
   "execution_count": null,
   "metadata": {},
   "outputs": [],
   "source": []
  },
  {
   "cell_type": "code",
   "execution_count": 9,
   "metadata": {},
   "outputs": [],
   "source": [
    "#plot_B_total_list =B_total_list/B_not\n",
    "plot_B_total_list =B_total_list\n",
    "#plot_de_total_list = de_total_list/B_not\n",
    "plot_de_total_list = de_total_list"
   ]
  },
  {
   "cell_type": "code",
   "execution_count": 10,
   "metadata": {},
   "outputs": [
    {
     "data": {
      "image/png": "[encoded data removed]",
      "text/plain": [
       "<Figure size 432x288 with 1 Axes>"
      ]
     },
     "metadata": {
      "needs_background": "light"
     },
     "output_type": "display_data"
    }
   ],
   "source": [
    "fig, ax = plt.subplots()\n",
    "ax.plot(plot_B_total_list, (plot_de_total_list.real))\n",
    "ax.set(xlabel='B (kHz)', ylabel=' E - E_gs (kHz) ')\n",
    "#ax.set_xlim(0,2)\n",
    "#ax.set_ylim(0,6)\n",
    "ax.grid()\n",
    "plt.show()"
   ]
  },
  {
   "cell_type": "code",
   "execution_count": null,
   "metadata": {},
   "outputs": [],
   "source": []
  },
  {
   "cell_type": "code",
   "execution_count": 11,
   "metadata": {},
   "outputs": [
    {
     "data": {
      "image/png": "[encoded data removed]",
      "text/plain": [
       "<Figure size 432x288 with 1 Axes>"
      ]
     },
     "metadata": {
      "needs_background": "light"
     },
     "output_type": "display_data"
    }
   ],
   "source": [
    "fig, ax = plt.subplots()\n",
    "ax.plot(plot_B_total_list/B_not, (plot_de_total_list.real)/B_not)\n",
    "ax.set(xlabel='B / B_0', ylabel=' E - E_gs/B_0 ')\n",
    "ax.set_xlim(0,0.2)\n",
    "ax.set_ylim(0,0.5)\n",
    "ax.grid()\n",
    "plt.show()"
   ]
  },
  {
   "cell_type": "code",
   "execution_count": 12,
   "metadata": {},
   "outputs": [
    {
     "name": "stdout",
     "output_type": "stream",
     "text": [
      "critical B value =  0.20000000000000004\n",
      "critical B/B0 value =  0.05114513130673684\n",
      "critical delta energy value =  0.29128524865158445\n"
     ]
    }
   ],
   "source": [
    "print('critical B value = ',plot_B_total_list[np.argmin(plot_de_total_list.real)])\n",
    "print('critical B/B0 value = ',plot_B_total_list[np.argmin(plot_de_total_list.real)]/B_not)\n",
    "print('critical delta energy value = ',np.min(plot_de_total_list.real))"
   ]
  },
  {
   "cell_type": "code",
   "execution_count": 13,
   "metadata": {},
   "outputs": [
    {
     "name": "stdout",
     "output_type": "stream",
     "text": [
      "t_f is  3.6579722476921273\n"
     ]
    }
   ],
   "source": [
    "# calculate t_f , total ramp time, set gamma to be 1\n",
    "gamma = 1\n",
    "#from scipy.integrate import simps\n",
    "one_over_delta_square = pow(1/ de_total_list,2)\n",
    "#t_f = gamma * simps(B_total_list, one_over_delta_square)\n",
    "t_f = gamma * np.trapz(one_over_delta_square,x= B_total_list)\n",
    "print('t_f is ', t_f)"
   ]
  },
  {
   "cell_type": "code",
   "execution_count": 14,
   "metadata": {},
   "outputs": [],
   "source": [
    "# create reverse B field and de list to calcualte t_c from B_not\n",
    "B_total_list_reversed = B_total_list[::-1]\n",
    "B_integrate = np.array([B_total_list_reversed[0]])\n",
    "one_over_delta_square_reversed = one_over_delta_square[::-1]\n",
    "one_over_delta_square_integrate = np.array([one_over_delta_square_reversed[0]])"
   ]
  },
  {
   "cell_type": "code",
   "execution_count": 15,
   "metadata": {},
   "outputs": [],
   "source": [
    "t_c_list = []\n",
    "for i in range(1,len(B_total_list_reversed)):\n",
    "    B_integrate = np.append(B_integrate,B_total_list_reversed[i])\n",
    "    one_over_delta_square_integrate =  np.append(one_over_delta_square_integrate,one_over_delta_square_reversed[i])\n",
    "    t_c = gamma * np.trapz(one_over_delta_square_integrate,x= B_integrate)\n",
    "    t_c_list.append(t_c)\n",
    "\n",
    "t_c_list = np.array(t_c_list)\n",
    "t_c_list = -t_c_list /t_f # negative sign is to put time into postive or we can change the integral limit before"
   ]
  },
  {
   "cell_type": "code",
   "execution_count": null,
   "metadata": {},
   "outputs": [],
   "source": []
  },
  {
   "cell_type": "code",
   "execution_count": 16,
   "metadata": {},
   "outputs": [],
   "source": [
    "# becauase len(t_c_list) is one less than len(B_total_list_reversed) \n",
    "# I created a new list with old B field range but len(t_c_list) numbere of points \n",
    "\n",
    "final_B_range = abs(np.amax(B_total_list) - np.amin(B_total_list))\n",
    "final_B = np.linspace(0, final_B_range , num=len(t_c_list), retstep=False)\n",
    "plot_final_B = final_B/ final_B_range\n",
    "plot_final_B = plot_final_B[::-1]"
   ]
  },
  {
   "cell_type": "code",
   "execution_count": null,
   "metadata": {},
   "outputs": [],
   "source": []
  },
  {
   "cell_type": "code",
   "execution_count": 17,
   "metadata": {},
   "outputs": [
    {
     "data": {
      "text/plain": [
       "Text(0, 0.5, 'B / B_0')"
      ]
     },
     "execution_count": 17,
     "metadata": {},
     "output_type": "execute_result"
    },
    {
     "data": {
      "image/png": "[encoded data removed]",
      "text/plain": [
       "<Figure size 432x288 with 1 Axes>"
      ]
     },
     "metadata": {
      "needs_background": "light"
     },
     "output_type": "display_data"
    }
   ],
   "source": [
    "plt.plot(t_c_list.real,plot_final_B)\n",
    "plt.xlabel('t / t_f')\n",
    "#plt.xlim(0,1)\n",
    "#plt.ylim(0,1)\n",
    "plt.xticks(np.arange(0, 1, step=0.1))\n",
    "plt.ylabel('B / B_0')"
   ]
  },
  {
   "cell_type": "code",
   "execution_count": 18,
   "metadata": {},
   "outputs": [
    {
     "name": "stdout",
     "output_type": "stream",
     "text": [
      "My program took 1.1995229721069336 to run\n"
     ]
    }
   ],
   "source": [
    "print(\"My program took\", time.time() - start_time, \"to run\") "
   ]
  },
  {
   "cell_type": "code",
   "execution_count": 19,
   "metadata": {},
   "outputs": [],
   "source": [
    "#np.array((t_c_list*t_f).real)"
   ]
  },
  {
   "cell_type": "code",
   "execution_count": 20,
   "metadata": {},
   "outputs": [],
   "source": [
    "#plot_final_B*final_B_range"
   ]
  },
  {
   "cell_type": "code",
   "execution_count": 21,
   "metadata": {},
   "outputs": [],
   "source": [
    "#time_list = np.array((t_c_list*t_f).real)\n",
    "time_list = np.array(t_c_list.real)"
   ]
  },
  {
   "cell_type": "code",
   "execution_count": 22,
   "metadata": {},
   "outputs": [],
   "source": [
    "B_list = np.array(plot_final_B)"
   ]
  },
  {
   "cell_type": "code",
   "execution_count": 23,
   "metadata": {},
   "outputs": [
    {
     "name": "stdout",
     "output_type": "stream",
     "text": [
      "dt =  0.0010009869551477562\n"
     ]
    }
   ],
   "source": [
    "# turn B into a function of t, so that we can just change B later but not t \n",
    "bi = Akima1DInterpolator(time_list, B_list)\n",
    "t_data_smooth = np.linspace(min(time_list), max(time_list), 1000)\n",
    "B_data_smooth = bi(t_data_smooth)\n",
    "dt = t_data_smooth[1]-t_data_smooth[0]\n",
    "print('dt = ',dt)"
   ]
  },
  {
   "cell_type": "code",
   "execution_count": 24,
   "metadata": {},
   "outputs": [
    {
     "data": {
      "image/png": "[encoded data removed]",
      "text/plain": [
       "<Figure size 432x288 with 1 Axes>"
      ]
     },
     "metadata": {
      "needs_background": "light"
     },
     "output_type": "display_data"
    },
    {
     "name": "stdout",
     "output_type": "stream",
     "text": [
      "critical B/B0 value is  0.05271255589233683\n"
     ]
    }
   ],
   "source": [
    "plt.plot(B_data_smooth,-np.gradient(B_data_smooth,t_data_smooth))\n",
    "plt.xlim(0,0.2)\n",
    "plt.ylim(0,1.4)\n",
    "plt.show()\n",
    "print('critical B/B0 value is ', B_data_smooth[np.argmin(-np.gradient(B_data_smooth,t_data_smooth))])"
   ]
  }
 ],
 "metadata": {
  "kernelspec": {
   "display_name": "Python 3 (ipykernel)",
   "language": "python",
   "name": "python3"
  },
  "language_info": {
   "codemirror_mode": {
    "name": "ipython",
    "version": 3
   },
   "file_extension": ".py",
   "mimetype": "text/x-python",
   "name": "python",
   "nbconvert_exporter": "python",
   "pygments_lexer": "ipython3",
   "version": "3.11.5"
  }
 },
 "nbformat": 4,
 "nbformat_minor": 4
}
