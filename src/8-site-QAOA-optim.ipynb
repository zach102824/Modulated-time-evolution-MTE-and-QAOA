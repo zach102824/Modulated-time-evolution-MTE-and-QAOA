{
 "cells": [
  {
   "cell_type": "markdown",
   "id": "37158898-c68c-4c59-9e98-ef6ac7eae859",
   "metadata": {},
   "source": [
    "Parameters used in the code:\n",
    "\n",
    "N: Number of sites in the transverse field Ising model.\n",
    "\n",
    "This code optimizes only 8 sites because we are using SciPy with a CPU, which is slow but suitable for a toy model.\n",
    "\n",
    "B: B-field value for the target Hamiltonian, which can be zero or non-zero.\n",
    "\n",
    "J_value: J coupling strength.\n",
    "\n",
    "J_matrix_alpha: Power-law decay constant.\n",
    "\n",
    "x: the best field used in modulated time evolution, the first half is $\\lambda (t)$ while the second half is $B(t)$\n",
    "\n",
    "number_of_layers: The number of steps in the modulated time evolution.\n",
    "\n",
    "final output file name is, f'scipy_QAOA_result_N={N}_B={B}_layers_{len(flattened_new_x_A_list)}.txt'\n"
   ]
  },
  {
   "cell_type": "code",
   "execution_count": 1,
   "id": "71836bdc-4533-4ba9-8e08-ce340283ee0c",
   "metadata": {},
   "outputs": [
    {
     "name": "stdout",
     "output_type": "stream",
     "text": [
      "number of layers in MTE is 10\n"
     ]
    }
   ],
   "source": [
    "import numpy as np\n",
    "# initialize variables\n",
    "N = 8\n",
    "B = 0.1    \n",
    "J_value = 1\n",
    "J_matrix_alpha = 1\n",
    "x = np.array([0.481648640320813, 0.6392949356754583, 0.4649781516823971, 0.6518475128577886, 0.7955844634336527, 0.9787585633033431, 2.01698576701233, 2.841485170761013, 1.452539894644007, 1.2302090688738114, 7.418158051701331, 3.0226608991375126, 1.3673757532433595, 0.7605554646391439, 0.5852122130608153, 0.504743518139635, 0.43352984765388014, 0.3706165784075941, 0.27863901585784, 0.1851910325406766 ])\n",
    "number_of_layers=len(x)//2\n",
    "print('number of layers in MTE is',number_of_layers)\n",
    "#######################################################'\n",
    "# example use here is the case where we trotter a 10 layers MTE to 30,40 or 50 layers QAOA"
   ]
  },
  {
   "cell_type": "code",
   "execution_count": 2,
   "id": "07cb000c-4018-47fb-9edd-9560d594fa91",
   "metadata": {
    "id": "07cb000c-4018-47fb-9edd-9560d594fa91",
    "jupyter": {
     "source_hidden": true
    },
    "tags": []
   },
   "outputs": [],
   "source": [
    "from scipy.sparse.linalg import eigs\n",
    "from numpy import linalg as LA\n",
    "from scipy.interpolate import Akima1DInterpolator\n",
    "from scipy.linalg import expm\n",
    "import time\n",
    "from scipy import sparse\n",
    "import matplotlib.pyplot as plt\n",
    "import pandas\n",
    "import scipy\n",
    "np.set_printoptions(precision=6)\n",
    "# Q is the dimension\n",
    "Q = pow(2, N)\n",
    "# decimal number to binary array function\n",
    "def D2B(num):\n",
    "    string = f'{num:1b}'\n",
    "    result = np.zeros(N - len(string), int)\n",
    "\n",
    "    for ele in string:\n",
    "        result = np.append(result, int(ele))\n",
    "\n",
    "    return result\n",
    "\n",
    "# decimal number to binary array function\n",
    "def D2B_with_digit(num,digit):\n",
    "    string = f'{num:1b}'\n",
    "    result = np.zeros(digit - len(string), int)\n",
    "\n",
    "    for ele in string:\n",
    "        result = np.append(result, int(ele))\n",
    "\n",
    "    return result\n",
    "\n",
    "# binary array to decimal function\n",
    "def B2D(array):\n",
    "    res = 0\n",
    "    for ele in array:\n",
    "        res = (res << 1) | ele\n",
    "    return res\n",
    "\n",
    "def spin_reflection(array):\n",
    "    new_array = np.zeros(len(array),dtype=int)\n",
    "    for i in range(len(array)):\n",
    "        if array[i] == 1:\n",
    "            new_array[i] = 0\n",
    "        else:\n",
    "            new_array[i] = 1\n",
    "    return new_array\n",
    "\n",
    "def spatial_reflection(array):\n",
    "    new_array = array[::-1]\n",
    "    return new_array\n",
    "\n",
    "# start my main function\n",
    "\n",
    "# initialize J matrix\n",
    "J_matrix = np.zeros((N, N), dtype='float64')\n",
    "for i in range(N):\n",
    "    for j in range(N):\n",
    "        if j >= (i + 1):\n",
    "            J_matrix[i][j] = J_value/pow(abs(i-j),J_matrix_alpha)\n",
    "\n"
   ]
  },
  {
   "cell_type": "code",
   "execution_count": 3,
   "id": "fb959cdc-f080-4f95-ac20-bc2869107517",
   "metadata": {
    "id": "fb959cdc-f080-4f95-ac20-bc2869107517",
    "jupyter": {
     "source_hidden": true
    },
    "tags": []
   },
   "outputs": [],
   "source": [
    "def get_energy(H_matrix,state):\n",
    "\n",
    "    a = np.dot(H_matrix,state)\n",
    "    energy = np.dot(np.conjugate(state),a).real\n",
    "\n",
    "    return energy\n",
    "\n",
    "def get_fidelity(gs,state):\n",
    "\n",
    "    dp = np.dot(gs,state) # dp is dot product\n",
    "    #print(dp)\n",
    "    dp_cc = np.conjugate(dp)     # the complex conjucate of the dot product\n",
    "    return (dp*dp_cc).real\n",
    "\n"
   ]
  },
  {
   "cell_type": "code",
   "execution_count": 4,
   "id": "0a6aadaf-a0d9-4a97-be0e-c10fcc207179",
   "metadata": {
    "id": "0a6aadaf-a0d9-4a97-be0e-c10fcc207179",
    "jupyter": {
     "source_hidden": true
    },
    "tags": []
   },
   "outputs": [],
   "source": [
    "# start to get what product states are having the same symmtries\n",
    "loop_state_list = np.linspace(0,Q-1,num=Q,dtype=int)\n",
    "\n",
    "couple_state_matrix = []\n",
    "sign_matrix = []\n",
    "# this is the final result for the states to consctruct basis\n",
    "\n",
    "for n in range(Q):  # n is an unused index\n",
    "\n",
    "    # couple_num_list would be my result for each state we loop\n",
    "\n",
    "    if len(loop_state_list)!=0: # loop for couple number for one state\n",
    "\n",
    "        couple_num_list = [] # this is the list to store all the number that couple to the number we are looping\n",
    "        couple_num_list = np.array(couple_num_list, dtype=int)\n",
    "        state_num = loop_state_list[0]\n",
    "        couple_num_list = np.append(couple_num_list,state_num)\n",
    "\n",
    "        for m in range(Q): # loop for spin and spatial for all states inside the couple number list\n",
    "\n",
    "            if m==0:\n",
    "\n",
    "                couple_num_list_old =couple_num_list\n",
    "\n",
    "                for i in range(len(couple_num_list)):\n",
    "                    number = couple_num_list[i]\n",
    "                    array = D2B(number)\n",
    "\n",
    "                    # spin reflection\n",
    "                    spin_relfection_array = spin_reflection(array)\n",
    "                    spin_number = B2D(spin_relfection_array)\n",
    "                    couple_num_list =np.append(couple_num_list,spin_number)\n",
    "\n",
    "\n",
    "\n",
    "                    # spatial reflection\n",
    "                    spatial_relfection_array = spatial_reflection(array)\n",
    "                    spatial_number = B2D(spatial_relfection_array)\n",
    "                    couple_num_list =np.append(couple_num_list,spatial_number)\n",
    "\n",
    "                    # remove the repeated element\n",
    "                    couple_num_list = np.unique(couple_num_list)\n",
    "            else:\n",
    "\n",
    "                if len(couple_num_list_old) != len(couple_num_list):\n",
    "                    # update couple_num_list_old first\n",
    "                    couple_num_list_old =couple_num_list\n",
    "\n",
    "                    for i in range(len(couple_num_list)):\n",
    "                        number = couple_num_list[i]\n",
    "                        array = D2B(number)\n",
    "\n",
    "                        # spin reflection\n",
    "                        spin_relfection_array = spin_reflection(array)\n",
    "                        spin_number = B2D(spin_relfection_array)\n",
    "                        couple_num_list =np.append(couple_num_list,spin_number)\n",
    "\n",
    "\n",
    "                        # spatial reflection\n",
    "                        spatial_relfection_array = spatial_reflection(array)\n",
    "                        spatial_number = B2D(spatial_relfection_array)\n",
    "                        couple_num_list = np.append(couple_num_list,spatial_number)\n",
    "\n",
    "                        # remove the repeated element\n",
    "                        couple_num_list = np.unique(couple_num_list)\n",
    "\n",
    "        # now we have final couple_num_list\n",
    "        couple_state_matrix.append(couple_num_list.tolist())\n",
    "\n",
    "        # remove the ones already found\n",
    "        for j in range(len(couple_num_list)):\n",
    "            loop_state_list = np.delete(loop_state_list, np.where(loop_state_list ==couple_num_list[j] ))\n",
    "\n",
    "\n"
   ]
  },
  {
   "cell_type": "code",
   "execution_count": 5,
   "id": "0bb06925-d998-4d50-81c2-3358156f548f",
   "metadata": {
    "id": "0bb06925-d998-4d50-81c2-3358156f548f",
    "jupyter": {
     "source_hidden": true
    },
    "tags": []
   },
   "outputs": [],
   "source": [
    "# now we want to decide the sign for each term\n",
    "\n",
    "for i in range(len(couple_state_matrix)):\n",
    "#for i in range(1,2):\n",
    "\n",
    "    state_num = couple_state_matrix[i]\n",
    "    #print(state_num)\n",
    "\n",
    "    # get spin & spatial reflection array without sign\n",
    "    spin_num_array = np.zeros(len(state_num),dtype=int)\n",
    "    spatial_num_array = np.zeros(len(state_num),dtype=int)\n",
    "\n",
    "    for j in range(len(state_num)):\n",
    "\n",
    "        array = D2B(state_num[j])\n",
    "\n",
    "        # spin reflection\n",
    "        spin_relfection_array = spin_reflection(array)\n",
    "        spin_number = B2D(spin_relfection_array)\n",
    "        spin_num_array[j] = spin_number\n",
    "        #print(spin_num_array)\n",
    "\n",
    "        # spatial reflection\n",
    "        spatial_relfection_array = spatial_reflection(array)\n",
    "        spatial_number = B2D(spatial_relfection_array)\n",
    "        spatial_num_array[j] = spatial_number\n",
    "        #print(spatial_num_array)\n",
    "\n",
    "\n",
    "    # loop all possbie sign\n",
    "\n",
    "    state_number_length = len(state_num)\n",
    "    for j in range( pow(2,state_number_length) ):\n",
    "\n",
    "        sign_array = D2B_with_digit(j,state_number_length)\n",
    "\n",
    "        # convert it into 1 or -1\n",
    "\n",
    "        for k in range(len(sign_array)):\n",
    "            # the choice for sign here does not matter since we only the right + and -, what number it's is fine\n",
    "            if sign_array[k] == 1:\n",
    "                sign_array[k] = -1\n",
    "            else:\n",
    "                sign_array[k] = 1\n",
    "\n",
    "        # combine signs on the reflection array sort is for comparison only\n",
    "\n",
    "        temp_spin_num = spin_num_array * sign_array\n",
    "        temp_spin_num = np.sort(temp_spin_num)\n",
    "        #print(temp_spin_num)\n",
    "\n",
    "        temp_spatial_num = spatial_num_array * sign_array\n",
    "        temp_spatial_num =np.sort(temp_spatial_num)\n",
    "\n",
    "        # combine the sign for the orginal state number array\n",
    "\n",
    "        #temp_spin_b4_num = state_num * sign_array * -1   # this one is for odd parity\n",
    "        temp_spin_b4_num = state_num * sign_array\n",
    "        temp_spin_b4_num = np.sort(temp_spin_b4_num)\n",
    "\n",
    "        #temp_spatial_b4_num = state_num * sign_array * -1 # this one is for odd parity\n",
    "        temp_spatial_b4_num = state_num * sign_array\n",
    "        temp_spatial_b4_num = np.sort(temp_spatial_b4_num)\n",
    "\n",
    "\n",
    "        # check the parity here\n",
    "        if np.array_equal(temp_spin_num,temp_spin_b4_num):\n",
    "\n",
    "            if np.array_equal(temp_spatial_num,temp_spatial_b4_num):\n",
    "                if sign_array[0]==1: # just so to pick out the positive ones since all negatives would also work\n",
    "                    sign_matrix.append(sign_array.tolist())\n",
    "\n"
   ]
  },
  {
   "cell_type": "code",
   "execution_count": 6,
   "id": "bc0acdbe-5e19-4358-abdb-19490c8d74ae",
   "metadata": {
    "id": "bc0acdbe-5e19-4358-abdb-19490c8d74ae",
    "jupyter": {
     "source_hidden": true
    },
    "tags": []
   },
   "outputs": [],
   "source": [
    "# initialize H matrix\n",
    "couple_dimen = len(couple_state_matrix)\n",
    "\n",
    "HA_matrix = np.zeros((couple_dimen, couple_dimen), dtype='float64')\n",
    "HB_matrix = np.zeros((couple_dimen, couple_dimen), dtype='float64')"
   ]
  },
  {
   "cell_type": "code",
   "execution_count": 7,
   "id": "c4ab9342-e60b-44b3-bdb9-22c65ab1dee2",
   "metadata": {
    "id": "c4ab9342-e60b-44b3-bdb9-22c65ab1dee2",
    "jupyter": {
     "source_hidden": true
    },
    "tags": []
   },
   "outputs": [],
   "source": [
    "# loop each basis to fill in the diagonal elements for HA matrix\n",
    "\n",
    "for i in range(couple_dimen):\n",
    "\n",
    "    state_array = np.array( couple_state_matrix[i] )\n",
    "\n",
    "    # loop each element inside the array\n",
    "    normalization = len(state_array)\n",
    "\n",
    "    # energy total for all the product states inside one basis\n",
    "\n",
    "    e_tot = 0\n",
    "    for j in range(len(state_array)):\n",
    "\n",
    "        state = D2B(state_array[j])\n",
    "\n",
    "        # loop over N sites to change the state vector to either 1 or -1\n",
    "\n",
    "        for k in range(N):\n",
    "            # 1 is spin down , 0 is spin up\n",
    "            if state[k] == 1:\n",
    "                state[k] = -1\n",
    "            else:\n",
    "                state[k] = 1\n",
    "\n",
    "        # now get the energy, loop all the sites and then pairs\n",
    "\n",
    "        for m in range(N):\n",
    "            for q in range(N):\n",
    "                e_temp = J_matrix[m][q] * state[m] * state[q]\n",
    "                e_tot = e_tot + e_temp\n",
    "\n",
    "    HA_matrix[i][i] = e_tot/normalization"
   ]
  },
  {
   "cell_type": "code",
   "execution_count": 8,
   "id": "504fc82d-599c-452d-960b-540b4a1ef4c1",
   "metadata": {
    "id": "504fc82d-599c-452d-960b-540b4a1ef4c1",
    "jupyter": {
     "source_hidden": true
    },
    "tags": []
   },
   "outputs": [],
   "source": [
    "# generate vector form for each basis\n",
    "vector_form_basis_matrix = np.zeros((couple_dimen,Q))\n",
    "\n",
    "for i in range(couple_dimen):\n",
    "\n",
    "    state_array = np.array( couple_state_matrix[i] )\n",
    "    normalization = np.sqrt(len(state_array))\n",
    "\n",
    "    for j in state_array:\n",
    "        vector_form_basis_matrix[i][j] = 1\n",
    "\n",
    "    # put back normalization factor\n",
    "    vector_form_basis_matrix[i] = vector_form_basis_matrix[i]/normalization\n",
    "\n"
   ]
  },
  {
   "cell_type": "code",
   "execution_count": 9,
   "id": "bb008183-6972-46e7-91fa-97cd7797b695",
   "metadata": {
    "id": "bb008183-6972-46e7-91fa-97cd7797b695",
    "jupyter": {
     "source_hidden": true
    },
    "tags": []
   },
   "outputs": [],
   "source": [
    "# loop each basis to fill in HB matrix\n",
    "\n",
    "for i in range(couple_dimen):\n",
    "\n",
    "    state_array = np.array( couple_state_matrix[i] )\n",
    "\n",
    "    # this is the actual normalization unlike before since it will couple to some other states\n",
    "    # so it can not be like just the square like we did before\n",
    "    normalization = np.sqrt(len(state_array))\n",
    "\n",
    "    # loop each product state to generate N other states, i.e. generaete the state after operator acting on it\n",
    "    result_num_list = []\n",
    "    result_num_list = np.array(result_num_list,dtype=int)\n",
    "    for k in range(len(state_array)):\n",
    "\n",
    "        spin = D2B(state_array[k])\n",
    "\n",
    "        # start fliping the spins\n",
    "        for j in range(N):\n",
    "            if spin[j] == 1:\n",
    "                # if it's spin down, raise to spin up\n",
    "                spin[j] = 0\n",
    "                new_num = B2D(spin)\n",
    "                result_num_list = np.append(result_num_list,new_num)\n",
    "                # change it back for next operation\n",
    "                spin[j] = 1\n",
    "            else:\n",
    "                # if it's spin down, raise to spin up\n",
    "                spin[j] = 1\n",
    "                new_num = B2D(spin)\n",
    "                result_num_list = np.append(result_num_list,new_num)\n",
    "                # change it back for next operation\n",
    "                spin[j] = 0\n",
    "\n",
    "\n",
    "    # generate the vector form for the state after operrator acting on it\n",
    "\n",
    "    vector_final_state = np.zeros(Q)\n",
    "\n",
    "    for j in result_num_list:\n",
    "        vector_final_state[j] = vector_final_state[j] +1\n",
    "\n",
    "    # put back normalization factor\n",
    "    vector_final_state = vector_final_state/normalization\n",
    "\n",
    "    # calculate dot product to put into inside the matrix\n",
    "    for j in range(couple_dimen):\n",
    "\n",
    "        dot_product = np.dot(vector_final_state,vector_form_basis_matrix[j])\n",
    "        HB_matrix[i][j] = dot_product"
   ]
  },
  {
   "cell_type": "code",
   "execution_count": 10,
   "id": "4a5a615f-4bba-4115-adac-33388d311370",
   "metadata": {
    "id": "4a5a615f-4bba-4115-adac-33388d311370",
    "tags": []
   },
   "outputs": [],
   "source": [
    "# get true ground state\n",
    "w, v = LA.eigh(HA_matrix + B* HB_matrix)\n",
    "inx = np.argsort(w)\n",
    "true_gs_vec = v[:, inx[0]]\n",
    "E_max = w[-1]\n",
    "gs_energy =w[0]"
   ]
  },
  {
   "cell_type": "code",
   "execution_count": 11,
   "id": "ecacef1f-cf97-46d1-a321-bc30a7c23c16",
   "metadata": {
    "id": "ecacef1f-cf97-46d1-a321-bc30a7c23c16",
    "tags": []
   },
   "outputs": [],
   "source": [
    "# get  ground state with numerically infinite large B field\n",
    "w, v = LA.eigh(HB_matrix)\n",
    "inx = np.argsort(w)\n",
    "temp_vec = v[:, inx[0]] # the index here could be zero or one, depending on the parity\n",
    "# but if the wrong index will always give roughly zero fidelity"
   ]
  },
  {
   "cell_type": "code",
   "execution_count": 12,
   "id": "e0a9cbca-d47e-4c50-b045-dfc00747188b",
   "metadata": {
    "id": "e0a9cbca-d47e-4c50-b045-dfc00747188b",
    "tags": []
   },
   "outputs": [
    {
     "name": "stdout",
     "output_type": "stream",
     "text": [
      "fidelity before optim is 0.016242148889510737\n"
     ]
    }
   ],
   "source": [
    "# get initial fidelity\n",
    "fidelity_t_0 = get_fidelity(temp_vec,true_gs_vec)\n",
    "print('fidelity before optim is', fidelity_t_0)"
   ]
  },
  {
   "cell_type": "code",
   "execution_count": 13,
   "id": "49911cb8-8e6e-40ad-981a-71c779529a46",
   "metadata": {
    "id": "49911cb8-8e6e-40ad-981a-71c779529a46",
    "tags": []
   },
   "outputs": [],
   "source": [
    "target_H = np.copy(HA_matrix + B* HB_matrix)"
   ]
  },
  {
   "cell_type": "markdown",
   "id": "4912d6f5-49ae-41e3-bcab-820e34eb2fc3",
   "metadata": {},
   "source": [
    "The following cell computes the energy and fidelity using the input x in MTE form, serving as a check to ensure the input is correct."
   ]
  },
  {
   "cell_type": "code",
   "execution_count": 14,
   "id": "b2e74f53-96c8-4dff-b0a3-47725ac22589",
   "metadata": {
    "id": "b2e74f53-96c8-4dff-b0a3-47725ac22589",
    "tags": []
   },
   "outputs": [
    {
     "name": "stdout",
     "output_type": "stream",
     "text": [
      "energy is -5.09253144812376\n",
      "fidelity is 0.9907158367082259\n"
     ]
    }
   ],
   "source": [
    "def lambda_evolve(x_A,x_B):\n",
    "    # x_A = x[:number_of_layers]\n",
    "    # x_B = x[number_of_layers:]\n",
    "    global fidelity\n",
    "\n",
    "    # final_fidelity_list =[]\n",
    "    # final_fidelity_list.append(fidelity_t_0)\n",
    "\n",
    "    # product state\n",
    "    p = temp_vec  # p stands for product\n",
    "\n",
    "     # loop each time step\n",
    "    for i in range(number_of_layers):\n",
    "\n",
    "        H_matrix = x_A[i]*HA_matrix + x_B[i]*HB_matrix\n",
    "        exp_imgH_matrix = expm( 1*1j*H_matrix )\n",
    "        new_p = np.dot(exp_imgH_matrix,p)\n",
    "        # update state\n",
    "        p = new_p\n",
    "\n",
    "        # get fidelity\n",
    "        #fidelity = get_fidelity(true_gs_vec,p)\n",
    "        # print('fidelity is ',fidelity)\n",
    "        # get energy\n",
    "        energy = get_energy(target_H,p)\n",
    "\n",
    "    fidelity = get_fidelity(true_gs_vec,p)\n",
    "    #print(energy)\n",
    "    #return -1*fidelity\n",
    "    return energy\n",
    "    \n",
    "########################################################\n",
    "x_A = x[:number_of_layers]\n",
    "\n",
    "x_B = x[number_of_layers:]*x_A\n",
    "\n",
    "print('energy is',lambda_evolve(x_A,x_B))\n",
    "print('fidelity is',fidelity)\n",
    "########################################################"
   ]
  },
  {
   "cell_type": "code",
   "execution_count": 15,
   "id": "13db7303-c8a2-4dc4-9135-a5a994855c5e",
   "metadata": {
    "tags": []
   },
   "outputs": [],
   "source": [
    "def lambda_evolve_qaoa_for_optim(x): \n",
    "    location =(len(x)//2+1)\n",
    "    x_A = x[:location]\n",
    "    x_B = x[location:]\n",
    "    #print(x_A,x_B)\n",
    "    global fidelity\n",
    "\n",
    "    # final_fidelity_list =[]\n",
    "    # final_fidelity_list.append(fidelity_t_0)\n",
    "\n",
    "    # product state\n",
    "    p = temp_vec  # p stands for product\n",
    "\n",
    "     # loop each time step\n",
    "    number_of_layers = len(x_B)\n",
    "    if len(x_A) == len(x_B):\n",
    "        \n",
    "        for i in range(number_of_layers):\n",
    "\n",
    "\n",
    "            exp_imgHA_matrix = expm( HA_matrix * 1j * x_A[i])\n",
    "            exp_imgHB_matrix = expm( HB_matrix * 1j * x_B[i])\n",
    "            #print(x[i],x[i+number_of_layers])\n",
    "\n",
    "            H_eff = exp_imgHB_matrix @ exp_imgHA_matrix\n",
    "            new_p = np.dot(H_eff,p)\n",
    "            # update state\n",
    "            p = new_p\n",
    "            \n",
    "    else:\n",
    "        \n",
    "        for i in range(number_of_layers):\n",
    "            exp_imgHA_matrix = expm( HA_matrix * 1j * x_A[i])\n",
    "            exp_imgHB_matrix = expm( HB_matrix * 1j * x_B[i])\n",
    "            #print(x[i],x[i+number_of_layers])\n",
    "\n",
    "            H_eff = exp_imgHB_matrix @ exp_imgHA_matrix\n",
    "            new_p = np.dot(H_eff,p)\n",
    "            # update state\n",
    "            p = new_p\n",
    "            \n",
    "        ## the extra x_A\n",
    "        \n",
    "        exp_imgHA_matrix = expm( HA_matrix * 1j * x_A[-1])\n",
    "        new_p = np.dot(exp_imgHA_matrix,p)\n",
    "        # update state\n",
    "        p = new_p\n",
    "            \n",
    "    energy = get_energy(target_H,p)\n",
    "    fidelity = get_fidelity(true_gs_vec,p)\n",
    "    #print(fidelity)\n",
    "    return energy"
   ]
  },
  {
   "cell_type": "markdown",
   "id": "ed96aabe-c70b-4791-b9e2-850c2981d231",
   "metadata": {},
   "source": [
    "The following data is from \" Quantum Approximate Optimization of the Long-Range Ising Model with a Trapped-Ion Quantum Simulator \" (https://doi.org/10.1073/pnas.2006373117). \n",
    "\n",
    "This QAOA calculation is used to verify that the code is functioning correctly and for comparison purposes\r\n",
    "\""
   ]
  },
  {
   "cell_type": "code",
   "execution_count": 16,
   "id": "a6673397-f3ea-4da6-95d5-fb5e3fe52016",
   "metadata": {},
   "outputs": [],
   "source": [
    "def lambda_evolve_qaoa_even(x): \n",
    "    location =(len(x)//2)\n",
    "    x_A = x[:location]\n",
    "    x_B = x[location:]\n",
    "    global fidelity\n",
    "\n",
    "    # product state\n",
    "    p = temp_vec  # p stands for product\n",
    "     # loop each time step\n",
    "    number_of_layers = len(x_B)\n",
    "    for i in range(number_of_layers):\n",
    "        exp_imgHA_matrix = expm( HA_matrix * 1j * x_A[i])\n",
    "        exp_imgHB_matrix = expm( HB_matrix * 1j * x_B[i])\n",
    "        #print(x[i],x[i+number_of_layers])\n",
    "\n",
    "        H_eff = exp_imgHB_matrix @ exp_imgHA_matrix\n",
    "        new_p = np.dot(H_eff,p)\n",
    "        # update state\n",
    "        p = new_p\n",
    "            \n",
    "    energy = get_energy(target_H,p)\n",
    "    fidelity = get_fidelity(true_gs_vec,p)\n",
    "    print('fidelity is',fidelity)\n",
    "    print('energy is',energy)"
   ]
  },
  {
   "cell_type": "code",
   "execution_count": 17,
   "id": "9115ab73-f31e-4386-af3e-e21ba78b8689",
   "metadata": {},
   "outputs": [
    {
     "name": "stdout",
     "output_type": "stream",
     "text": [
      "fidelity is 0.9966767042784\n",
      "energy is -5.091138724905807\n"
     ]
    }
   ],
   "source": [
    "## umd data\n",
    "########################################################\n",
    "x_umd= np.array([0.087237, 0.194123, 0.226874, 0.334604, 0.377018, 0.291042,\n",
    "       0.344082, 0.421822, 0.285563, 0.388708, 0.502747, 0.434695,\n",
    "       0.256231, 0.503005, 0.569938, 0.591628, 0.605003, 0.598513,\n",
    "       0.608654, 0.633627, 0.631977, 0.637611, 0.649737, 0.676677,\n",
    "       0.676464, 0.696663, 0.67259 , 0.669361, 0.687002, 0.692227,0.554162, 0.361565, 0.344897, 0.353104, 0.276663, 0.196081,\n",
    "       0.264926, 0.231466, 0.164323, 0.265755, 0.260146, 0.146398,\n",
    "       0.189163, 0.266257, 0.27309 , 0.265409, 0.260555, 0.257791,\n",
    "       0.262728, 0.252066, 0.238607, 0.229575, 0.210981, 0.20255 ,\n",
    "       0.183635, 0.173964, 0.136015, 0.127602, 0.1123  , 0.057738])\n",
    "########################################################\n",
    "\n",
    "# Because QAOA angles in this work has an extra exp( HA_matrix * 1j * theta) factor, calculate QAOA angles in umd work need to use lambda_evolve_qaoa_even fucntion \n",
    "lambda_evolve_qaoa_even(x_umd)"
   ]
  },
  {
   "cell_type": "code",
   "execution_count": 18,
   "id": "ef673afb-34c5-4e21-90b6-1eab38b06c79",
   "metadata": {
    "tags": []
   },
   "outputs": [],
   "source": [
    "def get_expand_amps(gamma,beta,layers):\n",
    "    \n",
    "    if layers ==1:\n",
    "        gamma_series = np.array([gamma/2,gamma/2])\n",
    "        beta_series = np.array([beta])\n",
    "        \n",
    "    else:\n",
    "        gamma_series = np.ones(layers-1)*(gamma/layers)\n",
    "        # Add an element to the first index\n",
    "        gamma_series = np.insert(gamma_series,0,(gamma/(2*layers)))\n",
    "        gamma_series = np.insert(gamma_series,len(gamma_series),(gamma/(2*layers)))\n",
    "        \n",
    "        beta_series = np.ones(layers)*(beta/layers) # plus one for the first one \n",
    "    \n",
    "    return gamma_series,beta_series"
   ]
  },
  {
   "cell_type": "code",
   "execution_count": 19,
   "id": "87d40075-4bfa-45cb-88ba-0e4624bf445a",
   "metadata": {
    "tags": []
   },
   "outputs": [],
   "source": [
    "def find_m(a, b, max_ratio):\n",
    "    \n",
    "    a = np.abs(a)\n",
    "    b =np.abs(b)\n",
    "    \n",
    "    # Start with an initial value for m\n",
    "    m = 1\n",
    "    \n",
    "    # Define a function to calculate the ratio (a/m + b/m) / (a+b)\n",
    "    def ratio_function_1(m):\n",
    "        return ( (a*a*b)/(24*m*m) ) / (a + b)\n",
    "    \n",
    "    def ratio_function_2(m):\n",
    "        return ( (a*b*b)/(12*m*m) ) / (a + b)\n",
    "\n",
    "    for m in range(1,200):\n",
    "        \n",
    "        if ratio_function_2(m)<max_ratio and ratio_function_1(m)<max_ratio:\n",
    "            #print(ratio_function_1(m),ratio_function_2(m))\n",
    "            best_m = m\n",
    "            break\n",
    "    return best_m\n"
   ]
  },
  {
   "cell_type": "markdown",
   "id": "44e9185c-56af-4f03-897b-12d24921c324",
   "metadata": {},
   "source": [
    "Here, we input a m value , details are in \n",
    "https://doi.org/10.48550/arXiv.2408.03251 supplemental file \n",
    "\n",
    "- m value for number of QAOA layers\n",
    "- 0.0055 for 31 layers,\n",
    "- 0.003 for 40 layers,\n",
    "- 0.0018 for 50 layers, \n",
    "- 0.0012 for 60 layers,\n",
    "- 0.00062 for 80 layers\n",
    "- 0.000394 for 100 layers.s."
   ]
  },
  {
   "cell_type": "code",
   "execution_count": 26,
   "id": "89ebf0d4-a115-48b1-ae4d-7abdd91e93af",
   "metadata": {
    "tags": []
   },
   "outputs": [],
   "source": [
    "# get p_list from ratio\n",
    "p_list =[]\n",
    "for i in range(len(x_A)):\n",
    "    p = find_m(x_A[i], x_B[i], 0.0055)  \n",
    "    p_list.append(p) "
   ]
  },
  {
   "cell_type": "code",
   "execution_count": 27,
   "id": "336f720f-e06a-4db4-8ed9-988ae91760f8",
   "metadata": {
    "tags": []
   },
   "outputs": [
    {
     "data": {
      "text/plain": [
       "[5, 4, 2, 2, 2, 2, 4, 5, 2, 2]"
      ]
     },
     "execution_count": 27,
     "metadata": {},
     "output_type": "execute_result"
    }
   ],
   "source": [
    "# In this context, the p list indicates how many QAOA layers correspond to each MTE layer. \n",
    "#For example, the mapping is 1 to 5 layers in the frist case and  1 to 4 layers in the second case.\n",
    "p_list"
   ]
  },
  {
   "cell_type": "code",
   "execution_count": 28,
   "id": "5c6201c8-e229-4f1b-a1ba-59b6b8a59895",
   "metadata": {
    "tags": []
   },
   "outputs": [],
   "source": [
    "from itertools import chain\n",
    "# get qaoa like input\n",
    "new_x_A_list =[]\n",
    "new_x_B_list =[]\n",
    "for i in range(len(x_A)):\n",
    "    gamma = x_A[i]\n",
    "    beta = x_B[i]\n",
    "    index_of_power = p_list[i]\n",
    "    #print(index_of_power)\n",
    "    new_x_A,new_x_B = get_expand_amps(gamma,beta,index_of_power)\n",
    "    \n",
    "    # append result\n",
    "    new_x_A_list.append(new_x_A)\n",
    "    new_x_B_list.append(new_x_B)\n",
    "\n",
    "#new_x_A_list = list(chain.from_iterable(new_x_A_list))\n",
    "new_x_B_list = list(chain.from_iterable(new_x_B_list))\n",
    "\n",
    "\n",
    "flattened_new_x_A_list = []\n",
    "\n",
    "for i, sublist in enumerate(new_x_A_list):\n",
    "    if i > 0:\n",
    "        flattened_new_x_A_list[-1] = flattened_new_x_A_list[-1] + sublist[0]\n",
    "        flattened_new_x_A_list.extend(sublist[1:])\n",
    "    else:\n",
    "        flattened_new_x_A_list.extend(sublist)\n"
   ]
  },
  {
   "cell_type": "code",
   "execution_count": 29,
   "id": "e21d838f-2c2d-4ecd-b37d-d9bd05a27588",
   "metadata": {
    "tags": []
   },
   "outputs": [],
   "source": [
    "x = np.concatenate((flattened_new_x_A_list,new_x_B_list))"
   ]
  },
  {
   "cell_type": "code",
   "execution_count": 30,
   "id": "1a9f12a6-6b74-44d1-ad73-fc3db144c53f",
   "metadata": {},
   "outputs": [
    {
     "name": "stdout",
     "output_type": "stream",
     "text": [
      "number of QAOA layers is 31\n"
     ]
    }
   ],
   "source": [
    "print('number of QAOA layers is',len(flattened_new_x_A_list))"
   ]
  },
  {
   "cell_type": "code",
   "execution_count": 31,
   "id": "2ff465d6-2295-4201-8017-9b928865ccc5",
   "metadata": {},
   "outputs": [],
   "source": [
    "Nfeval = 1\n",
    "filename = f'scipy_QAOA_training_log_N={N}_B={B}_layers_{len(flattened_new_x_A_list)}.txt'\n",
    "energy_list = []\n",
    "\n",
    "def callback(intermediate_result):\n",
    "    global Nfeval\n",
    "    global energy_list\n",
    "    energy =intermediate_result.fun\n",
    "    energy_list.append(energy)\n",
    "\n",
    "    # Print information\n",
    "    print(f'{Nfeval:4d}   Energy: {energy:.6f}')\n",
    "    \n",
    "    # Write information to a file\n",
    "    with open(filename, 'a') as f:\n",
    "        f.write(f'{energy:.6f},')\n",
    "    \n",
    "    Nfeval += 1"
   ]
  },
  {
   "cell_type": "code",
   "execution_count": 32,
   "id": "ff38e16a-f56f-48c3-8aaa-fbabb58a9c4a",
   "metadata": {
    "scrolled": true
   },
   "outputs": [],
   "source": [
    "# Execute the following line to run the optimization.\n",
    "###########################################\n",
    "result = scipy.optimize.minimize(lambda_evolve_qaoa_for_optim,x,method='BFGS',callback=callback,options={'gtol': 1e-5})"
   ]
  },
  {
   "cell_type": "code",
   "execution_count": null,
   "id": "397fa691-0ee3-4467-9d2e-9d89c2ddec91",
   "metadata": {},
   "outputs": [],
   "source": [
    "result_filename = f'scipy_QAOA_result_N={N}_B={B}_layers_{len(flattened_new_x_A_list)}.txt'\n",
    "\n",
    "# Function to save the result into a file\n",
    "def save_result_to_file(result, filename):\n",
    "    with open(filename, 'w') as f:\n",
    "        f.write(f\"message: {result.message}\\n\")\n",
    "        f.write(f\"success: {result.success}\\n\")\n",
    "        f.write(f\"status: {result.status}\\n\")\n",
    "        f.write(f\"fun: {result.fun}\\n\")\n",
    "        f.write(f\"x: {result.x.tolist()}\\n\")\n",
    "        f.write(f\"nit: {result.nit}\\n\")\n",
    "        f.write(f\"jac: {result.jac.tolist()}\\n\")\n",
    "        f.write(f\"hess_inv: {result.hess_inv.tolist()}\\n\")\n",
    "        f.write(f\"nfev: {result.nfev}\\n\")\n",
    "        f.write(f\"njev: {result.njev}\\n\")\n",
    "\n",
    "# Save the result\n",
    "save_result_to_file(result,result_filename)"
   ]
  },
  {
   "cell_type": "code",
   "execution_count": 44,
   "id": "5c94a541-d9af-4ff1-a633-37b30150e57f",
   "metadata": {},
   "outputs": [],
   "source": [
    "# Example usage based on previously optimized data.\n",
    "best_x_30 =np.array( [0.0936603564367677, 0.2051762001214427, 0.2463089094873932, 0.3901184422577069, -0.1566552695202834, 0.0952731242017399, 0.4823711229952712, 0.3229252099663475, -0.2894891838278786, 0.2446330166267743, 0.4091517928591440, 0.3411597524344765, 0.3767487235601615, 0.4096550299124064, 0.4360496642978115, 0.4406235887278616, 0.4510140521581578, 0.4562368196353694, 0.4700707130769085, 0.4851953143658400, 0.4751266474409635, 0.4587435694048260, 0.4484821150875642, 0.4706320058835329, 0.5032829673048763, 0.5531659862137859, 0.5902255542443087, 0.6063080390406458, 0.7405262870253992, 0.9533213780481534, -1.5217628565839387, 0.5229050589704566, 1.9274298721988705, 0.2749883070349547, 1.0406904148110370, 0.1010325783319367, 0.8281348694198741, 0.1540480924718009, 1.2098262607889863, 0.0524561782550547, 0.5956815851714431, 0.1799565723772132, 0.1895626101278335, 0.1970029573300717, 0.2071430427837794, 0.2010495184863038, 0.1963274483645235, 0.1948801434805197, 0.1993824098776083, 0.2023461969345260, 0.1942961329180070, 0.1772497714992665, 0.1680109352275089, 0.1719426437094280, 0.1818287948352202, 0.1802819305886998, 0.1725549275552033, 0.1578787108300562, 0.1319753198628043, 0.0776464838585328, 0.0384578846102251                   ])\n",
    "best_x_40 = np.array([0.10171197978282819, 0.23452263551077265, 0.2952944661308091, 0.40385027514921074, 0.130342711921415, -0.14192665294318357, 0.0009319262241798356, 0.17465933035710773, 0.30328653708132747, 0.022175513479698896, -0.16381688925989615, 0.14714399515098756, 0.24646436585398665, 0.27225338663953536, 0.18171896629196949, 0.24254101578830498, 0.22648926354028687, 0.371302473440885, 0.41229610464063765, 0.4322392645866204, 0.4602484919360992, 0.46620704718060835, 0.46119266357261457, 0.4649399002898082, 0.4770361823649284, 0.14396855569152361, 0.26491041359521494, 0.48578830024662717, 0.5009502419692582, 0.4968982486411721, 0.4096111073480211, 0.4200095671459159, 0.5343891503746732, 0.5931448563835003, 0.6259242735938608, 0.651564460480234, 0.6621492143444425, 0.6469747883356498, 0.6265284901100269, -7.468275816880233e-05, 0.5574354751967595, 0.41534558872731425, 0.33550363262275934, 0.36568469716398294, 1.0029423964087087, 0.14332399868351758, 0.08352346859052899, 0.41382448962304436, 0.6321751394720654, 0.6108124435012142, 0.19213210851960102, 0.4089521907521196, 0.13342546686202736, 0.13038153395228733, 0.12597696249633739, 0.11133388641379938, 0.16646075029552349, 0.20537932939067066, 0.2072085211817601, 0.21256510098138862, 0.21464938181866655, 0.20655477846183423, 0.20136535685740226, 0.1983675760093686, 0.2526658774768438, -0.10612464240174381, 0.2199151701037883, 0.19689528554217342, 0.19740107294634043, 0.16877635703005778, 0.13147520846091537, 0.15941073016627902, 0.1769598762144772, 0.17281720170426598, 0.15968149727658423, 0.13944710014386455, 0.12225148380809951, 0.10126538918195123, 0.050545854158937385])\n",
    "best_x_50 = np.array([0.0647514601591052, 0.166394162798547, 0.23885485178177834, 0.2977756720036629, 0.3171800000402093, 0.317166918392768, 0.05006511042372438, -0.10688439902826523, 0.03267311162764664, 0.13138043563285215, 0.27608374845393663, 0.07356910175871981, 0.052182695467071404, -0.0449525161461456, 0.04198885454358715, -0.11726646539205779, 0.2405284379426732, 0.18941293127690878, 0.1387646575258391, 0.40865359647160937, 0.3779846647216628, 0.37529116928772227, 0.4144323733220048, 0.33372257996210575, 0.32150891797881903, 0.434124463500779, 0.40054997132402764, 0.33096603116478807, 0.12273102762645025, 0.4257643960860163, 0.48521023128211, 0.44952743155821606, 0.4124433224159519, 0.4283018118365142, 0.4259419374351622, 0.26513183842370797, 0.33980724480110364, 0.4817507239408005, 0.4276029813202166, 0.336890397121883, 0.5253984858056244, 0.6077905149020423, 0.6371120063976905, 0.650904065732478, 0.6603734261841776, 0.6656661168414477, 0.6609086600094088, 0.6360416306833484, 0.7384115567156863, -0.44648590649258657, 0.5811476104640556, 0.4429248974328886, 0.37977372162011896, 0.32836383057161855, 0.262135243565093, 0.5179785734016681, 0.15336538195732807, 0.22439769856744937, 1.0236263551767855, -0.09846438150531468, 0.32963401369110473, -0.20887845804063954, 0.4925351181910959, 0.6406315513599943, 0.2612397663096956, 0.287050914640353, 0.2322524134465559, -0.09683176112448078, 0.2793532813014199, 0.2277342393071619, 0.19570045326936453, 0.20589853129879387, 0.19730044879530928, 0.1347117671465006, 0.18768287964585437, 0.19856202232227085, 0.1621522384708093, 0.09000564675852356, 0.11376002225669386, 0.20262229995625822, 0.1976416244474579, 0.17306117228923742, 0.16572085261048386, 0.1676880410401238, 0.14160388671238536, 0.07927393829958533, 0.1564703026645255, 0.159617761756837, 0.10626419107039968, 0.12847612388008217, 0.1634510900549965, 0.16546790380043963, 0.15903652531503187, 0.1487628435618338, 0.13640592803122942, 0.12057432995991971, 0.10455827677828057, 0.08112377580490084, 0.01368310839293342])\n",
    "best_x_60 =np.array( [0.0609189168862844, 0.1519214777441040, 0.2177415558803502, 0.2775193392884092, 0.3148216564476874, 0.3233111475294995, 0.1875038654151858, 0.0802059993046237, -0.0722005506934682, -0.0109992027318399, 0.1034454299434343, 0.2126645985165376, 0.1502326581335771, -0.0385744412036069, 0.0563074777331458, 0.0274769434471584, 0.1441146488276454, -0.0990232575527071, -0.0763582677431228, -0.0805861001932164, 0.4376096923205982, 0.0102732749443041, 0.3675225437702748, 0.0077309900566174, 0.3961507922020510, 0.4303347067657325, 0.4153958775139957, 0.3959655950139763, 0.3731580896306516, 0.1688493608470218, 0.0329773079660679, 0.3615461136263413, 0.2265199481217018, 0.3456313725681977, 0.4466686698126207, -0.1362958751404506, 0.1975086207421070, 0.2263939347861471, 0.1215174798477647, 0.4351273407165654, 0.4826779708629020, 0.5028489299117584, 0.4789525803862550, 0.3940024499136431, 0.4156170770179988, 0.5034729451142987, 0.3321173102325121, 0.2885091048543854, 0.5634063294709696, 0.4849027111137416, 0.1583340293792161, 0.5878695911352591, 0.6186049717051209, 0.6312562827934277, 0.6379517184737654, 0.6447879540097436, 0.6414871922308933, 0.6141203929569636, 0.7006991994543212, -0.4465979198001656, 0.5791193829417574, 0.4453380939813435, 0.3874578645914323, 0.3444996985468358, 0.3038575339719551, 0.2631731332415791, 1.0984050827391902, -0.0795498995011945, 0.3087893298063697, 0.1912233691977209, 0.3194203215179484, -0.2155506234398110, 0.4467787396091157, -0.6239973840523872, 0.0298806595169625, 1.2181757475500294, -0.0188769942126243, 0.1837741170896478, 0.1701580609038909, 0.5684514934605466, 0.3200375380088773, -0.0838440008214065, 0.3949919193676327, -0.1660981668713009, 0.2386447734958723, 0.2269210363419732, 0.2042222212119692, 0.1934671490225616, 0.1447105675560622, -0.0648493313572199, 0.1777572668716369, 0.1561655658629411, 0.0963838146275836, 0.1854511568567686, 0.0449256855580622, 0.0409098983677676, 0.1304070590594006, -0.0502732788478662, 0.2000656805526236, 0.1922185462097727, 0.2031341807570012, 0.1973452629285435, 0.1680356376573205, 0.1374432203433954, 0.1655656761424308, 0.1678715627658535, 0.0427045192878163, 0.1597659230236304, 0.1662670312688279, 0.0429169407729353, 0.1302722050512265, 0.1549782709696887, 0.1480778858806875, 0.1369344092373340, 0.1236394515539423, 0.1084908104755546, 0.0938411519505762, 0.0701163530541828, 0.0092803998512390])\n",
    "best_x_80 = np.array([-0.0424810948602934, 0.1026983223523859, -0.0398203507203160, 0.0836624294244694, 0.0293409698141539, 0.0692511547390258, 0.1359321274655585, 0.0337479959657929, 0.0313542517954505, -0.0160107978823175, -0.0038296421875186, -0.0251281392154148, 0.0335188620280699, 0.0255951456872216, 0.0323774603054501, 0.0879004579308568, 0.0317613280137807, 0.0397191651820374, -0.0062877337211761, 0.0129321069890765, -0.0083762262934412, -0.0030142610156823, 0.0002009346621893, -0.0098269153182629, 0.0440232219966633, 0.0714799780396456, 0.0404802514388464, 0.2076326889114722, 0.2196177798717421, 0.2000022151128549, 0.1852012481406474, 0.1756013666278461, 0.2325435730643387, 0.2486271327096015, 0.2801867104213627, 0.2803683500401855, 0.2767868403404265, 0.2849349778280637, 0.2786451424271765, 0.2884720286868525, 0.2641904821853455, 0.2531488321351231, 0.2566299974546563, 0.2037140733560354, 0.2328532284709324, 0.2350035229940139, 0.1765730371597180, 0.2358295330106763, 0.2653149982296147, 0.2578171220023170, 0.3016246882468108, 0.3262253226243042, 0.3421577962144998, 0.3543674968676780, 0.3571845087432406, 0.3457550467087496, 0.3284676569104938, 0.3262328568620657, 0.2878917507213414, 0.2988148592562949, 0.3189415766323391, 0.2893447993254001, 0.3648238896003053, 0.3832776346362605, 0.3776656045480822, 0.3630740028520964, 0.3658649791173486, 0.3642662009535073, 0.3675156559185244, 0.4163574952479840, 0.4532761822312315, 0.4779679829553732, 0.4761104618726156, 0.4270503630334642, 0.4312346406518344, 0.4875343124179262, 0.4820215299411769, 0.4426394496195690, 0.4428076503736208, 0.3739830573751433, -0.0648600844637029, 0.0175641643753809, 0.2214662995623984, 0.2765745745375634, 0.2000794534124461, 0.2204223487278709, 0.2599260811950088, 0.2707747814430673, 0.2778764780442392, 0.2978668036750617, 0.3298314847318548, 0.2340864076625876, 0.2091803386239040, 0.1339610963473810, 0.2051072717132403, 0.1045927062259071, 0.0905710645359705, 0.1364647912890238, 0.1959662046276549, 0.2456281696405663, 0.2226763094302379, 0.2523416253527972, 0.1898406131440128, 0.1582196093852772, 0.1206408015244746, 0.1309849408022672, 0.1719918871154317, 0.0903176903577139, 0.2332607512748363, 0.1830926161061901, 0.1692165205246689, 0.1217904221639259, 0.1575235755080769, 0.1622012534462155, 0.1732579040934091, 0.1751289527393548, 0.1624752314826566, 0.1597082069042098, 0.1539202257814358, 0.1489885928594471, 0.1457790292606851, 0.1232788476859944, 0.1292244504781225, 0.1088648133478620, 0.0974302094382964, 0.1140190303946814, 0.0923122792585590, 0.0851280129082342, 0.1179625449624150, 0.1104569842362780, 0.1197464229698605, 0.1341276915423285, 0.1393231279712631, 0.1432866509490482, 0.1441125715378980, 0.1397419942351713, 0.1295410986642254, 0.1228411823047366, 0.1154256417860978, 0.0971182244592765, 0.1136793852547967, 0.0966088037732524, 0.1061858764183808, 0.1193293312634662, 0.1135635880330005, 0.1056784916077666, 0.0978770797464761, 0.0963946701077432, 0.0891137592534112, 0.0932726328190429, 0.0992259905968961, 0.0995492556451432, 0.0953359083769773, 0.0824899756378670, 0.0685866033239505, 0.0714994327194024, 0.0694346127887010, 0.0590905468096387, 0.0518278227376197, 0.0479021135668921, 0.0122408262598471])"
   ]
  },
  {
   "cell_type": "code",
   "execution_count": 53,
   "id": "cccb5b0c-f074-4cf9-9ffc-e9faec17d28c",
   "metadata": {},
   "outputs": [
    {
     "name": "stdout",
     "output_type": "stream",
     "text": [
      "energy afater optim in QAOA form is  -5.1056068473820435\n"
     ]
    }
   ],
   "source": [
    "# 30 and 80 layers can also be considered as 31 and 81 layers since they both have one additional factor\n",
    "# the rest has one less factor \n",
    "print('energy afater optim in QAOA form is ', lambda_evolve_qaoa_for_optim(best_x_30) )"
   ]
  },
  {
   "cell_type": "code",
   "execution_count": 54,
   "id": "a0fa24e9-6017-4b40-a984-28a7204fcb9f",
   "metadata": {
    "tags": []
   },
   "outputs": [
    {
     "data": {
      "text/plain": [
       "[<matplotlib.lines.Line2D at 0x1bf20c42c90>]"
      ]
     },
     "execution_count": 54,
     "metadata": {},
     "output_type": "execute_result"
    },
    {
     "data": {
      "image/png": "[encoded data removed]",
      "text/plain": [
       "<Figure size 640x480 with 1 Axes>"
      ]
     },
     "metadata": {},
     "output_type": "display_data"
    }
   ],
   "source": [
    "# plot the two angle curves\n",
    "best_qaoa =best_x_30\n",
    "location =(len(best_qaoa)//2+1)\n",
    "best_gamma = best_qaoa[:location]\n",
    "best_beta = best_qaoa[location:]\n",
    "plt.plot(best_beta)\n",
    "plt.plot(best_gamma)"
   ]
  }
 ],
 "metadata": {
  "colab": {
   "provenance": []
  },
  "kernelspec": {
   "display_name": "Python 3 (ipykernel)",
   "language": "python",
   "name": "python3"
  },
  "language_info": {
   "codemirror_mode": {
    "name": "ipython",
    "version": 3
   },
   "file_extension": ".py",
   "mimetype": "text/x-python",
   "name": "python",
   "nbconvert_exporter": "python",
   "pygments_lexer": "ipython3",
   "version": "3.11.5"
  }
 },
 "nbformat": 4,
 "nbformat_minor": 5
}
