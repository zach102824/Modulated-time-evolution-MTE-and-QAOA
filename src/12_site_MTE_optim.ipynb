{
 "cells": [
  {
   "cell_type": "markdown",
   "id": "4yhDJNhOAFzw",
   "metadata": {
    "id": "4yhDJNhOAFzw"
   },
   "source": [
    "Parameters used in the code:\n",
    "\n",
    "N: Number of sites in the transverse field Ising model.\n",
    "\n",
    "This code can optimize 12 or higher sites because we are using JAX with GPU support\n",
    "\n",
    "B: B-field value for the target Hamiltonian, which can be zero or non-zero.\n",
    "\n",
    "J_value: J coupling strength.\n",
    "\n",
    "J_matrix_alpha: Power-law decay constant.\n",
    "\n",
    "number_of_layers: The number of steps in the optimization.\n",
    "\n",
    "There are two final output files,\n",
    " - 'jax_bfgs_lambda_B_log_N={N}_layers_{number_of_layers}.txt' , this records the update during each iteration\n",
    " - 'jax_bfgs_latest_state_N={N}_layers_{number_of_layers}.txt', this records the final state"
   ]
  },
  {
   "cell_type": "code",
   "execution_count": 1,
   "id": "Ru9wTBa75UZa",
   "metadata": {
    "id": "Ru9wTBa75UZa"
   },
   "outputs": [],
   "source": [
    "# initialize variables\n",
    "N = 12\n",
    "B = 0.1\n",
    "J_value = 1\n",
    "J_matrix_alpha =  1\n",
    "number_of_layers = 10"
   ]
  },
  {
   "cell_type": "markdown",
   "id": "N3UU3_fM31bY",
   "metadata": {
    "id": "N3UU3_fM31bY"
   },
   "source": [
    "This code was executed on Google Colab. To run it on a local machine, one will need to update the directory paths accordingly.\n",
    "\n",
    "The relevant paths are as follows:"
   ]
  },
  {
   "cell_type": "code",
   "execution_count": 2,
   "id": "AXWveLSL4_2L",
   "metadata": {
    "colab": {
     "base_uri": "https://localhost:8080/"
    },
    "id": "AXWveLSL4_2L",
    "outputId": "4b57eef3-0be7-47f8-f4f0-0a49c2a145b8"
   },
   "outputs": [
    {
     "name": "stdout",
     "output_type": "stream",
     "text": [
      "Drive already mounted at /content/drive; to attempt to forcibly remount, call drive.mount(\"/content/drive\", force_remount=True).\n"
     ]
    }
   ],
   "source": [
    "# Mount Google Drive\n",
    "from google.colab import drive\n",
    "drive.mount('/content/drive')\n",
    "\n",
    "# Path to the root directory of your Google Drive\n",
    "drive_root = '/content/drive/My Drive/MTE_and_QAOA'\n",
    "\n",
    "\n",
    "log_file_path = f'{drive_root}/jax_bfgs_lambda_B_log_N={N}_layers_{number_of_layers}.txt'\n",
    "latest_state_file_path = f'{drive_root}/jax_bfgs_latest_state_N={N}_layers_{number_of_layers}.txt'\n"
   ]
  },
  {
   "cell_type": "code",
   "execution_count": 3,
   "id": "uz-lty195gW4",
   "metadata": {
    "colab": {
     "base_uri": "https://localhost:8080/"
    },
    "id": "uz-lty195gW4",
    "outputId": "e3989d82-8c81-44de-c1ff-1d258670d58d"
   },
   "outputs": [
    {
     "name": "stdout",
     "output_type": "stream",
     "text": [
      "Requirement already satisfied: jaxopt in /usr/local/lib/python3.10/dist-packages (0.8.3)\n",
      "Requirement already satisfied: jax>=0.2.18 in /usr/local/lib/python3.10/dist-packages (from jaxopt) (0.4.26)\n",
      "Requirement already satisfied: jaxlib>=0.1.69 in /usr/local/lib/python3.10/dist-packages (from jaxopt) (0.4.26+cuda12.cudnn89)\n",
      "Requirement already satisfied: numpy>=1.18.4 in /usr/local/lib/python3.10/dist-packages (from jaxopt) (1.26.4)\n",
      "Requirement already satisfied: scipy>=1.0.0 in /usr/local/lib/python3.10/dist-packages (from jaxopt) (1.13.1)\n",
      "Requirement already satisfied: ml-dtypes>=0.2.0 in /usr/local/lib/python3.10/dist-packages (from jax>=0.2.18->jaxopt) (0.4.0)\n",
      "Requirement already satisfied: opt-einsum in /usr/local/lib/python3.10/dist-packages (from jax>=0.2.18->jaxopt) (3.3.0)\n"
     ]
    }
   ],
   "source": [
    "# Install packages on the cloud\n",
    "!pip install optax\n",
    "!pip install jaxopt"
   ]
  },
  {
   "cell_type": "code",
   "execution_count": 4,
   "id": "07cb000c-4018-47fb-9edd-9560d594fa91",
   "metadata": {
    "id": "07cb000c-4018-47fb-9edd-9560d594fa91"
   },
   "outputs": [],
   "source": [
    "import jax.numpy as jnp\n",
    "from jax import grad, jit\n",
    "import jax.numpy.linalg as jla\n",
    "import jax.scipy.optimize as jso\n",
    "import jax\n",
    "jax.config.update(\"jax_enable_x64\", True)\n",
    "import numpy as np\n",
    "from scipy.sparse.linalg import eigs\n",
    "from numpy import linalg as LA\n",
    "from scipy.interpolate import Akima1DInterpolator\n",
    "from scipy.linalg import expm\n",
    "import time\n",
    "from scipy import sparse\n",
    "import matplotlib.pyplot as plt\n",
    "import pandas\n",
    "import scipy\n",
    "np.set_printoptions(precision=6)\n",
    "# Q is the dimension\n",
    "Q = pow(2, N)\n",
    "\n",
    "# decimal number to binary array function\n",
    "def D2B(num):\n",
    "    string = f'{num:1b}'\n",
    "    result = np.zeros(N - len(string), int)\n",
    "\n",
    "    for ele in string:\n",
    "        result = np.append(result, int(ele))\n",
    "\n",
    "    return result\n",
    "\n",
    "# decimal number to binary array function\n",
    "def D2B_with_digit(num,digit):\n",
    "    string = f'{num:1b}'\n",
    "    result = np.zeros(digit - len(string), int)\n",
    "\n",
    "    for ele in string:\n",
    "        result = np.append(result, int(ele))\n",
    "\n",
    "    return result\n",
    "\n",
    "# binary array to decimal function\n",
    "def B2D(array):\n",
    "    res = 0\n",
    "    for ele in array:\n",
    "        res = (res << 1) | ele\n",
    "    return res\n",
    "\n",
    "def spin_reflection(array):\n",
    "    new_array = np.zeros(len(array),dtype=int)\n",
    "    for i in range(len(array)):\n",
    "        if array[i] == 1:\n",
    "            new_array[i] = 0\n",
    "        else:\n",
    "            new_array[i] = 1\n",
    "    return new_array\n",
    "\n",
    "def spatial_reflection(array):\n",
    "    new_array = array[::-1]\n",
    "    return new_array\n",
    "\n",
    "# start my main function\n",
    "\n",
    "# initialize J matrix\n",
    "J_matrix = np.zeros((N, N), dtype='float64')\n",
    "for i in range(N):\n",
    "    for j in range(N):\n",
    "        if j >= (i + 1):\n",
    "            J_matrix[i][j] = J_value/pow(abs(i-j),J_matrix_alpha)"
   ]
  },
  {
   "cell_type": "code",
   "execution_count": 5,
   "id": "paW_vUoPHO2O",
   "metadata": {
    "colab": {
     "base_uri": "https://localhost:8080/"
    },
    "id": "paW_vUoPHO2O",
    "outputId": "d4d2657a-dc93-40ab-9e19-904d934237bf"
   },
   "outputs": [
    {
     "data": {
      "text/plain": [
       "[cuda(id=0)]"
      ]
     },
     "execution_count": 5,
     "metadata": {},
     "output_type": "execute_result"
    }
   ],
   "source": [
    "jax.devices()"
   ]
  },
  {
   "cell_type": "code",
   "execution_count": 6,
   "id": "0a6aadaf-a0d9-4a97-be0e-c10fcc207179",
   "metadata": {
    "id": "0a6aadaf-a0d9-4a97-be0e-c10fcc207179"
   },
   "outputs": [],
   "source": [
    "# start to get what product states are having the same symmtries\n",
    "loop_state_list = np.linspace(0,Q-1,num=Q,dtype=int)\n",
    "\n",
    "couple_state_matrix = []\n",
    "sign_matrix = []\n",
    "# this is the final result for the states to consctruct basis\n",
    "\n",
    "for n in range(Q):  # n is an unused index\n",
    "\n",
    "    # couple_num_list would be my result for each state we loop\n",
    "\n",
    "    if len(loop_state_list)!=0: # loop for couple number for one state\n",
    "\n",
    "        couple_num_list = [] # this is the list to store all the number that couple to the number we are looping\n",
    "        couple_num_list = np.array(couple_num_list, dtype=int)\n",
    "        state_num = loop_state_list[0]\n",
    "        couple_num_list = np.append(couple_num_list,state_num)\n",
    "\n",
    "        for m in range(Q): # loop for spin and spatial for all states inside the couple number list\n",
    "\n",
    "            if m==0:\n",
    "\n",
    "                couple_num_list_old =couple_num_list\n",
    "\n",
    "                for i in range(len(couple_num_list)):\n",
    "                    number = couple_num_list[i]\n",
    "                    array = D2B(number)\n",
    "\n",
    "                    # spin reflection\n",
    "                    spin_relfection_array = spin_reflection(array)\n",
    "                    spin_number = B2D(spin_relfection_array)\n",
    "                    couple_num_list =np.append(couple_num_list,spin_number)\n",
    "\n",
    "\n",
    "\n",
    "                    # spatial reflection\n",
    "                    spatial_relfection_array = spatial_reflection(array)\n",
    "                    spatial_number = B2D(spatial_relfection_array)\n",
    "                    couple_num_list =np.append(couple_num_list,spatial_number)\n",
    "\n",
    "                    # remove the repeated element\n",
    "                    couple_num_list = np.unique(couple_num_list)\n",
    "            else:\n",
    "\n",
    "                if len(couple_num_list_old) != len(couple_num_list):\n",
    "                    # update couple_num_list_old first\n",
    "                    couple_num_list_old =couple_num_list\n",
    "\n",
    "                    for i in range(len(couple_num_list)):\n",
    "                        number = couple_num_list[i]\n",
    "                        array = D2B(number)\n",
    "\n",
    "                        # spin reflection\n",
    "                        spin_relfection_array = spin_reflection(array)\n",
    "                        spin_number = B2D(spin_relfection_array)\n",
    "                        couple_num_list =np.append(couple_num_list,spin_number)\n",
    "\n",
    "\n",
    "                        # spatial reflection\n",
    "                        spatial_relfection_array = spatial_reflection(array)\n",
    "                        spatial_number = B2D(spatial_relfection_array)\n",
    "                        couple_num_list = np.append(couple_num_list,spatial_number)\n",
    "\n",
    "                        # remove the repeated element\n",
    "                        couple_num_list = np.unique(couple_num_list)\n",
    "\n",
    "        # now we have final couple_num_list\n",
    "        couple_state_matrix.append(couple_num_list.tolist())\n",
    "\n",
    "        # remove the ones already found\n",
    "        for j in range(len(couple_num_list)):\n",
    "            loop_state_list = np.delete(loop_state_list, np.where(loop_state_list ==couple_num_list[j] ))"
   ]
  },
  {
   "cell_type": "code",
   "execution_count": 7,
   "id": "bc0acdbe-5e19-4358-abdb-19490c8d74ae",
   "metadata": {
    "id": "bc0acdbe-5e19-4358-abdb-19490c8d74ae"
   },
   "outputs": [],
   "source": [
    "# initialize H matrix\n",
    "couple_dimen = len(couple_state_matrix)\n",
    "HA_matrix = np.zeros((couple_dimen, couple_dimen), dtype='float64')\n",
    "HB_matrix = np.zeros((couple_dimen, couple_dimen), dtype='float64')"
   ]
  },
  {
   "cell_type": "code",
   "execution_count": 8,
   "id": "e72f81c3-30f3-4b84-8cfb-e9e64ac22519",
   "metadata": {
    "colab": {
     "base_uri": "https://localhost:8080/"
    },
    "id": "e72f81c3-30f3-4b84-8cfb-e9e64ac22519",
    "outputId": "85b18ab3-3d07-49d9-815f-5cb1f79977a8"
   },
   "outputs": [
    {
     "name": "stdout",
     "output_type": "stream",
     "text": [
      "Hamiltonian dimension is  1056\n"
     ]
    }
   ],
   "source": [
    "print('Hamiltonian dimension is ', couple_dimen)"
   ]
  },
  {
   "cell_type": "code",
   "execution_count": 9,
   "id": "c4ab9342-e60b-44b3-bdb9-22c65ab1dee2",
   "metadata": {
    "id": "c4ab9342-e60b-44b3-bdb9-22c65ab1dee2"
   },
   "outputs": [],
   "source": [
    "# loop each basis to fill in the diagonal elements for HA matrix\n",
    "\n",
    "for i in range(couple_dimen):\n",
    "\n",
    "    state_array = np.array( couple_state_matrix[i] )\n",
    "\n",
    "    # loop each element inside the array\n",
    "    normalization = len(state_array)\n",
    "\n",
    "    # energy total for all the product states inside one basis\n",
    "\n",
    "    e_tot = 0\n",
    "    for j in range(len(state_array)):\n",
    "\n",
    "        state = D2B(state_array[j])\n",
    "\n",
    "        # loop over N sites to change the state vector to either 1 or -1\n",
    "\n",
    "        for k in range(N):\n",
    "            # 1 is spin down , 0 is spin up\n",
    "            if state[k] == 1:\n",
    "                state[k] = -1\n",
    "            else:\n",
    "                state[k] = 1\n",
    "\n",
    "        # now get the energy, loop all the sites and then pairs\n",
    "\n",
    "        for m in range(N):\n",
    "            for q in range(N):\n",
    "                e_temp = J_matrix[m][q] * state[m] * state[q]\n",
    "                e_tot = e_tot + e_temp\n",
    "\n",
    "    HA_matrix[i][i] = e_tot/normalization"
   ]
  },
  {
   "cell_type": "code",
   "execution_count": 10,
   "id": "504fc82d-599c-452d-960b-540b4a1ef4c1",
   "metadata": {
    "id": "504fc82d-599c-452d-960b-540b4a1ef4c1"
   },
   "outputs": [],
   "source": [
    "# generate vector form for each basis\n",
    "vector_form_basis_matrix = np.zeros((couple_dimen,Q))\n",
    "\n",
    "for i in range(couple_dimen):\n",
    "\n",
    "    state_array = np.array( couple_state_matrix[i] )\n",
    "    normalization = np.sqrt(len(state_array))\n",
    "\n",
    "    for j in state_array:\n",
    "        vector_form_basis_matrix[i][j] = 1\n",
    "\n",
    "    # put back normalization factor\n",
    "    vector_form_basis_matrix[i] = vector_form_basis_matrix[i]/normalization"
   ]
  },
  {
   "cell_type": "code",
   "execution_count": 11,
   "id": "bb008183-6972-46e7-91fa-97cd7797b695",
   "metadata": {
    "id": "bb008183-6972-46e7-91fa-97cd7797b695"
   },
   "outputs": [],
   "source": [
    "# loop each basis to fill in HB matrix\n",
    "\n",
    "for i in range(couple_dimen):\n",
    "\n",
    "    state_array = np.array( couple_state_matrix[i] )\n",
    "\n",
    "    # this is the actual normalization unlike before since it will couple to some other states\n",
    "    # so it can not be like just the square like we did before\n",
    "    normalization = np.sqrt(len(state_array))\n",
    "\n",
    "    # loop each product state to generate N other states, i.e. generaete the state after operator acting on it\n",
    "    result_num_list = []\n",
    "    result_num_list = np.array(result_num_list,dtype=int)\n",
    "    for k in range(len(state_array)):\n",
    "\n",
    "        spin = D2B(state_array[k])\n",
    "\n",
    "        # start fliping the spins\n",
    "        for j in range(N):\n",
    "            if spin[j] == 1:\n",
    "                # if it's spin down, raise to spin up\n",
    "                spin[j] = 0\n",
    "                new_num = B2D(spin)\n",
    "                result_num_list = np.append(result_num_list,new_num)\n",
    "                # change it back for next operation\n",
    "                spin[j] = 1\n",
    "            else:\n",
    "                # if it's spin down, raise to spin up\n",
    "                spin[j] = 1\n",
    "                new_num = B2D(spin)\n",
    "                result_num_list = np.append(result_num_list,new_num)\n",
    "                # change it back for next operation\n",
    "                spin[j] = 0\n",
    "\n",
    "\n",
    "    # generate the vector form for the state after operrator acting on it\n",
    "\n",
    "    vector_final_state = np.zeros(Q)\n",
    "\n",
    "    for j in result_num_list:\n",
    "        vector_final_state[j] = vector_final_state[j] +1\n",
    "\n",
    "    # put back normalization factor\n",
    "    vector_final_state = vector_final_state/normalization\n",
    "\n",
    "    # calculate dot product to put into inside the matrix\n",
    "    for j in range(couple_dimen):\n",
    "\n",
    "        dot_product = np.dot(vector_final_state,vector_form_basis_matrix[j])\n",
    "        HB_matrix[i][j] = dot_product"
   ]
  },
  {
   "cell_type": "code",
   "execution_count": 12,
   "id": "TRzumWhM1lOb",
   "metadata": {
    "id": "TRzumWhM1lOb"
   },
   "outputs": [],
   "source": [
    "# After constructing couple_state_matrix\n",
    "HA_matrix = jnp.array(HA_matrix,dtype=jnp.float64)\n",
    "HB_matrix = jnp.array(HB_matrix,dtype=jnp.float64)"
   ]
  },
  {
   "cell_type": "code",
   "execution_count": 13,
   "id": "4a5a615f-4bba-4115-adac-33388d311370",
   "metadata": {
    "id": "4a5a615f-4bba-4115-adac-33388d311370"
   },
   "outputs": [],
   "source": [
    "# Compute eigenvalues and eigenvectors using JAX\n",
    "w, v = jla.eigh(HA_matrix + B * HB_matrix)\n",
    "\n",
    "# Extract the true ground state vector and energy\n",
    "true_gs_vec = v[:,0]\n",
    "true_gs_energy = w[0]\n",
    "E_max = w[-1]"
   ]
  },
  {
   "cell_type": "code",
   "execution_count": 14,
   "id": "24d64853-9986-4270-a169-d1a78e62115d",
   "metadata": {
    "colab": {
     "base_uri": "https://localhost:8080/"
    },
    "id": "24d64853-9986-4270-a169-d1a78e62115d",
    "outputId": "ff1a5ee2-4a4b-42d7-cdb1-830025d4fa15"
   },
   "outputs": [
    {
     "name": "stdout",
     "output_type": "stream",
     "text": [
      "true ground state energy is -7.8879431695379765\n"
     ]
    }
   ],
   "source": [
    "print('true ground state energy is', true_gs_energy)"
   ]
  },
  {
   "cell_type": "code",
   "execution_count": 15,
   "id": "ecacef1f-cf97-46d1-a321-bc30a7c23c16",
   "metadata": {
    "id": "ecacef1f-cf97-46d1-a321-bc30a7c23c16"
   },
   "outputs": [],
   "source": [
    "# get  ground state with just H_B\n",
    "w, v = jla.eigh(HB_matrix)\n",
    "temp_vec = v[:,0] # the index here could be zero or one, depending on the parity\n",
    "# but if the wrong index will always give roughly zero fidelity"
   ]
  },
  {
   "cell_type": "code",
   "execution_count": 16,
   "id": "eb90d1d0-5dbd-4c5e-8390-053ee462dba7",
   "metadata": {
    "id": "eb90d1d0-5dbd-4c5e-8390-053ee462dba7"
   },
   "outputs": [],
   "source": [
    "def get_energy(H_matrix, state):\n",
    "    a = jnp.dot(H_matrix, state)\n",
    "    energy = jnp.dot(jnp.conj(state), a).real\n",
    "    return energy"
   ]
  },
  {
   "cell_type": "code",
   "execution_count": 17,
   "id": "49b16761-4ce8-43fd-86fa-d0562db65d95",
   "metadata": {
    "id": "49b16761-4ce8-43fd-86fa-d0562db65d95"
   },
   "outputs": [],
   "source": [
    "def get_fidelity(gs, state):\n",
    "    dp = jnp.dot(gs, state)  # Dot product\n",
    "    dp_cc = jnp.conj(dp)     # Complex conjugate of the dot product\n",
    "    return (dp * dp_cc).real"
   ]
  },
  {
   "cell_type": "code",
   "execution_count": 18,
   "id": "UtbSGBaTDuz-",
   "metadata": {
    "colab": {
     "base_uri": "https://localhost:8080/"
    },
    "id": "UtbSGBaTDuz-",
    "outputId": "ff27b624-7f35-4f4f-e6f8-b23d3c6f2bb5"
   },
   "outputs": [
    {
     "name": "stdout",
     "output_type": "stream",
     "text": [
      "fidelity before optim is 0.0013894250289274643\n"
     ]
    }
   ],
   "source": [
    "fidelity_t_0 = get_fidelity(true_gs_vec, temp_vec)\n",
    "print('fidelity before optim is', fidelity_t_0)"
   ]
  },
  {
   "cell_type": "code",
   "execution_count": 19,
   "id": "rHTEuHCZ5w5V",
   "metadata": {
    "id": "rHTEuHCZ5w5V"
   },
   "outputs": [],
   "source": [
    "target_H = jnp.copy(HA_matrix + B * HB_matrix)"
   ]
  },
  {
   "cell_type": "code",
   "execution_count": 20,
   "id": "MXyZXDiD5v5L",
   "metadata": {
    "colab": {
     "base_uri": "https://localhost:8080/"
    },
    "id": "MXyZXDiD5v5L",
    "outputId": "0ef0bc0b-fd5a-46f3-e63e-b58682cfd9ed"
   },
   "outputs": [
    {
     "data": {
      "text/plain": [
       "-7.887943169537969"
      ]
     },
     "execution_count": 20,
     "metadata": {},
     "output_type": "execute_result"
    }
   ],
   "source": [
    "# confirm it is the same as true_gs_energy\n",
    "get_energy(target_H,true_gs_vec).item()"
   ]
  },
  {
   "cell_type": "code",
   "execution_count": 21,
   "id": "b2e74f53-96c8-4dff-b0a3-47725ac22589",
   "metadata": {
    "id": "b2e74f53-96c8-4dff-b0a3-47725ac22589"
   },
   "outputs": [],
   "source": [
    "from jax.scipy.linalg import expm\n",
    "def lambda_evolve(x):\n",
    "    p = temp_vec  # p stands for product\n",
    "    for i in range(number_of_layers):\n",
    "        H_matrix = HA_matrix + x[i + number_of_layers] * HB_matrix\n",
    "        exp_imgH_matrix = expm(-1j * x[i] * H_matrix)\n",
    "        new_p = jnp.dot(exp_imgH_matrix, p)\n",
    "        p = new_p\n",
    "\n",
    "    energy = get_energy(target_H, p)\n",
    "    return energy"
   ]
  },
  {
   "cell_type": "code",
   "execution_count": 22,
   "id": "a7a25342-615f-4333-91c6-c8b791db1879",
   "metadata": {
    "id": "a7a25342-615f-4333-91c6-c8b791db1879"
   },
   "outputs": [],
   "source": [
    "def lambda_evolve_fidelity(x):\n",
    "    p = temp_vec\n",
    "\n",
    "    for i in range(number_of_layers):\n",
    "        H_matrix = HA_matrix + x[i + number_of_layers] * HB_matrix\n",
    "        exp_imgH_matrix = expm(-1j * x[i] * H_matrix)\n",
    "        new_p = jnp.dot(exp_imgH_matrix, p)\n",
    "        p = new_p\n",
    "\n",
    "    fidelity = get_fidelity(true_gs_vec, p)\n",
    "    norm_p = jnp.linalg.norm(p)\n",
    "    return fidelity, norm_p\n"
   ]
  },
  {
   "cell_type": "code",
   "execution_count": 23,
   "id": "13f67cf1-0be7-4f93-af27-87d66a29be6b",
   "metadata": {
    "id": "13f67cf1-0be7-4f93-af27-87d66a29be6b"
   },
   "outputs": [],
   "source": [
    "def exp_decay_guess_new(B_0, B_f, j):\n",
    "    tau = np.log(B_0 / B_f)\n",
    "    value = B_0 * np.exp(-j * tau / (number_of_layers - 1))  # Adjust for exact B_0 and B_f\n",
    "    return value\n",
    "\n",
    "# Parameters\n",
    "B_0 = 1                 # Initial value (starts here)\n",
    "B_f = 0.1               # Final value (ends here)\n",
    "# Generate B_guess using the new method\n",
    "layer_indices = np.arange(0, number_of_layers)  # Adjust indices to go from 0 to number_of_layers - 1\n",
    "B_guess = np.array([exp_decay_guess_new(B_0, B_f, j) for j in layer_indices])\n",
    "\n",
    "# Generate random lambada_guess using NumPy\n",
    "lambada_guess = np.random.uniform(1, 2, number_of_layers)\n",
    "x = np.concatenate((lambada_guess, B_guess))\n",
    "\n",
    "x = jnp.array(x,dtype=jnp.float64)"
   ]
  },
  {
   "cell_type": "code",
   "execution_count": 24,
   "id": "575b1204-3479-4ac0-848d-10e6d7b4ccca",
   "metadata": {
    "id": "575b1204-3479-4ac0-848d-10e6d7b4ccca",
    "scrolled": true
   },
   "outputs": [],
   "source": [
    "from jax.scipy.optimize import minimize as jax_minimize\n",
    "\n",
    "# Perform optimization using jax.scipy.optimize.minimize with JIT compilation\n",
    "@jax.jit\n",
    "def jit_lambda_evolve(x):\n",
    "    return lambda_evolve(x)"
   ]
  },
  {
   "cell_type": "code",
   "execution_count": 25,
   "id": "YfzKayfqpoqL",
   "metadata": {
    "id": "YfzKayfqpoqL"
   },
   "outputs": [],
   "source": [
    "# Function to convert parameters to string with full precision and commas as separators\n",
    "def params_to_string(params):\n",
    "    return ', '.join(f'{p:.16f}' for p in params)"
   ]
  },
  {
   "cell_type": "code",
   "execution_count": 26,
   "id": "CFO54t3apjT4",
   "metadata": {
    "id": "CFO54t3apjT4"
   },
   "outputs": [],
   "source": [
    "# # ADAM method\n",
    "# import jax\n",
    "# import jax.numpy as jnp\n",
    "# from jax import jit, grad\n",
    "# import optax\n",
    "\n",
    "# # Define the number of iterations\n",
    "# iterations = 10000\n",
    "\n",
    "# # Initial parameters\n",
    "# params = x\n",
    "\n",
    "# # Define the learning rate\n",
    "# learning_rate = 0.001\n",
    "\n",
    "# # Initialize the ADAM optimizer\n",
    "# optimizer = optax.adam(learning_rate)\n",
    "# opt_state = optimizer.init(params)\n",
    "\n",
    "# # Define a function to update parameters\n",
    "# @jit\n",
    "# def update(params, opt_state):\n",
    "#     grads = grad(jit_lambda_evolve)(params)\n",
    "#     updates, opt_state = optimizer.update(grads, opt_state)\n",
    "#     new_params = optax.apply_updates(params, updates)\n",
    "#     return new_params, opt_state\n",
    "\n",
    "# # List to store the cost values\n",
    "# cost_values = []\n",
    "\n",
    "# # Run the optimization loop\n",
    "# for i in range(iterations):\n",
    "#     params, opt_state = update(params, opt_state)\n",
    "#     cost = jit_lambda_evolve(params)\n",
    "#     cost_values.append(cost)\n",
    "#     if i % 1 == 0:\n",
    "#         print(f\"Iteration {i}, Cost: {cost}\")\n",
    "\n",
    "# # The optimized parameters\n",
    "# optimized_params = params\n",
    "\n",
    "# # Print the final cost value\n",
    "# print(f\"Final cost: {cost_values[-1]}\")\n",
    "\n"
   ]
  },
  {
   "cell_type": "code",
   "execution_count": 29,
   "id": "8pVspdw0Aqx2",
   "metadata": {
    "id": "8pVspdw0Aqx2"
   },
   "outputs": [],
   "source": [
    "from jaxopt import BFGS\n",
    "\n",
    "iterations = 10000\n",
    "\n",
    "# Initial parameters\n",
    "params = x  # param to update\n",
    "\n",
    "# # Create an instance of BFGS optimizer\n",
    "opt = BFGS(fun=lambda_evolve)\n",
    "\n",
    "# Initialize the optimizer state\n",
    "state = opt.init_state(params)\n",
    "\n",
    "# List to store the cost values\n",
    "cost_values = []\n",
    "\n",
    "with open(log_file_path, 'a') as f:\n",
    "    # Optimization loop\n",
    "    for i in range(iterations):\n",
    "        # Perform one iteration of BFGS\n",
    "        params, state = opt.update(params, state)\n",
    "\n",
    "        # Append the current cost to the list\n",
    "        cost_values.append(state.value)\n",
    "\n",
    "        # Print the current cost and parameters\n",
    "        print(f\"Iteration {i}: params = {params}, cost = {state.value}\")\n",
    "\n",
    "        # Write the cost value and parameters to the file during each step\n",
    "        f.write(f\"Iteration {i}: cost = {state.value}, params = {params_to_string(params)}\\n\")\n",
    "\n",
    "\n",
    "        # Write the latest state to another file, overwriting previous content\n",
    "        with open(latest_state_file_path, 'w') as state_file:\n",
    "            state_file.write(f\"Iteration {i}: state = {state}\\n\")\n",
    "\n",
    "        # check if converge\n",
    "        grad_norm = jax.numpy.linalg.norm(state.grad)\n",
    "        if grad_norm < 1e-5:\n",
    "            break\n"
   ]
  },
  {
   "cell_type": "code",
   "execution_count": 43,
   "id": "nrSWxPLIliWg",
   "metadata": {
    "colab": {
     "base_uri": "https://localhost:8080/",
     "height": 449
    },
    "id": "nrSWxPLIliWg",
    "outputId": "22d4602f-443f-4964-cbc1-2075a743f332"
   },
   "outputs": [
    {
     "data": {
      "image/png": "[encoded data removed]",
      "text/plain": [
       "<Figure size 640x480 with 1 Axes>"
      ]
     },
     "metadata": {},
     "output_type": "display_data"
    }
   ],
   "source": [
    "cost_values = np.array(cost_values)\n",
    "# Plot the cost values\n",
    "plt.plot((cost_values/true_gs_energy))\n",
    "plt.xlabel('Iteration')\n",
    "plt.ylabel('Energy ratio')\n",
    "plt.xlim()\n",
    "plt.show()"
   ]
  },
  {
   "cell_type": "code",
   "execution_count": 27,
   "id": "o_B3E5basr-L",
   "metadata": {
    "id": "o_B3E5basr-L"
   },
   "outputs": [],
   "source": [
    "########################################################################################################\n",
    "#best result N=12,10 LAYERS\n",
    "\n",
    "x_10 =np.array([0.4072185919308115, 1.2954691806813516, 0.5805573609066998, 0.8454189546075643, 1.2243197218332320, 2.1572222947038711, 2.5905765854250022, 2.7409062412055198, 2.0081536293189819, 0.9755810490605400, 4.9955913368774452, 1.7717120168593767, 1.0871728400196139, 0.7185240323450447, 0.5732536483420920, 0.4951459317676031, 0.4388398363271400, 0.3901464618527199, 0.3117549554184353, 0.1945036761838408])\n",
    "\n",
    "########################################################################################################\n",
    "# best result N=12,19 LAYERS\n",
    "x_20 =np.array([ 0.327776,  0.474971,  0.273948,  1.144375,  0.39613 ,  0.469455,\n",
    "        0.61746 ,  0.71229 ,  1.606741,  2.45683 ,  2.329665,  2.300839,\n",
    "        2.067805,  0.767213,  1.982016,  1.088733,  1.654539,  1.20256 ,\n",
    "        1.599378, 11.170304,  4.166785,  2.284776,  1.569997,  1.193193,\n",
    "        0.900791,  0.749189,  0.627265,  0.558349,  0.48868 ,  0.448456,\n",
    "        0.420571,  0.379537,  0.343144,  0.301675,  0.264275,  0.237982,\n",
    "        0.170687,  0.123693])\n",
    "\n",
    "########################################################################################################\n",
    "# best result N=12,28 LAYERS\n",
    "x_30 =np.array([ 0.372775,  0.179961,  0.390973,  1.425035,  0.510744,  1.729341,\n",
    "        0.450043,  0.453797,  1.903975,  1.265933,  0.588657,  1.078548,\n",
    "        0.579753,  1.712308,  0.678603,  1.718906,  2.534426,  1.285703,\n",
    "        1.341049,  0.693764,  0.570384,  0.675155,  0.808742,  2.114068,\n",
    "        0.826767,  0.870555,  1.020514,  1.043119, 13.586468,  3.363042,\n",
    "        1.634305,  1.4103  ,  1.21528 ,  1.117821,  0.991998,  0.83695 ,\n",
    "        0.743113,  0.717898,  0.658147,  0.626936,  0.603037,  0.547218,\n",
    "        0.514397,  0.480427,  0.454724,  0.420769,  0.430994,  0.392782,\n",
    "        0.36764 ,  0.342992,  0.306503,  0.275602,  0.250099,  0.211784,\n",
    "        0.173192,  0.123975])\n",
    "\n",
    "########################################################################################################\n",
    "\n",
    "\n",
    "# best result N=12,46 LAYERS\n",
    "x_50 =np.array([ 0.097725,  0.477288,  0.443276,  0.172682,  1.246086,  0.880701,\n",
    "        0.311077,  0.343559,  0.4446  ,  0.498634,  3.513766,  2.195835,\n",
    "       -1.679474,  2.34228 ,  1.033489,  3.00999 , -0.583254, -1.904584,\n",
    "        6.23439 ,  0.627215,  0.72342 ,  0.945287,  0.84764 ,  2.777252,\n",
    "        0.920419,  0.795509,  0.771761,  1.074029,  0.849288,  0.778886,\n",
    "        2.109009,  2.799745,  2.618029,  9.436081, -6.322151,  9.304835,\n",
    "        0.817901,  0.557422,  0.670992,  0.875811,  5.658462, -0.068928,\n",
    "        0.289072,  5.464772,  2.425481,  1.070671, 23.078089,  7.676801,\n",
    "        4.609007,  3.1356  ,  2.488154,  2.080197,  1.473614,  1.071259,\n",
    "        0.827909,  0.710397,  0.655159,  0.635309,  0.610464,  0.589641,\n",
    "        0.570621,  0.552939,  0.528794,  0.507812,  0.486003,  0.456375,\n",
    "        0.418009,  0.388989,  0.374755,  0.359278,  0.349239,  0.336304,\n",
    "        0.314521,  0.293763,  0.279373,  0.261307,  0.24796 ,  0.243052,\n",
    "        0.236972,  0.232609,  0.236054,  0.227522,  0.218561,  0.199195,\n",
    "        0.179152,  0.151823,  0.135518,  0.330649,  0.170398,  0.117737,\n",
    "        0.115771,  0.107222])\n",
    "\n",
    "\n",
    "########################################################################################################\n",
    "# NOTE: The number of steps was supposed to be 10,20,30 and 50. But after the optimization, values fall below 10^-2 are removed, thus resulting number of steps in 10, 19, 28 and 46."
   ]
  },
  {
   "cell_type": "code",
   "execution_count": 38,
   "id": "sWGP-tDd3grN",
   "metadata": {
    "colab": {
     "base_uri": "https://localhost:8080/"
    },
    "id": "sWGP-tDd3grN",
    "outputId": "fd3482f6-b4f3-48c1-9c45-4e74520ac416"
   },
   "outputs": [
    {
     "name": "stdout",
     "output_type": "stream",
     "text": [
      "energy ratio is 0.9998506800308802\n"
     ]
    }
   ],
   "source": [
    "# Example usage based on previously optimized data\n",
    "number_of_layers = len(x_50)//2\n",
    "print('energy ratio is', lambda_evolve(x_50)/true_gs_energy)"
   ]
  }
 ],
 "metadata": {
  "accelerator": "GPU",
  "colab": {
   "gpuType": "T4",
   "provenance": []
  },
  "kernelspec": {
   "display_name": "Python 3 (ipykernel)",
   "language": "python",
   "name": "python3"
  },
  "language_info": {
   "codemirror_mode": {
    "name": "ipython",
    "version": 3
   },
   "file_extension": ".py",
   "mimetype": "text/x-python",
   "name": "python",
   "nbconvert_exporter": "python",
   "pygments_lexer": "ipython3",
   "version": "3.11.5"
  }
 },
 "nbformat": 4,
 "nbformat_minor": 5
}
