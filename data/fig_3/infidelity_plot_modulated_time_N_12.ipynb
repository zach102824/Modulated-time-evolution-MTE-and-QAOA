{
 "cells": [
  {
   "cell_type": "code",
   "execution_count": 5,
   "id": "a4a990ca-4bf0-47ef-a613-ee08ebc40061",
   "metadata": {
    "tags": []
   },
   "outputs": [],
   "source": [
    "import numpy as np"
   ]
  },
  {
   "cell_type": "code",
   "execution_count": 6,
   "id": "2088b879-eb5e-4eb7-a2ec-bee5bf3bcfe8",
   "metadata": {
    "tags": []
   },
   "outputs": [],
   "source": [
    "import matplotlib\n",
    "import matplotlib.pyplot as plt"
   ]
  },
  {
   "cell_type": "code",
   "execution_count": 7,
   "id": "a1c30c0e-fa1c-45cf-bc89-7d4208495b52",
   "metadata": {},
   "outputs": [],
   "source": [
    "# 64 bits\n",
    "x_mod_data = [10,19,28,46]\n",
    "inf_mod_data = 1-np.array([0.9276669570687547,0.9949170383095141,0.9981773567647617,0.9996614296062228])"
   ]
  },
  {
   "cell_type": "code",
   "execution_count": 8,
   "id": "2786cd40-ec20-4efb-b281-e4d35fb81b13",
   "metadata": {},
   "outputs": [],
   "source": [
    "x_qaoa_data = [31,41,51,61,71,81]\n",
    "inf_qaoa_data = 1-np.array([0.8238162155,0.9640804224,0.9850924685,0.9975992135,0.9996371994,0.9998045345])"
   ]
  },
  {
   "cell_type": "code",
   "execution_count": 9,
   "id": "d12ed787-e0bd-41c3-b826-daab43773e08",
   "metadata": {},
   "outputs": [],
   "source": [
    "# 8 sites data\n",
    "\n",
    "x_mod_data_8 = [10,19,50,80]   \n",
    "inf_mod_data_8 = 1-np.array([0.9907158367081793,0.9996034442544877,0.999968007105579,0.9999999994135846])\n",
    "\n",
    "x_qaoa_data_8 = [31,40,50,60,81]\n",
    "inf_qaoa_data_8 = 1-np.array([0.9954811323583869,0.9981717321117185,0.9999850505120567,0.9999850505120567,0.9999999858346578])"
   ]
  },
  {
   "cell_type": "code",
   "execution_count": 10,
   "id": "aec6b259-b31a-471f-a2b9-22df8640c64c",
   "metadata": {
    "jupyter": {
     "source_hidden": true
    },
    "tags": []
   },
   "outputs": [],
   "source": [
    "# # Create a figure and the first set of axes\n",
    "# fig, ax1 = plt.subplots()\n",
    "\n",
    "# # Plot the first dataset with the left y-axis\n",
    "# ax1.semilogy(x_mod_data, inf_mod_data,lw=2,color='blue')\n",
    "# ax1.semilogy(x_mod_data, inf_mod_data,'o',color='blue')\n",
    "# ax1.semilogy(x_qaoa_data, inf_qaoa_data,'--',color='blue')\n",
    "# ax1.semilogy(x_qaoa_data, inf_qaoa_data,'o',color='blue')\n",
    "# ax1.set_xlabel('number of steps', size=16)\n",
    "# ax1.set_ylabel('Infidelity', color='blue', size=16)\n",
    "\n",
    "# # # Set specific x-ticks\n",
    "# xticks = [0,20,40,60,80]\n",
    "# ax1.set_xticks(xticks)\n",
    "# ax1.set_xticklabels([str(x) for x in xticks], size=16)\n",
    "\n",
    "# # # # Set specific x-ticks\n",
    "# # yticks = [0.4,0.1,0.01,0.001,0.0001]\n",
    "# # ax1.set_yticks(yticks)\n",
    "# # ax1.set_yticklabels([str(x) for x in yticks], size=16)\n",
    "\n",
    "# # Set specific y-ticks\n",
    "# yticks = [0.6, 0.1, 0.01, 0.001]\n",
    "# ax1.set_yticks(yticks)\n",
    "\n",
    "# # Format y-tick labels in scientific notation using LaTeX formatting\n",
    "# yticklabels = ['$6 \\\\times 10^{-1}$', '$1 \\\\times 10^{-1}$', '$1 \\\\times 10^{-2}$', '$1 \\\\times 10^{-3}$']\n",
    "# ax1.set_yticklabels(yticklabels, size=16)\n",
    "\n",
    "\n",
    "# # Set the size of tick labels\n",
    "# ax1.tick_params(axis='y', labelsize=16)\n",
    "\n",
    "\n",
    "# # # Set different y-ticks for the right y-axis\n",
    "# # fig.set_size_inches(10, 6)\n",
    "# plt.tight_layout()\n",
    "# fig.savefig('infidelity_lamba_qaoa.png',bbox_inches='tight')\n",
    "# plt.show()"
   ]
  },
  {
   "cell_type": "code",
   "execution_count": 11,
   "id": "e773ba94-c895-4963-b684-6b15d2504d25",
   "metadata": {
    "jupyter": {
     "source_hidden": true
    }
   },
   "outputs": [],
   "source": [
    "# # Create a figure and the first set of axes with a wider width\n",
    "# fig, ax1 = plt.subplots(figsize=(8,5))\n",
    "\n",
    "# # Plot the first dataset with the left y-axis\n",
    "# ax1.semilogy(x_mod_data, inf_mod_data, lw=2, color='blue')\n",
    "# ax1.semilogy(x_mod_data, inf_mod_data, 'o', color='blue')\n",
    "# ax1.semilogy(x_qaoa_data, inf_qaoa_data, '--', color='blue')\n",
    "# ax1.semilogy(x_qaoa_data, inf_qaoa_data, 'o', color='blue')\n",
    "# ax1.set_xlabel('number of steps', size=16)\n",
    "# ax1.set_ylabel('Infidelity', color='blue', size=16)\n",
    "\n",
    "# # Set specific x-ticks\n",
    "# xticks = [20, 40, 60, 80]\n",
    "# ax1.set_xticks(xticks)\n",
    "# ax1.set_xticklabels([str(x) for x in xticks], size=16)\n",
    "\n",
    "# # Set specific y-ticks for the left y-axis\n",
    "# yticks = [0.5, 0.1, 0.01, 0.001]\n",
    "# ax1.set_yticks(yticks)\n",
    "\n",
    "# # Format y-tick labels in scientific notation using LaTeX formatting\n",
    "# yticklabels = ['$5 \\\\times 10^{-1}$', '$1 \\\\times 10^{-1}$', '$1 \\\\times 10^{-2}$', '$1 \\\\times 10^{-3}$']\n",
    "# ax1.set_yticklabels(yticklabels, size=16)\n",
    "\n",
    "# # Set the size of tick labels for the left y-axis\n",
    "# ax1.tick_params(axis='y', labelsize=16, labelcolor='blue')\n",
    "\n",
    "# # Create a second set of axes for the right y-axis\n",
    "# ax2 = ax1.twinx()\n",
    "\n",
    "# ax2.semilogy(x_mod_data_8, inf_mod_data_8, lw=2, color='red')\n",
    "# ax2.semilogy(x_mod_data_8, inf_mod_data_8, 'o', color='red')\n",
    "# ax2.semilogy(x_qaoa_data_8, inf_qaoa_data_8, '--', color='red')\n",
    "# ax2.semilogy(x_qaoa_data_8, inf_qaoa_data_8, 'o', color='red')\n",
    "\n",
    "# # Set specific y-ticks for the right y-axis\n",
    "# yticks_right = [0.1, 0.001, 0.00001, 0.0000001, 0.000000001]\n",
    "# ax2.set_yticks(yticks_right)\n",
    "\n",
    "# # Set the y-tick labels directly without using scientific notation\n",
    "# yticklabels_right = ['$1 \\\\times 10^{-1}$', '$ 1 \\\\times 10^{-3}$', '$1 \\\\times 10^{-5}$', '$1 \\\\times 10^{-7}$', '$1 \\\\times 10^{-9}$']\n",
    "# ax2.set_yticklabels(yticklabels_right, size=16)\n",
    "\n",
    "# # Set the size of tick labels for the right y-axis\n",
    "# ax2.tick_params(axis='y', labelsize=16, labelcolor='red')\n",
    "# ax2.set_ylabel('Infidelity', color='red', size=16)\n",
    "# # Adjust layout to make room for the second y-axis\n",
    "# plt.tight_layout()\n",
    "\n",
    "# # Save the figure\n",
    "# fig.savefig('infidelity_lamba_qaoa.png', bbox_inches='tight')\n",
    "\n",
    "# # Show the plot\n",
    "# plt.show()\n"
   ]
  },
  {
   "cell_type": "code",
   "execution_count": 12,
   "id": "a2fa1020-4b5a-4f10-bd57-0a2e89ebb465",
   "metadata": {
    "jupyter": {
     "source_hidden": true
    }
   },
   "outputs": [],
   "source": [
    "# # Create a figure and the first set of axes with a wider width\n",
    "# fig, ax1 = plt.subplots(figsize=(7,3))\n",
    "\n",
    "# # Plot the first dataset with the left y-axis\n",
    "# ax1.semilogy(x_mod_data, inf_mod_data, lw=2, color='blue', label='Model Data')\n",
    "# ax1.semilogy(x_mod_data, inf_mod_data, 'o', color='blue')\n",
    "# ax1.semilogy(x_qaoa_data, inf_qaoa_data, '--', color='blue', label='QAOA Data')\n",
    "# ax1.semilogy(x_qaoa_data, inf_qaoa_data, '^', color='blue', markersize=8)\n",
    "# ax1.set_xlabel('number of steps', size=20)\n",
    "# ax1.set_ylabel('Infidelity', color='black', size=20)\n",
    "\n",
    "# # Set specific x-ticks\n",
    "# xticks = np.arange(0,100,10)\n",
    "# ax1.set_xticks(xticks)\n",
    "# ax1.set_xticklabels([str(x) for x in xticks], size=20)\n",
    "\n",
    "# # Plot the second dataset on the same axes\n",
    "# ax1.semilogy(x_mod_data_8, inf_mod_data_8, lw=2, color='red', label='Model Data 8')\n",
    "# ax1.semilogy(x_mod_data_8, inf_mod_data_8, 'o', color='red')\n",
    "# ax1.semilogy(x_qaoa_data_8, inf_qaoa_data_8, '--', color='red', label='QAOA Data 8')\n",
    "# ax1.semilogy(x_qaoa_data_8, inf_qaoa_data_8, '^', color='red', markersize=8)\n",
    "\n",
    "\n",
    "# # Set specific y-ticks for the y-axis\n",
    "# yticks = [1e-1, 1e-3, 1e-5, 1e-7, 1e-9]\n",
    "# ax1.set_yticks(yticks)\n",
    "\n",
    "# # Format y-tick labels in scientific notation using LaTeX formatting\n",
    "# yticklabels = [ '$10^{-1}$', '$ 10^{-3}$', \n",
    "#                '$ 10^{-5}$', '$ 10^{-7}$', '$ 10^{-9}$']\n",
    "# ax1.set_yticklabels(yticklabels, size=20)\n",
    "\n",
    "# # Set the size of tick labels for the left y-axis\n",
    "# ax1.tick_params(axis='y', labelsize=20)\n",
    "\n",
    "# # Adjust layout to make room for the labels\n",
    "# plt.tight_layout()\n",
    "\n",
    "# # Save the figure\n",
    "# fig.savefig('infidelity_lambda_qaoa.png', bbox_inches='tight')\n",
    "\n",
    "# # Show the plot\n",
    "# plt.show()\n"
   ]
  },
  {
   "cell_type": "code",
   "execution_count": 13,
   "id": "7128e6b1-3204-4371-a170-7f65fbe007df",
   "metadata": {},
   "outputs": [
    {
     "data": {
      "image/png": "[encoded data removed]",
      "text/plain": [
       "<Figure size 700x300 with 1 Axes>"
      ]
     },
     "metadata": {},
     "output_type": "display_data"
    }
   ],
   "source": [
    "import matplotlib.pyplot as plt\n",
    "import numpy as np\n",
    "\n",
    "# Define markersize\n",
    "markersize = 8\n",
    "\n",
    "# Create a figure and the first set of axes with a wider width\n",
    "fig, ax1 = plt.subplots(figsize=(7, 3))\n",
    "\n",
    "# Plot the first dataset with different symbols\n",
    "ax1.semilogy(x_mod_data, inf_mod_data, lw=2, color='blue', marker='o', markersize=markersize, label='12-site MTE')\n",
    "ax1.semilogy(x_qaoa_data, inf_qaoa_data, '--', color='blue', marker='^', markersize=markersize, label='12-site QAOA')\n",
    "\n",
    "# Plot the second dataset with different symbols\n",
    "ax1.semilogy(x_mod_data_8, inf_mod_data_8, lw=2, color='red', marker='s', markersize=markersize, label='8-site MTE')\n",
    "ax1.semilogy(x_qaoa_data_8, inf_qaoa_data_8, '--', color='red', marker='v', markersize=markersize, label='8-site QAOA')\n",
    "\n",
    "# Set the x-axis label\n",
    "ax1.set_xlabel('number of steps', size=15)\n",
    "\n",
    "# Set the y-axis label\n",
    "ax1.set_ylabel('Infidelity', color='black', size=15)\n",
    "\n",
    "# Set specific x-ticks\n",
    "xticks = np.arange(10, 90, 10)\n",
    "ax1.set_xticks(xticks)\n",
    "ax1.set_xticklabels([str(x) for x in xticks], size=15)\n",
    "\n",
    "# Set specific y-ticks for the y-axis\n",
    "yticks = [1e-1, 1e-3, 1e-5, 1e-7, 1e-9]\n",
    "ax1.set_yticks(yticks)\n",
    "\n",
    "# Format y-tick labels in scientific notation using LaTeX formatting\n",
    "yticklabels = ['$10^{-1}$', '$10^{-3}$', '$10^{-5}$', '$10^{-7}$', '$10^{-9}$']\n",
    "ax1.set_yticklabels(yticklabels, size=15)\n",
    "\n",
    "# Set the size of tick labels for the left y-axis\n",
    "ax1.tick_params(axis='y', labelsize=15)\n",
    "\n",
    "# Add a legend\n",
    "ax1.legend(loc='best', fontsize=12)\n",
    "\n",
    "# Adjust layout to make room for the labels\n",
    "plt.tight_layout()\n",
    "\n",
    "# Save the figure\n",
    "fig.savefig('infidelity_lambda_qaoa.png', bbox_inches='tight')\n",
    "\n",
    "# Show the plot\n",
    "plt.show()\n"
   ]
  },
  {
   "cell_type": "code",
   "execution_count": null,
   "id": "c52ade12-9f51-44cd-b992-113278b1e556",
   "metadata": {},
   "outputs": [],
   "source": []
  },
  {
   "cell_type": "code",
   "execution_count": null,
   "id": "f14d7fc9-c361-412e-89b5-59e6f0afef95",
   "metadata": {},
   "outputs": [],
   "source": []
  }
 ],
 "metadata": {
  "kernelspec": {
   "display_name": "Python 3 (ipykernel)",
   "language": "python",
   "name": "python3"
  },
  "language_info": {
   "codemirror_mode": {
    "name": "ipython",
    "version": 3
   },
   "file_extension": ".py",
   "mimetype": "text/x-python",
   "name": "python",
   "nbconvert_exporter": "python",
   "pygments_lexer": "ipython3",
   "version": "3.11.5"
  }
 },
 "nbformat": 4,
 "nbformat_minor": 5
}
