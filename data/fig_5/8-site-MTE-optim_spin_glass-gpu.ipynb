{
 "cells": [
  {
   "cell_type": "code",
   "execution_count": 1,
   "id": "eb681a6f-13fc-44dc-bef9-5713efc959a5",
   "metadata": {},
   "outputs": [],
   "source": [
    "# initialize variables\n",
    "N = 8 \n",
    "B = 0.1\n",
    "number_of_layers = 20"
   ]
  },
  {
   "cell_type": "code",
   "execution_count": 2,
   "id": "07cb000c-4018-47fb-9edd-9560d594fa91",
   "metadata": {
    "tags": []
   },
   "outputs": [],
   "source": [
    "import numpy as np\n",
    "import torch\n",
    "import torch.optim as optim\n",
    "device = torch.device(\"cuda\" if torch.cuda.is_available() else \"cpu\")\n",
    "from scipy.linalg import eigh\n",
    "import matplotlib.pyplot as plt\n",
    "import pandas as pd\n",
    "from scipy.linalg import expm\n",
    "import pickle\n",
    "import time\n",
    "import scipy\n",
    "Q = pow(2, N)  # Dimension of the Hilbert space for N spins\n",
    "\n",
    "def D2B(num, digit):\n",
    "    string = f'{num:0{digit}b}'  # Convert to binary string with leading zeros\n",
    "    result = np.array([int(ele) for ele in string], int)  # Convert each bit to an integer array\n",
    "    return result\n",
    "\n",
    "def B2D(array):\n",
    "    res = 0\n",
    "    for ele in array:\n",
    "        res = (res << 1) | ele  # Left shift and add the current bit\n",
    "    return res\n",
    "\n",
    "def spin_reflection(array):\n",
    "    return 1 - array  # Flip each spin (1 -> 0, 0 -> 1)\n",
    "\n",
    "# This one is the one with critial energy gap 0.001\n",
    "J_matrix= np.array([[0.0, -0.770026, -0.612588, 1.884469, -0.570562, 0.616424, 1.663316, -0.448101],\n",
    "                                         [0.0, 0.0, 0.795786, 0.693566, -1.818596, -1.793477, 0.869296, -0.476921],\n",
    "                                         [0.0, 0.0, 0.0, 1.166175, 2.639218, 0.896904, -0.685189, 0.523481],\n",
    "                                         [0.0, 0.0, 0.0, 0.0, 1.069138, 0.163168, 0.637887, 0.75839],\n",
    "                                         [0.0, 0.0, 0.0, 0.0, 0.0, 1.210793, 0.186866, 0.464955],\n",
    "                                         [0.0, 0.0, 0.0, 0.0, 0.0, 0.0, -2.255085, -1.129867],\n",
    "                                         [0.0, 0.0, 0.0, 0.0, 0.0, 0.0, 0.0, -1.741586],\n",
    "                                         [0.0, 0.0, 0.0, 0.0, 0.0, 0.0, 0.0, 0.0]])\n",
    "\n",
    "\n",
    "# This one is the one with critial energy gap 0.009\n",
    "#J_matrix = np.array([[0.000000, 0.773813, 2.485213, -0.561542, 0.008873, 0.691680, 0.086291, -0.564034], [0.000000, 0.000000, 1.397455, -0.112515, 0.388229, -1.835349, 1.372802, 0.738212], [0.000000, 0.000000, 0.000000, -0.169025, 0.746900, -1.199308, 0.269533, -1.233924], [0.000000, 0.000000, 0.000000, 0.000000, 0.939910, 0.653794, 1.202234, 0.980422], [0.000000, 0.000000, 0.000000, 0.000000, 0.000000, -1.008154, 2.553466, 0.876100], [0.000000, 0.000000, 0.000000, 0.000000, 0.000000, 0.000000, 0.196304, -0.398031], [0.000000, 0.000000, 0.000000, 0.000000, 0.000000, 0.000000, 0.000000, 0.282909], [0.000000, 0.000000, 0.000000, 0.000000, 0.000000, 0.000000, 0.000000, 0.000000]])\n",
    "# Hamiltonian construction\n",
    "H_a = np.zeros(Q)  # Initialize the interaction term (ZZ term), which is diagonal\n",
    "HB_matrix = np.zeros((Q, Q))  # Initialize the transverse field term (X term)\n",
    "\n",
    "for state in range(Q):  # Loop over all possible basis states\n",
    "    basis = D2B(state, N)  # Convert the current state index to a binary representation\n",
    "    for i in range(N):  # Loop over each spin in the state\n",
    "        flipped_basis = basis.copy()  # Copy the current basis state\n",
    "        flipped_basis[i] = 1 - flipped_basis[i]  # Flip the i-th spin\n",
    "        new_state = B2D(flipped_basis)  # Convert the flipped basis back to a decimal index\n",
    "        HB_matrix[state, new_state] += 1  # Add the contribution to the X term\n",
    "\n",
    "    # Interaction term (ZZ term)\n",
    "    for i in range(N):  # Loop over each spin\n",
    "        for j in range(i + 1, N):  # Loop over pairs of spins (i, j)\n",
    "            J_ij = J_matrix[i][j]  # Interaction strength between spin i and j\n",
    "            # Add the contribution to the ZZ term\n",
    "            H_a[state] += J_ij * (1 if basis[i] == basis[j] else -1)\n",
    "\n",
    "# Convert H_a to a diagonal matrix\n",
    "HA_matrix = np.diag(H_a)"
   ]
  },
  {
   "cell_type": "code",
   "execution_count": null,
   "id": "3057f1bd-59a7-4d9d-856d-de9d3d80856b",
   "metadata": {},
   "outputs": [],
   "source": []
  },
  {
   "cell_type": "code",
   "execution_count": 3,
   "id": "5678556d-c044-4160-8288-ab85b6cf6022",
   "metadata": {},
   "outputs": [],
   "source": [
    "def calculate_spin_parity(eigenvector):\n",
    "    parity_sum = 0  # Initialize the parity sum for the current eigenvector\n",
    "    for basis_idx in range(Q):  # Loop over all basis states\n",
    "        basis = D2B(basis_idx, N)  # Convert basis index to binary representation\n",
    "        reflected_basis = spin_reflection(basis)  # Apply spin reflection to the basis state\n",
    "        reflected_idx = B2D(reflected_basis)  # Convert the reflected basis back to a decimal index\n",
    "\n",
    "        # Calculate the parity by comparing original and reflected amplitudes\n",
    "        parity_sum += eigenvector[basis_idx] * eigenvector[reflected_idx]\n",
    "\n",
    "    return round(parity_sum, 5)  # Round to 5 digits"
   ]
  },
  {
   "cell_type": "code",
   "execution_count": 4,
   "id": "4a5a615f-4bba-4115-adac-33388d311370",
   "metadata": {
    "tags": []
   },
   "outputs": [],
   "source": [
    "# get true ground state \n",
    "w, v = eigh(HA_matrix + B* HB_matrix)\n",
    "inx = np.argsort(w)\n",
    "true_gs_vec = v[:, inx[0]]\n",
    "true_gs_energy = w[0]\n",
    "E_max = w[-1]"
   ]
  },
  {
   "cell_type": "code",
   "execution_count": 5,
   "id": "24d64853-9986-4270-a169-d1a78e62115d",
   "metadata": {},
   "outputs": [
    {
     "name": "stdout",
     "output_type": "stream",
     "text": [
      "true ground state energy is -13.609517686814241\n"
     ]
    }
   ],
   "source": [
    "print('true ground state energy is', true_gs_energy)"
   ]
  },
  {
   "cell_type": "code",
   "execution_count": 6,
   "id": "ecacef1f-cf97-46d1-a321-bc30a7c23c16",
   "metadata": {
    "tags": []
   },
   "outputs": [],
   "source": [
    "# get  ground state with initial H_B Hamiltonian \n",
    "w, v = eigh(HB_matrix)\n",
    "inx = np.argsort(w)\n",
    "temp_vec = v[:, inx[0]] # the index here could be zero or one, depending on the parity\n",
    "# but if the wrong index will always give roughly zero fidelity "
   ]
  },
  {
   "cell_type": "code",
   "execution_count": 7,
   "id": "fe952f0a-5b74-42b9-bbbb-24ffb69c6673",
   "metadata": {},
   "outputs": [
    {
     "data": {
      "text/plain": [
       "1.0"
      ]
     },
     "execution_count": 7,
     "metadata": {},
     "output_type": "execute_result"
    }
   ],
   "source": [
    "calculate_spin_parity(temp_vec)"
   ]
  },
  {
   "cell_type": "code",
   "execution_count": 8,
   "id": "e0a9cbca-d47e-4c50-b045-dfc00747188b",
   "metadata": {
    "tags": []
   },
   "outputs": [
    {
     "name": "stdout",
     "output_type": "stream",
     "text": [
      "fidelity before optim is 0.020315997322665695\n"
     ]
    }
   ],
   "source": [
    "# get initial fidelity\n",
    "fidelity_t_0 = pow(np.dot(true_gs_vec,temp_vec),2) # all real so no need to c.c.\n",
    "print('fidelity before optim is', fidelity_t_0)"
   ]
  },
  {
   "cell_type": "code",
   "execution_count": 9,
   "id": "c72877bc-3bf1-4197-9dfb-3d65bd3eb7d4",
   "metadata": {},
   "outputs": [],
   "source": [
    "# move to gpu \n",
    "\n",
    "HA_matrix = torch.tensor(HA_matrix, dtype=torch.complex128).to(device=device)\n",
    "HB_matrix = torch.tensor(HB_matrix, dtype=torch.complex128).to(device=device)\n",
    "target_H = HA_matrix + B * HB_matrix\n",
    "true_gs_vec = torch.tensor(true_gs_vec, dtype=torch.complex128, device=device)\n",
    "temp_vec = torch.tensor(temp_vec, dtype=torch.complex128, device=device)"
   ]
  },
  {
   "cell_type": "code",
   "execution_count": 10,
   "id": "8190811b-89a5-45ef-a38a-9f90910054b9",
   "metadata": {},
   "outputs": [],
   "source": [
    "def get_fidelity_torch(vector1, vector2):\n",
    "    overlap = torch.tensordot(vector1, vector2, dims=1)\n",
    "    overlap_conj = torch.conj(overlap)\n",
    "    fidelity = torch.real(overlap * overlap_conj)\n",
    "    return fidelity\n",
    "\n",
    "def get_energy_torch(matrix, vector):\n",
    "    conj_vector = torch.conj(vector)\n",
    "    energy = torch.real(torch.tensordot(conj_vector, torch.tensordot(matrix, vector, dims=1), dims=1)).to(torch.float64)\n",
    "    return energy"
   ]
  },
  {
   "cell_type": "code",
   "execution_count": null,
   "id": "9fc2461e-93a1-492e-bdfa-2829efcb51dc",
   "metadata": {},
   "outputs": [],
   "source": []
  },
  {
   "cell_type": "code",
   "execution_count": 11,
   "id": "97a05254-2e77-4f4c-aefd-ac77aee4614f",
   "metadata": {},
   "outputs": [],
   "source": [
    "def lambda_evolve(x):\n",
    "    # product state\n",
    "    p = temp_vec  # p stands for product\n",
    "    \n",
    "    # loop each time step\n",
    "    for i in range(number_of_layers):\n",
    "        H_matrix = HA_matrix + x[i + number_of_layers] * HB_matrix\n",
    "        exp_imgH_matrix = torch.matrix_exp(-1j * x[i] * H_matrix)\n",
    "        new_p = torch.matmul(exp_imgH_matrix, p)\n",
    "        # update state\n",
    "        p = new_p\n",
    "    \n",
    "    # get energy\n",
    "    energy = get_energy_torch(target_H, p)\n",
    "    return energy"
   ]
  },
  {
   "cell_type": "code",
   "execution_count": 12,
   "id": "a7a25342-615f-4333-91c6-c8b791db1879",
   "metadata": {},
   "outputs": [],
   "source": [
    "def lambda_evolve_fidelity_list(x):\n",
    "    fidelity_list = []\n",
    "    inst_f_list = []\n",
    "    p = temp_vec  # p stands for product\n",
    "     \n",
    "    # loop each time step\n",
    "    for i in range(number_of_layers):            \n",
    "        H_matrix = HA_matrix + x[i + number_of_layers] * HB_matrix\n",
    "        # inst H\n",
    "        if x[i] < 0 and x[i + number_of_layers] < 0:\n",
    "            print('both smaller than zero', i)\n",
    "            w, v = torch.linalg.eigh(-HA_matrix - x[i + number_of_layers] * HB_matrix)\n",
    "            inst_gs_vec = v[:, 0]\n",
    "        else:\n",
    "            w, v = torch.linalg.eigh(HA_matrix + x[i + number_of_layers] * HB_matrix)\n",
    "            inst_gs_vec = v[:, 0]\n",
    "            \n",
    "        exp_imgH_matrix = torch.matrix_exp(-1j * x[i] * H_matrix)\n",
    "        new_p = torch.matmul(exp_imgH_matrix, p)\n",
    "        # update state\n",
    "        p = new_p\n",
    "        fidelity_list.append(get_fidelity_torch(true_gs_vec, p))\n",
    "        inst_f_list.append(get_fidelity_torch(inst_gs_vec, p))\n",
    "    \n",
    "    return torch.tensor(fidelity_list), torch.tensor(inst_f_list)"
   ]
  },
  {
   "cell_type": "code",
   "execution_count": 13,
   "id": "13f67cf1-0be7-4f93-af27-87d66a29be6b",
   "metadata": {},
   "outputs": [],
   "source": [
    "def exp_decay_guess_new(B_0, B_f, j):\n",
    "    tau = np.log(B_0 / B_f)\n",
    "    value = B_0 * np.exp(-j * tau / (number_of_layers - 1))  # Adjust for exact B_0 and B_f\n",
    "    return value\n",
    "\n",
    "# Parameters\n",
    "B_0 = 10                 # Initial value (starts here)\n",
    "B_f = 0.1               # Final value (ends here)\n",
    "B_guess = np.array([exp_decay_guess_new(B_0, B_f, layer) for layer in range(number_of_layers)])\n",
    "lambada_guess = np.random.uniform(1,2,number_of_layers)\n",
    "x = np.concatenate((lambada_guess, B_guess))\n",
    "x =torch.tensor(x, dtype=torch.float64, device=device, requires_grad=True)\n",
    "######################################################################################################\n",
    "# the first len(number_of_layers) parameters are the lambda field parameter while the rest is for the B field "
   ]
  },
  {
   "cell_type": "code",
   "execution_count": null,
   "id": "6e45dbb4-c826-429d-b967-00132558a1f2",
   "metadata": {},
   "outputs": [],
   "source": []
  },
  {
   "cell_type": "code",
   "execution_count": 14,
   "id": "0803ea1d-372f-4340-a782-38a6779eee85",
   "metadata": {},
   "outputs": [],
   "source": [
    "# Optimizer setup\n",
    "def run_optimization(x, lr, max_epochs, gradient_threshold):\n",
    "    optimizer = optim.LBFGS([x], lr=lr, max_iter=20, history_size=1000)\n",
    "    epoch = 0\n",
    "\n",
    "    def closure():\n",
    "        optimizer.zero_grad()\n",
    "        energy = lambda_evolve(x)\n",
    "        energy.backward()\n",
    "        return energy\n",
    "\n",
    "    start_time = time.time()\n",
    "    while epoch < max_epochs:\n",
    "        optimizer.step(closure)\n",
    "\n",
    "        # Log and save data\n",
    "        gradient_norm = x.grad.norm().cpu().detach().numpy()\n",
    "        print(f\"Epoch {epoch + 1}, Energy: {lambda_evolve(x).cpu().detach().numpy():.6f}, Gradient Norm: {gradient_norm:.6f}\")\n",
    "\n",
    "        # Check if gradient is smaller than threshold\n",
    "        if gradient_norm < gradient_threshold:\n",
    "            break\n",
    "\n",
    "        epoch += 1\n",
    "    \n",
    "    end_time = time.time()\n",
    "    print(f\"Total time: {end_time - start_time:.2f} seconds\")"
   ]
  },
  {
   "cell_type": "code",
   "execution_count": null,
   "id": "c51cc37e-af2e-4861-8923-84dd427845df",
   "metadata": {
    "scrolled": true
   },
   "outputs": [
    {
     "name": "stdout",
     "output_type": "stream",
     "text": [
      "Epoch 1, Energy: -13.435045, Gradient Norm: 0.795009\n",
      "Epoch 2, Energy: -13.490161, Gradient Norm: 0.135316\n",
      "Epoch 3, Energy: -13.511200, Gradient Norm: 0.130702\n",
      "Epoch 4, Energy: -13.525549, Gradient Norm: 0.133868\n",
      "Epoch 5, Energy: -13.528404, Gradient Norm: 0.024852\n",
      "Epoch 6, Energy: -13.531505, Gradient Norm: 0.041655\n",
      "Epoch 7, Energy: -13.533866, Gradient Norm: 0.022868\n",
      "Epoch 8, Energy: -13.534335, Gradient Norm: 0.015694\n",
      "Epoch 9, Energy: -13.534426, Gradient Norm: 0.003975\n",
      "Epoch 10, Energy: -13.534475, Gradient Norm: 0.002577\n",
      "Epoch 11, Energy: -13.534484, Gradient Norm: 0.001128\n"
     ]
    }
   ],
   "source": [
    "# Run the optimization\n",
    "run_optimization(x, 0.1, 10000, 0.001)"
   ]
  },
  {
   "cell_type": "code",
   "execution_count": null,
   "id": "372205db-c3f1-4652-8e5b-6704c3cbb54a",
   "metadata": {},
   "outputs": [],
   "source": [
    "torch.set_printoptions(precision=14)\n",
    "lambda_evolve(x)"
   ]
  },
  {
   "cell_type": "code",
   "execution_count": null,
   "id": "45989f75-c1a3-4b96-beae-3d8437efe8db",
   "metadata": {},
   "outputs": [],
   "source": []
  },
  {
   "cell_type": "code",
   "execution_count": null,
   "id": "b4fbe7ee-d80a-4ff4-8006-24cc7a942982",
   "metadata": {},
   "outputs": [],
   "source": []
  },
  {
   "cell_type": "code",
   "execution_count": null,
   "id": "552e0191-67cd-49af-a992-19f04b964af4",
   "metadata": {},
   "outputs": [],
   "source": []
  }
 ],
 "metadata": {
  "kernelspec": {
   "display_name": "Python 3 (ipykernel)",
   "language": "python",
   "name": "python3"
  },
  "language_info": {
   "codemirror_mode": {
    "name": "ipython",
    "version": 3
   },
   "file_extension": ".py",
   "mimetype": "text/x-python",
   "name": "python",
   "nbconvert_exporter": "python",
   "pygments_lexer": "ipython3",
   "version": "3.11.5"
  }
 },
 "nbformat": 4,
 "nbformat_minor": 5
}
