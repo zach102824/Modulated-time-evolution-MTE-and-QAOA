{
 "cells": [
  {
   "cell_type": "code",
   "execution_count": 1,
   "metadata": {
    "id": "U5HsVYHOsZrV"
   },
   "outputs": [],
   "source": [
    "import numpy as np\n",
    "from scipy.sparse.linalg import eigs\n",
    "from scipy.linalg import eigh\n",
    "from numpy import linalg as LA\n",
    "from scipy.interpolate import Akima1DInterpolator\n",
    "from scipy.linalg import expm\n",
    "import time\n",
    "from scipy import sparse\n",
    "import matplotlib.pyplot as plt\n",
    "import pandas\n",
    "import scipy\n",
    "\n",
    "np.set_printoptions(precision=6)\n",
    "# initialize variables\n",
    "N = 8\n",
    "# Q is the dimension\n",
    "Q = pow(2, N)\n",
    "\n",
    "# decimal number to binary array function\n",
    "def D2B(num, digit):\n",
    "    string = f'{num:0{digit}b}'\n",
    "    result = np.array([int(ele) for ele in string], int)\n",
    "    return result\n",
    "# binary array to decimal function\n",
    "def B2D(array):\n",
    "    res = 0\n",
    "    for ele in array:\n",
    "        res = (res << 1) | ele\n",
    "    return res\n",
    "\n",
    "def spin_reflection(array):\n",
    "    return 1 - array  # Flip each spin (1 -> 0, 0 -> 1)\n",
    "\n",
    "def spatial_reflection(array):\n",
    "    new_array = array[::-1]\n",
    "    return new_array\n"
   ]
  },
  {
   "cell_type": "code",
   "execution_count": 2,
   "metadata": {
    "id": "EY4s2Vd6sZrX"
   },
   "outputs": [],
   "source": [
    "###########################\n",
    "B = 0.1  # Initial B value\n",
    "B_not = 10\n",
    "###########################"
   ]
  },
  {
   "cell_type": "code",
   "execution_count": null,
   "metadata": {
    "id": "-dQxA9tjMRss"
   },
   "outputs": [],
   "source": []
  },
  {
   "cell_type": "code",
   "execution_count": 3,
   "metadata": {
    "id": "lfh8ZyWGJ0g1"
   },
   "outputs": [],
   "source": [
    "#t_f = 11980\n",
    "# J_matrix= np.array([[0.0, -0.770026, -0.612588, 1.884469, -0.570562, 0.616424, 1.663316, -0.448101],\n",
    "#                                          [0.0, 0.0, 0.795786, 0.693566, -1.818596, -1.793477, 0.869296, -0.476921],\n",
    "#                                          [0.0, 0.0, 0.0, 1.166175, 2.639218, 0.896904, -0.685189, 0.523481],\n",
    "#                                          [0.0, 0.0, 0.0, 0.0, 1.069138, 0.163168, 0.637887, 0.75839],\n",
    "#                                          [0.0, 0.0, 0.0, 0.0, 0.0, 1.210793, 0.186866, 0.464955],\n",
    "#                                          [0.0, 0.0, 0.0, 0.0, 0.0, 0.0, -2.255085, -1.129867],\n",
    "#                                          [0.0, 0.0, 0.0, 0.0, 0.0, 0.0, 0.0, -1.741586],\n",
    "#                                          [0.0, 0.0, 0.0, 0.0, 0.0, 0.0, 0.0, 0.0]])\n",
    "\n",
    "\n",
    "#  Rank 3: t_f = 493.01095833740817, E_c = 0.008849508983285403, B_c = 0.215\n",
    "# J_matrix = np.array([[0.000000, 0.773813, 2.485213, -0.561542, 0.008873, 0.691680, 0.086291, -0.564034], [0.000000, 0.000000, 1.397455, -0.112515, 0.388229, -1.835349, 1.372802, 0.738212], [0.000000, 0.000000, 0.000000, -0.169025, 0.746900, -1.199308, 0.269533, -1.233924], [0.000000, 0.000000, 0.000000, 0.000000, 0.939910, 0.653794, 1.202234, 0.980422], [0.000000, 0.000000, 0.000000, 0.000000, 0.000000, -1.008154, 2.553466, 0.876100], [0.000000, 0.000000, 0.000000, 0.000000, 0.000000, 0.000000, 0.196304, -0.398031], [0.000000, 0.000000, 0.000000, 0.000000, 0.000000, 0.000000, 0.000000, 0.282909], [0.000000, 0.000000, 0.000000, 0.000000, 0.000000, 0.000000, 0.000000, 0.000000]])"
   ]
  },
  {
   "cell_type": "code",
   "execution_count": 11,
   "metadata": {},
   "outputs": [],
   "source": [
    "# # initialize J matrix\n",
    "# J_matrix = np.zeros((N, N), dtype='float64')\n",
    "# for i in range(N):\n",
    "#     for j in range(N):\n",
    "#         if j >= (i + 1):\n",
    "#             J_matrix[i][j] = 1/pow(abs(i-j),1)"
   ]
  },
  {
   "cell_type": "code",
   "execution_count": 10,
   "metadata": {
    "id": "aUxA-Uu-h8be"
   },
   "outputs": [],
   "source": [
    "# working in the full matrix\n",
    "\n",
    "# Initialize the Hamiltonian components\n",
    "H_a = np.zeros(Q)  # Interaction term (ZZ term), diagonal only\n",
    "HB_matrix = np.zeros((Q, Q))  # Transverse field term (X term)\n",
    "\n",
    "# Construct the Hamiltonian\n",
    "for state in range(Q):\n",
    "    basis = D2B(state, N)\n",
    "\n",
    "    # Transverse field term (X term)\n",
    "    for i in range(N):\n",
    "        flipped_basis = basis.copy()\n",
    "        flipped_basis[i] = 1 - flipped_basis[i]  # Flip the i-th spin\n",
    "        new_state = B2D(flipped_basis)\n",
    "        HB_matrix[state, new_state] += 1  # Coefficient will be multiplied by B later\n",
    "\n",
    "    # Interaction term (ZZ term)\n",
    "    for i in range(N):\n",
    "        for j in range(i + 1, N):\n",
    "            J_ij = J_matrix[i][j]\n",
    "            H_a[state] += J_ij * (1 if basis[i] == basis[j] else -1)\n",
    "\n",
    "# Convert H_a to a diagonal matrix\n",
    "HA_matrix = np.diag(H_a)\n",
    "\n",
    "# # # Full Hamiltonian\n",
    "# H = HA_matrix + 0.1 * HB_matrix\n",
    "\n",
    "# # Diagonalize the Hamiltonian\n",
    "# eigenvalues, eigenvectors = np.linalg.eigh(H)\n",
    "\n",
    "# # Ground state energy\n",
    "# gs_energy = eigenvalues[0]\n",
    "\n",
    "# # Display the Hamiltonian matrix and ground state energy\n",
    "# print(\"Hamiltonian matrix:\\n\", H)\n",
    "# print(\"\\nGround state energy:\", gs_energy)"
   ]
  },
  {
   "cell_type": "code",
   "execution_count": 5,
   "metadata": {
    "id": "fx85y4UWkesA"
   },
   "outputs": [],
   "source": [
    "# # looking for spin parity value\n",
    "\n",
    "# # Compute spin parity for each eigenstate\n",
    "# spin_parities = []\n",
    "\n",
    "# # Loop over each eigenstate\n",
    "# for vec_idx in range(0,5):\n",
    "#     eigenstate = eigenvectors[:, vec_idx]  # Extract the eigenstate vector (column of eigenvectors matrix)\n",
    "\n",
    "#     # Apply spin reflection to each basis state\n",
    "#     parity_sum = 0  # Initialize the parity sum for the current eigenstate\n",
    "#     for basis_idx in range(Q):  # Loop over all basis states\n",
    "#         basis = D2B(basis_idx, N)  # Convert basis index to binary representation\n",
    "#         reflected_basis = spin_reflection(basis)  # Apply spin reflection to the basis state\n",
    "#         reflected_idx = B2D(reflected_basis)  # Convert the reflected basis back to a decimal index\n",
    "\n",
    "#         # Calculate the parity by comparing original and reflected amplitudes\n",
    "#         parity_sum += eigenstate[basis_idx] * eigenstate[reflected_idx]\n",
    "#         #print(parity_sum)\n",
    "#     spin_parities.append(parity_sum)  # Store the computed parity for the current eigenstate\n",
    "\n",
    "\n",
    "# # Display results\n",
    "# for idx, parity in enumerate(spin_parities):\n",
    "#     print(f\"Eigenstate {idx + 1}: Spin Parity = {parity:.6f}\")\n"
   ]
  },
  {
   "cell_type": "code",
   "execution_count": 6,
   "metadata": {
    "id": "8IKDBmWQsZrZ"
   },
   "outputs": [],
   "source": [
    "def calculate_spin_parity(eigenvector):\n",
    "    parity_sum = 0  # Initialize the parity sum for the current eigenvector\n",
    "    for basis_idx in range(Q):  # Loop over all basis states\n",
    "        basis = D2B(basis_idx, N)  # Convert basis index to binary representation\n",
    "        reflected_basis = spin_reflection(basis)  # Apply spin reflection to the basis state\n",
    "        reflected_idx = B2D(reflected_basis)  # Convert the reflected basis back to a decimal index\n",
    "\n",
    "        # Calculate the parity by comparing original and reflected amplitudes\n",
    "        parity_sum += eigenvector[basis_idx] * eigenvector[reflected_idx]\n",
    "\n",
    "    return round(parity_sum, 5)  # Round to 5 digits"
   ]
  },
  {
   "cell_type": "code",
   "execution_count": 7,
   "metadata": {
    "id": "n8yY9jWZETt7"
   },
   "outputs": [],
   "source": [
    "# checking code\n",
    "# Full Hamiltonian\n",
    "# B = 0.1  # Example value for transverse field strength\n",
    "# H = HA_matrix + B * HB_matrix  # Combine ZZ and X terms to construct the full Hamiltonian\n",
    "\n",
    "# # Diagonalize the Hamiltonian\n",
    "# eigenvalues, eigenvectors = eigh(H)  # Use eigh for diagonalizing the Hermitian matrix H\n",
    "# print(eigenvalues[0])\n",
    "# # Compute spin parity for each eigenstate\n",
    "# spin_parities = []\n",
    "\n",
    "# # Loop over each eigenstate and calculate its spin parity\n",
    "# for vec_idx in range(10):\n",
    "#     eigenstate = eigenvectors[:, vec_idx]  # Extract the eigenstate vector (column of eigenvectors matrix)\n",
    "#     parity = calculate_spin_parity(eigenstate)  # Calculate the spin parity for the current eigenstate\n",
    "#     spin_parities.append(parity)  # Store the computed parity for the current eigenstate\n",
    "# print(spin_parities)"
   ]
  },
  {
   "cell_type": "code",
   "execution_count": null,
   "metadata": {
    "id": "n6jXeeGyBrBg"
   },
   "outputs": [],
   "source": []
  },
  {
   "cell_type": "code",
   "execution_count": 8,
   "metadata": {
    "id": "SFHcHriLEUQc"
   },
   "outputs": [],
   "source": [
    "# Start looping for different B values\n",
    "dB = 0.0001  # Step size for B\n",
    "B_not = 10  # Example maximum value for B\n",
    "B_value_list = np.arange(B, B_not, dB)  # Generate list of B values\n",
    "#\n",
    "# B_value_list = np.array([0.1,1])\n",
    "\n",
    "num_matching_states = 5  # Number of matching excited states to find\n",
    "delta_e_lists = [[] for _ in range(num_matching_states)]  # List to store energy gaps for matching states\n",
    "\n",
    "for B_value in B_value_list:\n",
    "    H_matrix = HA_matrix + B_value * HB_matrix  # Update Hamiltonian with current B value\n",
    "    vals, vecs = eigh(H_matrix)  # Diagonalize the Hamiltonian\n",
    "\n",
    "    # Get ground state parity\n",
    "    gs_parity = calculate_spin_parity(vecs[:, 0])\n",
    "    #print(gs_parity)\n",
    "    # Find the first few excited states with the same parity as the ground state\n",
    "    matching_indices = []\n",
    "    for i in range(1, Q):\n",
    "        if calculate_spin_parity(vecs[:, i]) == gs_parity:\n",
    "            matching_indices.append(i)\n",
    "        if len(matching_indices) >= num_matching_states:\n",
    "            break\n",
    "    #print(matching_indices)\n",
    "    # Calculate energy gaps for the matching states\n",
    "    for idx, matching_index in enumerate(matching_indices):\n",
    "        delta_energy = vals[matching_index] - vals[0]\n",
    "        delta_e_lists[idx].append(delta_energy)\n",
    "\n",
    "# Display results\n",
    "# for idx, parity in enumerate(spin_parities):\n",
    "#     print(f\"Eigenstate {idx + 1}: Spin Parity = {parity:.6f}\")  # Print the parity value for each eigenstate"
   ]
  },
  {
   "cell_type": "code",
   "execution_count": 9,
   "metadata": {
    "id": "ULRgD2xxIBn6"
   },
   "outputs": [],
   "source": [
    "# NOTE, lA field data is included in Fig_1 folder , here provide how to get the energy spectrum"
   ]
  },
  {
   "cell_type": "code",
   "execution_count": 16,
   "metadata": {
    "id": "CzIcRFyR4PG9"
   },
   "outputs": [
    {
     "data": {
      "image/png": "[encoded data removed]",
      "text/plain": [
       "<Figure size 640x480 with 1 Axes>"
      ]
     },
     "metadata": {},
     "output_type": "display_data"
    }
   ],
   "source": [
    "# Plotting the energy gaps for the matching states\n",
    "delta_e_arrays = [np.array(delta_e_list) for delta_e_list in delta_e_lists]\n",
    "\n",
    "fig, ax = plt.subplots()\n",
    "colors = ['blue', 'green', 'orange', 'purple', 'brown']\n",
    "labels = [f'Matching State {i + 1}' for i in range(num_matching_states)]\n",
    "\n",
    "for idx, delta_e_array in enumerate(delta_e_arrays):\n",
    "    linestyle = '--' if idx > 0 else '-'\n",
    "    ax.plot(B_value_list, delta_e_array, linestyle=linestyle, lw=2, color=colors[idx % len(colors)], label=labels[idx])\n",
    "\n",
    "ax.set(xlabel=r'$B$', ylabel='Energy Gap')\n",
    "# Increase the font size of the labels\n",
    "ax.tick_params(axis='both', labelsize=24)\n",
    "# Set the font size for the axis labels\n",
    "label_size = 24\n",
    "ax.xaxis.label.set_fontsize(label_size)  # Adjust the font size for the x-axis label\n",
    "ax.yaxis.label.set_fontsize(label_size)  # Adjust the font size for the y-axis label\n",
    "\n",
    "# # Add legend\n",
    "# ax.legend(fontsize=16)\n",
    "\n",
    "# Set axis limits\n",
    "ax.set_xlim(0,0.5)\n",
    "ax.set_ylim(0.0001,0.1)\n",
    "\n",
    "# # Plot B critical\n",
    "# plt.vlines(0.05, 0, 6, color='red', lw=2)\n",
    "\n",
    "# Save and show the plot\n",
    "plt.savefig('B_vs_energy_gap_tf_493.png', bbox_inches='tight')\n",
    "plt.show()"
   ]
  },
  {
   "cell_type": "code",
   "execution_count": 15,
   "metadata": {
    "id": "Kgg7iDmVGpOw"
   },
   "outputs": [],
   "source": [
    "import pandas as pd\n",
    "delta_e_dict = {f'd{i + 1}': delta_e_arrays[i] for i in range(num_matching_states)}\n",
    "df = pd.DataFrame(data={'B': B_value_list, **delta_e_dict})\n",
    "df.to_csv('energy_spec_tf_493.csv', sep=',', index=False)"
   ]
  },
  {
   "cell_type": "code",
   "execution_count": 12,
   "metadata": {
    "id": "YTUhAxm4K8aK"
   },
   "outputs": [
    {
     "name": "stdout",
     "output_type": "stream",
     "text": [
      "t_f is  493.01116377161367\n"
     ]
    }
   ],
   "source": [
    "# Calculate total ramp time t_f for locally adiabatic evolution\n",
    "gamma = 1  # Set gamma to be 1\n",
    "one_over_delta_square = 1 / np.square(delta_e_arrays[0])  # Calculate 1 / delta^2 for the first matching state\n",
    "t_f = gamma * np.trapz(one_over_delta_square, x=B_value_list)  # Use trapezoidal integration to calculate t_f\n",
    "print('t_f is ', t_f)"
   ]
  },
  {
   "cell_type": "code",
   "execution_count": 13,
   "metadata": {
    "id": "rMLnXkELLLBt"
   },
   "outputs": [
    {
     "data": {
      "text/plain": [
       "0.008846979172487224"
      ]
     },
     "execution_count": 13,
     "metadata": {},
     "output_type": "execute_result"
    }
   ],
   "source": [
    "np.min(delta_e_arrays)"
   ]
  },
  {
   "cell_type": "code",
   "execution_count": 14,
   "metadata": {
    "id": "EeKOgjvPLLNW"
   },
   "outputs": [
    {
     "data": {
      "text/plain": [
       "0.21530000000000332"
      ]
     },
     "execution_count": 14,
     "metadata": {},
     "output_type": "execute_result"
    }
   ],
   "source": [
    "B_value_list[np.argmin(delta_e_arrays)]"
   ]
  }
 ],
 "metadata": {
  "colab": {
   "provenance": []
  },
  "kernelspec": {
   "display_name": "Python 3 (ipykernel)",
   "language": "python",
   "name": "python3"
  },
  "language_info": {
   "codemirror_mode": {
    "name": "ipython",
    "version": 3
   },
   "file_extension": ".py",
   "mimetype": "text/x-python",
   "name": "python",
   "nbconvert_exporter": "python",
   "pygments_lexer": "ipython3",
   "version": "3.11.5"
  }
 },
 "nbformat": 4,
 "nbformat_minor": 4
}
