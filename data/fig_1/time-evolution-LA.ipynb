{
 "cells": [
  {
   "cell_type": "markdown",
   "id": "01b6a06b-3234-4668-9978-dada4739e8d6",
   "metadata": {},
   "source": [
    "This python file is for running time evolution with LA field "
   ]
  },
  {
   "cell_type": "code",
   "execution_count": 1,
   "id": "07cb000c-4018-47fb-9edd-9560d594fa91",
   "metadata": {
    "tags": []
   },
   "outputs": [],
   "source": [
    "import numpy as np\n",
    "from scipy.sparse.linalg import eigs\n",
    "from numpy import linalg as LA\n",
    "from scipy.interpolate import Akima1DInterpolator\n",
    "from scipy.linalg import expm\n",
    "import time\n",
    "from scipy import sparse\n",
    "import matplotlib.pyplot as plt\n",
    "import pandas\n",
    "\n",
    "np.set_printoptions(precision=6)\n",
    "# initialize variables\n",
    "N = 12\n",
    "# Q is the dimension\n",
    "Q = pow(2, N)\n",
    "\n",
    "# decimal number to binary array function\n",
    "def D2B(num):\n",
    "    string = f'{num:1b}'\n",
    "    result = np.zeros(N - len(string), int)\n",
    "\n",
    "    for ele in string:\n",
    "        result = np.append(result, int(ele))\n",
    "\n",
    "    return result\n",
    "\n",
    "# decimal number to binary array function\n",
    "def D2B_with_digit(num,digit):\n",
    "    string = f'{num:1b}'\n",
    "    result = np.zeros(digit - len(string), int)\n",
    "\n",
    "    for ele in string:\n",
    "        result = np.append(result, int(ele))\n",
    "\n",
    "    return result\n",
    "\n",
    "# binary array to decimal function\n",
    "def B2D(array):\n",
    "    res = 0\n",
    "    for ele in array:\n",
    "        res = (res << 1) | ele\n",
    "    return res\n",
    "\n",
    "def spin_reflection(array):\n",
    "    new_array = np.zeros(len(array),dtype=int)\n",
    "    for i in range(len(array)):\n",
    "        if array[i] == 1:\n",
    "            new_array[i] = 0\n",
    "        else:\n",
    "            new_array[i] = 1\n",
    "    return new_array\n",
    "\n",
    "def spatial_reflection(array):\n",
    "    new_array = array[::-1]\n",
    "    return new_array\n",
    "\n",
    "# start my main function\n",
    "\n",
    "# initialize J matrix\n",
    "B = 0.1     # !!! NEED TO BE CHANGED\n",
    "J_matrix = np.zeros((N, N), dtype='float64')\n",
    "J_value = 1\n",
    "J_matrix_alpha = 1   # !!! NEED TO BE CHANGED\n",
    "for i in range(N):\n",
    "    for j in range(N):\n",
    "        if j >= (i + 1):\n",
    "            J_matrix[i][j] = J_value/pow(abs(i-j),J_matrix_alpha)"
   ]
  },
  {
   "cell_type": "code",
   "execution_count": 2,
   "id": "0a6aadaf-a0d9-4a97-be0e-c10fcc207179",
   "metadata": {
    "jupyter": {
     "source_hidden": true
    },
    "tags": []
   },
   "outputs": [],
   "source": [
    "# start to get what product states are having the same symmtries\n",
    "loop_state_list = np.linspace(0,Q-1,num=Q,dtype=int)\n",
    "\n",
    "couple_state_matrix = []\n",
    "sign_matrix = []\n",
    "# this is the final result for the states to consctruct basis \n",
    "\n",
    "for n in range(Q):  # n is an unused index\n",
    "    \n",
    "    # couple_num_list would be my result for each state we loop\n",
    "    \n",
    "    if len(loop_state_list)!=0: # loop for couple number for one state\n",
    "                \n",
    "        couple_num_list = [] # this is the list to store all the number that couple to the number we are looping\n",
    "        couple_num_list = np.array(couple_num_list, dtype=int)\n",
    "        state_num = loop_state_list[0]\n",
    "        couple_num_list = np.append(couple_num_list,state_num)\n",
    "        \n",
    "        for m in range(Q): # loop for spin and spatial for all states inside the couple number list\n",
    "            \n",
    "            if m==0:\n",
    "                \n",
    "                couple_num_list_old =couple_num_list\n",
    "                \n",
    "                for i in range(len(couple_num_list)):\n",
    "                    number = couple_num_list[i]\n",
    "                    array = D2B(number)\n",
    "\n",
    "                    # spin reflection \n",
    "                    spin_relfection_array = spin_reflection(array)\n",
    "                    spin_number = B2D(spin_relfection_array)\n",
    "                    couple_num_list =np.append(couple_num_list,spin_number)\n",
    "\n",
    "\n",
    "\n",
    "                    # spatial reflection \n",
    "                    spatial_relfection_array = spatial_reflection(array)\n",
    "                    spatial_number = B2D(spatial_relfection_array)\n",
    "                    couple_num_list =np.append(couple_num_list,spatial_number)\n",
    "                    \n",
    "                    # remove the repeated element \n",
    "                    couple_num_list = np.unique(couple_num_list)\n",
    "            else:\n",
    "                \n",
    "                if len(couple_num_list_old) != len(couple_num_list):\n",
    "                    # update couple_num_list_old first \n",
    "                    couple_num_list_old =couple_num_list\n",
    "                    \n",
    "                    for i in range(len(couple_num_list)):\n",
    "                        number = couple_num_list[i]\n",
    "                        array = D2B(number)\n",
    "\n",
    "                        # spin reflection \n",
    "                        spin_relfection_array = spin_reflection(array)\n",
    "                        spin_number = B2D(spin_relfection_array)\n",
    "                        couple_num_list =np.append(couple_num_list,spin_number)\n",
    "                        \n",
    "                        \n",
    "                        # spatial reflection \n",
    "                        spatial_relfection_array = spatial_reflection(array)\n",
    "                        spatial_number = B2D(spatial_relfection_array)\n",
    "                        couple_num_list = np.append(couple_num_list,spatial_number)\n",
    "                        \n",
    "                        # remove the repeated element \n",
    "                        couple_num_list = np.unique(couple_num_list)\n",
    "                        \n",
    "        # now we have final couple_num_list\n",
    "        couple_state_matrix.append(couple_num_list.tolist())\n",
    "        \n",
    "        # remove the ones already found \n",
    "        for j in range(len(couple_num_list)):\n",
    "            loop_state_list = np.delete(loop_state_list, np.where(loop_state_list ==couple_num_list[j] ))\n",
    "\n",
    "            \n"
   ]
  },
  {
   "cell_type": "code",
   "execution_count": 3,
   "id": "0bb06925-d998-4d50-81c2-3358156f548f",
   "metadata": {
    "jupyter": {
     "source_hidden": true
    },
    "tags": []
   },
   "outputs": [],
   "source": [
    "# now we want to decide the sign for each term \n",
    "\n",
    "for i in range(len(couple_state_matrix)):\n",
    "#for i in range(1,2):\n",
    "    \n",
    "    state_num = couple_state_matrix[i]\n",
    "    #print(state_num)\n",
    "    \n",
    "    # get spin & spatial reflection array without sign\n",
    "    spin_num_array = np.zeros(len(state_num),dtype=int)\n",
    "    spatial_num_array = np.zeros(len(state_num),dtype=int)\n",
    "    \n",
    "    for j in range(len(state_num)):\n",
    "        \n",
    "        array = D2B(state_num[j])\n",
    "\n",
    "        # spin reflection \n",
    "        spin_relfection_array = spin_reflection(array)\n",
    "        spin_number = B2D(spin_relfection_array)\n",
    "        spin_num_array[j] = spin_number\n",
    "        #print(spin_num_array)\n",
    "        \n",
    "        # spatial reflection \n",
    "        spatial_relfection_array = spatial_reflection(array)\n",
    "        spatial_number = B2D(spatial_relfection_array)\n",
    "        spatial_num_array[j] = spatial_number\n",
    "        #print(spatial_num_array)\n",
    "\n",
    "    \n",
    "    # loop all possbie sign        \n",
    "        \n",
    "    state_number_length = len(state_num) \n",
    "    for j in range( pow(2,state_number_length) ):\n",
    "        \n",
    "        sign_array = D2B_with_digit(j,state_number_length)\n",
    "        \n",
    "        # convert it into 1 or -1\n",
    "        \n",
    "        for k in range(len(sign_array)):\n",
    "            # the choice for sign here does not matter since we only the right + and -, what number it's is fine \n",
    "            if sign_array[k] == 1:\n",
    "                sign_array[k] = -1\n",
    "            else:\n",
    "                sign_array[k] = 1\n",
    "                \n",
    "        # combine signs on the reflection array sort is for comparison only \n",
    "        \n",
    "        temp_spin_num = spin_num_array * sign_array\n",
    "        temp_spin_num = np.sort(temp_spin_num)\n",
    "        #print(temp_spin_num)\n",
    "        \n",
    "        temp_spatial_num = spatial_num_array * sign_array\n",
    "        temp_spatial_num =np.sort(temp_spatial_num)\n",
    "        \n",
    "        # combine the sign for the orginal state number array\n",
    "        \n",
    "        #temp_spin_b4_num = state_num * sign_array * -1   # this one is for odd parity \n",
    "        temp_spin_b4_num = state_num * sign_array  \n",
    "        temp_spin_b4_num = np.sort(temp_spin_b4_num)\n",
    "\n",
    "        #temp_spatial_b4_num = state_num * sign_array * -1 # this one is for odd parity\n",
    "        temp_spatial_b4_num = state_num * sign_array\n",
    "        temp_spatial_b4_num = np.sort(temp_spatial_b4_num)\n",
    "        \n",
    "        \n",
    "        # check the parity here \n",
    "        if np.array_equal(temp_spin_num,temp_spin_b4_num):\n",
    "\n",
    "            if np.array_equal(temp_spatial_num,temp_spatial_b4_num):\n",
    "                if sign_array[0]==1: # just so to pick out the positive ones since all negatives would also work\n",
    "                    sign_matrix.append(sign_array.tolist())\n",
    "                    \n",
    "                    "
   ]
  },
  {
   "cell_type": "code",
   "execution_count": 4,
   "id": "bc0acdbe-5e19-4358-abdb-19490c8d74ae",
   "metadata": {
    "jupyter": {
     "source_hidden": true
    },
    "tags": []
   },
   "outputs": [],
   "source": [
    "# initialize H matrix\n",
    "couple_dimen = len(couple_state_matrix)\n",
    "\n",
    "HA_matrix = np.zeros((couple_dimen, couple_dimen), dtype='float64')\n",
    "HB_matrix = np.zeros((couple_dimen, couple_dimen), dtype='float64')"
   ]
  },
  {
   "cell_type": "code",
   "execution_count": 5,
   "id": "c4ab9342-e60b-44b3-bdb9-22c65ab1dee2",
   "metadata": {
    "jupyter": {
     "source_hidden": true
    },
    "tags": []
   },
   "outputs": [],
   "source": [
    "# loop each basis to fill in the diagonal elements for HA matrix \n",
    "\n",
    "for i in range(couple_dimen):\n",
    "    \n",
    "    state_array = np.array( couple_state_matrix[i] )\n",
    "    \n",
    "    # loop each element inside the array \n",
    "    normalization = len(state_array)\n",
    "    \n",
    "    # energy total for all the product states inside one basis\n",
    "    \n",
    "    e_tot = 0\n",
    "    for j in range(len(state_array)):\n",
    "        \n",
    "        state = D2B(state_array[j])\n",
    "        \n",
    "        # loop over N sites to change the state vector to either 1 or -1\n",
    "        \n",
    "        for k in range(N):\n",
    "            # 1 is spin down , 0 is spin up\n",
    "            if state[k] == 1:\n",
    "                state[k] = -1\n",
    "            else:\n",
    "                state[k] = 1\n",
    "\n",
    "        # now get the energy, loop all the sites and then pairs\n",
    "        \n",
    "        for m in range(N):\n",
    "            for q in range(N):\n",
    "                e_temp = J_matrix[m][q] * state[m] * state[q]\n",
    "                e_tot = e_tot + e_temp\n",
    "\n",
    "    HA_matrix[i][i] = e_tot/normalization"
   ]
  },
  {
   "cell_type": "code",
   "execution_count": 6,
   "id": "504fc82d-599c-452d-960b-540b4a1ef4c1",
   "metadata": {
    "jupyter": {
     "source_hidden": true
    },
    "tags": []
   },
   "outputs": [],
   "source": [
    "# generate vector form for each basis\n",
    "vector_form_basis_matrix = np.zeros((couple_dimen,Q))\n",
    "\n",
    "for i in range(couple_dimen):\n",
    "    \n",
    "    state_array = np.array( couple_state_matrix[i] )\n",
    "    normalization = np.sqrt(len(state_array))\n",
    "    \n",
    "    for j in state_array:\n",
    "        vector_form_basis_matrix[i][j] = 1\n",
    "        \n",
    "    # put back normalization factor\n",
    "    vector_form_basis_matrix[i] = vector_form_basis_matrix[i]/normalization\n",
    "    \n",
    "    "
   ]
  },
  {
   "cell_type": "code",
   "execution_count": 7,
   "id": "bb008183-6972-46e7-91fa-97cd7797b695",
   "metadata": {
    "jupyter": {
     "source_hidden": true
    },
    "tags": []
   },
   "outputs": [],
   "source": [
    "# loop each basis to fill in HB matrix \n",
    "\n",
    "for i in range(couple_dimen):\n",
    "\n",
    "    state_array = np.array( couple_state_matrix[i] )\n",
    "\n",
    "    # this is the actual normalization unlike before since it will couple to some other states\n",
    "    # so it can not be like just the square like we did before\n",
    "    normalization = np.sqrt(len(state_array))\n",
    "\n",
    "    # loop each product state to generate N other states, i.e. generaete the state after operator acting on it\n",
    "    result_num_list = []\n",
    "    result_num_list = np.array(result_num_list,dtype=int)\n",
    "    for k in range(len(state_array)):\n",
    "        \n",
    "        spin = D2B(state_array[k])\n",
    "\n",
    "        # start fliping the spins\n",
    "        for j in range(N):\n",
    "            if spin[j] == 1:\n",
    "                # if it's spin down, raise to spin up\n",
    "                spin[j] = 0\n",
    "                new_num = B2D(spin)\n",
    "                result_num_list = np.append(result_num_list,new_num)\n",
    "                # change it back for next operation\n",
    "                spin[j] = 1\n",
    "            else:\n",
    "                # if it's spin down, raise to spin up\n",
    "                spin[j] = 1\n",
    "                new_num = B2D(spin)\n",
    "                result_num_list = np.append(result_num_list,new_num)\n",
    "                # change it back for next operation\n",
    "                spin[j] = 0\n",
    "        \n",
    "     \n",
    "    # generate the vector form for the state after operrator acting on it\n",
    "    \n",
    "    vector_final_state = np.zeros(Q)\n",
    "    \n",
    "    for j in result_num_list:\n",
    "        vector_final_state[j] = vector_final_state[j] +1\n",
    "        \n",
    "    # put back normalization factor \n",
    "    vector_final_state = vector_final_state/normalization\n",
    "    \n",
    "    # calculate dot product to put into inside the matrix\n",
    "    for j in range(couple_dimen):\n",
    "        \n",
    "        dot_product = np.dot(vector_final_state,vector_form_basis_matrix[j])\n",
    "        HB_matrix[i][j] = dot_product"
   ]
  },
  {
   "cell_type": "code",
   "execution_count": 8,
   "id": "4a5a615f-4bba-4115-adac-33388d311370",
   "metadata": {},
   "outputs": [],
   "source": [
    "# get true ground state \n",
    "w, v = LA.eigh(HA_matrix + B* HB_matrix)\n",
    "inx = np.argsort(w)\n",
    "true_gs_vec = v[:, inx[0]]"
   ]
  },
  {
   "cell_type": "code",
   "execution_count": 9,
   "id": "ecacef1f-cf97-46d1-a321-bc30a7c23c16",
   "metadata": {
    "tags": []
   },
   "outputs": [],
   "source": [
    "# get  ground state with numerically infinite large B field\n",
    "w, v = LA.eigh(HB_matrix)\n",
    "inx = np.argsort(w)\n",
    "temp_vec = v[:, inx[0]] # the index here could be zero or one, depending on the parity\n",
    "# but if the wrong index will always give roughly zero fidelity "
   ]
  },
  {
   "cell_type": "code",
   "execution_count": 11,
   "id": "1c26d6f9-2875-4aa2-ae0e-42562109bfe1",
   "metadata": {
    "tags": []
   },
   "outputs": [],
   "source": [
    "# read B field file \n",
    "time_and_B_data = pandas.read_csv(f\"./B_profile_N={N}_a={J_matrix_alpha}_B_start={20}_B_0={0.1}.csv\")\n",
    "time_list = time_and_B_data['time'].to_numpy()\n",
    "B_list = time_and_B_data['B'].to_numpy()"
   ]
  },
  {
   "cell_type": "code",
   "execution_count": 12,
   "id": "17b5fabc-8dc7-47e0-849d-d5b7e01d729e",
   "metadata": {
    "tags": []
   },
   "outputs": [
    {
     "name": "stdout",
     "output_type": "stream",
     "text": [
      "ramp time is 29.35540442884864\n"
     ]
    }
   ],
   "source": [
    "# # diabatic gamma\n",
    "diabatic_gamma = 10  # 15 steps so that dt =0.01\n",
    "\n",
    "time_list = diabatic_gamma * time_list\n",
    "target_time_length = np.max(time_list)\n",
    "print('ramp time is',target_time_length)"
   ]
  },
  {
   "cell_type": "code",
   "execution_count": 13,
   "id": "27f15e9c-c5bd-4c74-8072-3545e9ca2210",
   "metadata": {
    "tags": []
   },
   "outputs": [
    {
     "name": "stdout",
     "output_type": "stream",
     "text": [
      "ramp time is 29.35 gamma is  0.9998158966311727\n",
      "dt =  0.010003402618184118\n",
      "number of layers is 2935\n"
     ]
    }
   ],
   "source": [
    "# turn B into a function of t, so that we can just change B later but not t\n",
    "\n",
    "# fixed number of layers\n",
    "# dt_size = target_time_length/15\n",
    "# number_of_layers = int(target_time_length/dt_size)\n",
    "\n",
    "# fixed dt size\n",
    "dt_size = 0.01\n",
    "number_of_layers = int(target_time_length/dt_size)\n",
    "\n",
    "# diabatic gamma\n",
    "diabatic_gamma = number_of_layers*dt_size/np.max(time_list)\n",
    "\n",
    "\n",
    "time_list = diabatic_gamma * time_list\n",
    "target_time_length = np.max(time_list)\n",
    "print('ramp time is',target_time_length,'gamma is ',diabatic_gamma)\n",
    "\n",
    "\n",
    "bi = Akima1DInterpolator(time_list, B_list)\n",
    "t_data_smooth = np.linspace(min(time_list), max(time_list),number_of_layers)# Number of steps to take for time evolution \n",
    "B_data_smooth = bi(t_data_smooth)\n",
    "dt = t_data_smooth[1]-t_data_smooth[0]\n",
    "print('dt = ',dt)\n",
    "print( 'number of layers is', number_of_layers)"
   ]
  },
  {
   "cell_type": "code",
   "execution_count": 14,
   "id": "31ab03f9-b142-4e60-87e5-51a708792a52",
   "metadata": {
    "tags": []
   },
   "outputs": [
    {
     "data": {
      "text/plain": [
       "[<matplotlib.lines.Line2D at 0x2074c14a650>]"
      ]
     },
     "execution_count": 14,
     "metadata": {},
     "output_type": "execute_result"
    },
    {
     "data": {
      "image/png": "[encoded data removed]",
      "text/plain": [
       "<Figure size 640x480 with 1 Axes>"
      ]
     },
     "metadata": {},
     "output_type": "display_data"
    }
   ],
   "source": [
    "plt.plot(t_data_smooth,B_data_smooth)"
   ]
  },
  {
   "cell_type": "code",
   "execution_count": 15,
   "id": "e0a9cbca-d47e-4c50-b045-dfc00747188b",
   "metadata": {
    "tags": []
   },
   "outputs": [],
   "source": [
    "# get fidelity for t= 0s\n",
    "fidelity_t_0 = pow(np.dot(true_gs_vec,temp_vec),2)"
   ]
  },
  {
   "cell_type": "code",
   "execution_count": 16,
   "id": "b2e74f53-96c8-4dff-b0a3-47725ac22589",
   "metadata": {},
   "outputs": [],
   "source": [
    "# run the case with just LA to see the base\n",
    "# time evolution\n",
    "final_fidelity_list =[]\n",
    "# final_fidelity_list.append(fidelity_t_0)\n",
    "step = len(t_data_smooth)\n",
    "instanously_fidelity_list = []\n",
    "# product state\n",
    "p = temp_vec  # p stands for product\n",
    "    \n",
    " # loop each time step\n",
    "    \n",
    "for i in range(step): # start with 1 because the 0th element already put in at the lines above\n",
    "    \n",
    "    H_matrix = HA_matrix + B_data_smooth[i]*HB_matrix\n",
    "    \n",
    "    # instanous gs \n",
    "\n",
    "    w, v = LA.eigh(H_matrix)\n",
    "    inx = np.argsort(w)\n",
    "    instanous_gs = v[:, inx[0]]\n",
    "    \n",
    "    ### \n",
    "    exp_imgH_matrix = expm( -1*1j*dt_size*H_matrix )\n",
    "    new_p = np.dot(exp_imgH_matrix,p)\n",
    "        \n",
    "        \n",
    "    # calculate fieldlity \n",
    "    dp = np.dot(true_gs_vec,new_p) # dp is dot product\n",
    "    #print(dp)\n",
    "    dp_cc = np.conjugate(dp)     # the complex conjucate of the dot product \n",
    "    fidelity = (dp*dp_cc).real\n",
    "    final_fidelity_list.append(fidelity)\n",
    "\n",
    "    # calculate inst fieldlity \n",
    "    dp = np.dot(instanous_gs,new_p) # dp is dot product\n",
    "    #print(dp)\n",
    "    dp_cc = np.conjugate(dp)     # the complex conjucate of the dot product \n",
    "    fidelity = (dp*dp_cc).real\n",
    "    instanously_fidelity_list.append(fidelity)\n",
    "    # update state\n",
    "    p = new_p"
   ]
  },
  {
   "cell_type": "code",
   "execution_count": 17,
   "id": "2d0b6cfe-8cd9-4072-97d5-ed418d5ab6a4",
   "metadata": {},
   "outputs": [],
   "source": [
    "x_50 =np.array([ 0.097725,  0.477288,  0.443276,  0.172682,  1.246086,  0.880701,\n",
    "        0.311077,  0.343559,  0.4446  ,  0.498634,  3.513766,  2.195835,\n",
    "       -1.679474,  2.34228 ,  1.033489,  3.00999 , -0.583254, -1.904584,\n",
    "        6.23439 ,  0.627215,  0.72342 ,  0.945287,  0.84764 ,  2.777252,\n",
    "        0.920419,  0.795509,  0.771761,  1.074029,  0.849288,  0.778886,\n",
    "        2.109009,  2.799745,  2.618029,  9.436081, -6.322151,  9.304835,\n",
    "        0.817901,  0.557422,  0.670992,  0.875811,  5.658462, -0.068928,\n",
    "        0.289072,  5.464772,  2.425481,  1.070671, 23.078089,  7.676801,\n",
    "        4.609007,  3.1356  ,  2.488154,  2.080197,  1.473614,  1.071259,\n",
    "        0.827909,  0.710397,  0.655159,  0.635309,  0.610464,  0.589641,\n",
    "        0.570621,  0.552939,  0.528794,  0.507812,  0.486003,  0.456375,\n",
    "        0.418009,  0.388989,  0.374755,  0.359278,  0.349239,  0.336304,\n",
    "        0.314521,  0.293763,  0.279373,  0.261307,  0.24796 ,  0.243052,\n",
    "        0.236972,  0.232609,  0.236054,  0.227522,  0.218561,  0.199195,\n",
    "        0.179152,  0.151823,  0.135518,  0.330649,  0.170398,  0.117737,\n",
    "        0.115771,  0.107222])\n",
    "mod_B_field = x_50[46:]"
   ]
  },
  {
   "cell_type": "code",
   "execution_count": 19,
   "id": "b4c0e08d-13a7-4971-9766-aaea638b8bf6",
   "metadata": {},
   "outputs": [],
   "source": [
    "fig_1_mod_filidety= np.array([0.00181, 0.00215, 0.00279, 0.00442, 0.00426, 0.00497, 0.00765,\n",
    "       0.01561, 0.03101, 0.05398, 0.09484, 0.06081, 0.10408, 0.07147,\n",
    "       0.08785, 0.1925 , 0.17871, 0.15218, 0.46466, 0.52216, 0.5751 ,\n",
    "       0.62252, 0.64796, 0.76582, 0.80353, 0.83265, 0.86046, 0.88968,\n",
    "       0.90704, 0.92185, 0.93517, 0.92945, 0.92071, 0.92387, 0.95268,\n",
    "       0.95278, 0.97305, 0.98304, 0.98961, 0.9937 , 0.99819, 0.99537,\n",
    "       0.9991 , 0.99868, 0.9993 , 0.99966])\n",
    "\n",
    "fig_1_mod_inst_gs_fidelity = np.array([0.99834, 0.99867, 0.99603, 0.99482, 0.99738, 0.99678, 0.98501,\n",
    "       0.97346, 0.96451, 0.95971, 0.95944, 0.95938, 0.9549 , 0.95109,\n",
    "       0.94423, 0.93781, 0.93903, 0.93097, 0.9075 , 0.95042, 0.97811,\n",
    "       0.97193, 0.96502, 0.95653, 0.9608 , 0.96768, 0.97708, 0.98278,\n",
    "       0.98629, 0.98916, 0.99025, 0.99058, 0.99031, 0.98969, 0.99019,\n",
    "       0.99154, 0.9922 , 0.99522, 0.99756, 0.99879, 0.9987 , 0.8283 ,\n",
    "       0.99024, 0.99946, 0.99945, 0.99953])"
   ]
  },
  {
   "cell_type": "code",
   "execution_count": 40,
   "id": "99c26843-a94f-4d85-a6f0-e6d5601a70c8",
   "metadata": {},
   "outputs": [
    {
     "data": {
      "text/plain": [
       "46"
      ]
     },
     "execution_count": 40,
     "metadata": {},
     "output_type": "execute_result"
    }
   ],
   "source": [
    "len(fig_1_mod_filidety)"
   ]
  },
  {
   "cell_type": "code",
   "execution_count": 20,
   "id": "d6e21058-fdca-448a-bd79-47b40be5df42",
   "metadata": {},
   "outputs": [],
   "source": [
    "final_fidelity_list = np.array(final_fidelity_list)\n",
    "instanously_fidelity_list = np.array(instanously_fidelity_list)"
   ]
  },
  {
   "cell_type": "code",
   "execution_count": 21,
   "id": "d37a811a-34f7-4b47-92f6-20e4ef5dc853",
   "metadata": {},
   "outputs": [
    {
     "name": "stdout",
     "output_type": "stream",
     "text": [
      "0.9935912421359165\n",
      "0.9935912421359161\n"
     ]
    }
   ],
   "source": [
    "print(instanously_fidelity_list[-1])\n",
    "print(final_fidelity_list[-1])"
   ]
  },
  {
   "cell_type": "code",
   "execution_count": 22,
   "id": "5b5cfa2b-ba39-45f7-9b22-eaf7373485b6",
   "metadata": {},
   "outputs": [],
   "source": [
    "# # Save the array to a file\n",
    "# np.save('fig_1_la_gs_prob.npy', final_fidelity_list)\n",
    "# np.save('fig_1_la_inst_gs_prob.npy', instanously_fidelity_list)"
   ]
  },
  {
   "cell_type": "code",
   "execution_count": 23,
   "id": "bb3b68ba-c59c-44f7-be8f-7996f229a9b2",
   "metadata": {},
   "outputs": [],
   "source": [
    "# Load the array from the file\n",
    "linear_gs = np.load('fig_1_linear_gs_prob.npy')\n",
    "linear_inst_gs = np.load('fig_1_linear_inst_gs_prob.npy')"
   ]
  },
  {
   "cell_type": "code",
   "execution_count": 71,
   "id": "6f9869eb-d83f-47ef-a429-5f4844c67979",
   "metadata": {},
   "outputs": [
    {
     "data": {
      "image/png": "[encoded data removed]",
      "text/plain": [
       "<Figure size 700x400 with 1 Axes>"
      ]
     },
     "metadata": {},
     "output_type": "display_data"
    }
   ],
   "source": [
    "plt.figure(figsize=(7, 4))\n",
    "plt.plot(np.linspace(0, 1, num=len(final_fidelity_list)),final_fidelity_list,color='red',lw=3)\n",
    "plt.plot(np.linspace(0, 1, num=len(fig_1_mod_filidety)),fig_1_mod_filidety,color='blue',lw=3)\n",
    "plt.plot(np.linspace(0, 1, num=len(fig_1_mod_filidety)),fig_1_mod_filidety,'o',color='blue')\n",
    "plt.plot(np.linspace(0, 1, num=len(linear_gs)),linear_gs,'--',color='orange',lw=3)\n",
    "#plt.ylabel('target ground \\nstate fidelity', color='black', size=20)\n",
    "plt.ylabel(r'$|\\langle \\psi(t) | \\psi_{gs}(t=t_f) \\rangle|^2$', color='black', size=18)\n",
    "\n",
    "plt.xlabel('normalized time', size=15)\n",
    "plt.tick_params(axis='y', labelcolor='black', labelsize=15)\n",
    "plt.tick_params(axis='x', labelcolor='black', labelsize=15)\n",
    "plt.text(0.4, 0.9, '46 steps', color='blue', size=15)\n",
    "plt.text(0.65, 0.1, '2936 steps', color='orange', size=15)\n",
    "plt.text(0.6, 0.5, '2936 steps', color='red', size=15)\n",
    "plt.tight_layout()\n",
    "plt.savefig('Fig_1_fidelity_compare_with_adiabatic.png')"
   ]
  },
  {
   "cell_type": "code",
   "execution_count": 74,
   "id": "f4c6fa60-18ba-488c-a2a5-3c529d571e1a",
   "metadata": {},
   "outputs": [
    {
     "data": {
      "image/png": "[encoded data removed]",
      "text/plain": [
       "<Figure size 700x400 with 1 Axes>"
      ]
     },
     "metadata": {},
     "output_type": "display_data"
    }
   ],
   "source": [
    "from matplotlib.ticker import FormatStrFormatter\n",
    "plt.figure(figsize=(7, 4))\n",
    "plt.plot(np.linspace(0, 1, num=len(instanously_fidelity_list)),instanously_fidelity_list,color='red',lw=3)\n",
    "plt.plot(np.linspace(0, 1, num=len(fig_1_mod_inst_gs_fidelity)),fig_1_mod_inst_gs_fidelity,color='blue',lw=3)\n",
    "plt.plot(np.linspace(0, 1, num=len(fig_1_mod_inst_gs_fidelity)),fig_1_mod_inst_gs_fidelity,'o',color='blue')\n",
    "plt.plot(np.linspace(0, 1, num=len(linear_inst_gs)),linear_inst_gs,'--',color='orange',lw=3)\n",
    "#plt.ylabel('Instantaneous\\nground state fidelity', color='black', size=20)\n",
    "plt.ylabel(r'$|\\langle \\psi(t) | \\psi_{gs}(t) \\rangle|^2$', color='black', size=15)\n",
    "\n",
    "plt.xlabel('normalized time', size=15)\n",
    "plt.tick_params(axis='y', labelcolor='black', labelsize=15)\n",
    "plt.tick_params(axis='x', labelcolor='black', labelsize=15)\n",
    "# plt.text(0.6, 0.5, 'adiabatic', color='blue', size=24)\n",
    "# plt.text(0.2, 0.5, 'mod', color='orange', size=24)\n",
    "\n",
    "plt.ylim(0.90,1.01)\n",
    "plt.yticks([0.9,0.95,1.0])\n",
    "\n",
    "plt.tight_layout()\n",
    "plt.savefig('Fig_1_inst_fidelity_compare_with_adiabatic.png')"
   ]
  }
 ],
 "metadata": {
  "kernelspec": {
   "display_name": "Python 3 (ipykernel)",
   "language": "python",
   "name": "python3"
  },
  "language_info": {
   "codemirror_mode": {
    "name": "ipython",
    "version": 3
   },
   "file_extension": ".py",
   "mimetype": "text/x-python",
   "name": "python",
   "nbconvert_exporter": "python",
   "pygments_lexer": "ipython3",
   "version": "3.11.5"
  }
 },
 "nbformat": 4,
 "nbformat_minor": 5
}
