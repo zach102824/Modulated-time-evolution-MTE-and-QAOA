{
 "cells": [
  {
   "cell_type": "markdown",
   "id": "01b6a06b-3234-4668-9978-dada4739e8d6",
   "metadata": {},
   "source": [
    "This python file is for running time evolution with LA field "
   ]
  },
  {
   "cell_type": "code",
   "execution_count": 1,
   "id": "07cb000c-4018-47fb-9edd-9560d594fa91",
   "metadata": {
    "tags": []
   },
   "outputs": [],
   "source": [
    "import numpy as np\n",
    "from scipy.sparse.linalg import eigs\n",
    "from numpy import linalg as LA\n",
    "from scipy.interpolate import Akima1DInterpolator\n",
    "from scipy.linalg import expm\n",
    "import time\n",
    "from scipy import sparse\n",
    "import matplotlib.pyplot as plt\n",
    "import pandas\n",
    "\n",
    "np.set_printoptions(precision=6)\n",
    "# initialize variables\n",
    "N = 12\n",
    "# Q is the dimension\n",
    "Q = pow(2, N)\n",
    "\n",
    "# decimal number to binary array function\n",
    "def D2B(num):\n",
    "    string = f'{num:1b}'\n",
    "    result = np.zeros(N - len(string), int)\n",
    "\n",
    "    for ele in string:\n",
    "        result = np.append(result, int(ele))\n",
    "\n",
    "    return result\n",
    "\n",
    "# decimal number to binary array function\n",
    "def D2B_with_digit(num,digit):\n",
    "    string = f'{num:1b}'\n",
    "    result = np.zeros(digit - len(string), int)\n",
    "\n",
    "    for ele in string:\n",
    "        result = np.append(result, int(ele))\n",
    "\n",
    "    return result\n",
    "\n",
    "# binary array to decimal function\n",
    "def B2D(array):\n",
    "    res = 0\n",
    "    for ele in array:\n",
    "        res = (res << 1) | ele\n",
    "    return res\n",
    "\n",
    "def spin_reflection(array):\n",
    "    new_array = np.zeros(len(array),dtype=int)\n",
    "    for i in range(len(array)):\n",
    "        if array[i] == 1:\n",
    "            new_array[i] = 0\n",
    "        else:\n",
    "            new_array[i] = 1\n",
    "    return new_array\n",
    "\n",
    "def spatial_reflection(array):\n",
    "    new_array = array[::-1]\n",
    "    return new_array\n",
    "\n",
    "# start my main function\n",
    "\n",
    "# initialize J matrix\n",
    "B = 0.1     # !!! NEED TO BE CHANGED\n",
    "J_matrix = np.zeros((N, N), dtype='float64')\n",
    "J_value = 1\n",
    "J_matrix_alpha = 1   # !!! NEED TO BE CHANGED\n",
    "for i in range(N):\n",
    "    for j in range(N):\n",
    "        if j >= (i + 1):\n",
    "            J_matrix[i][j] = J_value/pow(abs(i-j),J_matrix_alpha)"
   ]
  },
  {
   "cell_type": "code",
   "execution_count": 2,
   "id": "0a6aadaf-a0d9-4a97-be0e-c10fcc207179",
   "metadata": {
    "jupyter": {
     "source_hidden": true
    },
    "tags": []
   },
   "outputs": [],
   "source": [
    "# start to get what product states are having the same symmtries\n",
    "loop_state_list = np.linspace(0,Q-1,num=Q,dtype=int)\n",
    "\n",
    "couple_state_matrix = []\n",
    "sign_matrix = []\n",
    "# this is the final result for the states to consctruct basis \n",
    "\n",
    "for n in range(Q):  # n is an unused index\n",
    "    \n",
    "    # couple_num_list would be my result for each state we loop\n",
    "    \n",
    "    if len(loop_state_list)!=0: # loop for couple number for one state\n",
    "                \n",
    "        couple_num_list = [] # this is the list to store all the number that couple to the number we are looping\n",
    "        couple_num_list = np.array(couple_num_list, dtype=int)\n",
    "        state_num = loop_state_list[0]\n",
    "        couple_num_list = np.append(couple_num_list,state_num)\n",
    "        \n",
    "        for m in range(Q): # loop for spin and spatial for all states inside the couple number list\n",
    "            \n",
    "            if m==0:\n",
    "                \n",
    "                couple_num_list_old =couple_num_list\n",
    "                \n",
    "                for i in range(len(couple_num_list)):\n",
    "                    number = couple_num_list[i]\n",
    "                    array = D2B(number)\n",
    "\n",
    "                    # spin reflection \n",
    "                    spin_relfection_array = spin_reflection(array)\n",
    "                    spin_number = B2D(spin_relfection_array)\n",
    "                    couple_num_list =np.append(couple_num_list,spin_number)\n",
    "\n",
    "\n",
    "\n",
    "                    # spatial reflection \n",
    "                    spatial_relfection_array = spatial_reflection(array)\n",
    "                    spatial_number = B2D(spatial_relfection_array)\n",
    "                    couple_num_list =np.append(couple_num_list,spatial_number)\n",
    "                    \n",
    "                    # remove the repeated element \n",
    "                    couple_num_list = np.unique(couple_num_list)\n",
    "            else:\n",
    "                \n",
    "                if len(couple_num_list_old) != len(couple_num_list):\n",
    "                    # update couple_num_list_old first \n",
    "                    couple_num_list_old =couple_num_list\n",
    "                    \n",
    "                    for i in range(len(couple_num_list)):\n",
    "                        number = couple_num_list[i]\n",
    "                        array = D2B(number)\n",
    "\n",
    "                        # spin reflection \n",
    "                        spin_relfection_array = spin_reflection(array)\n",
    "                        spin_number = B2D(spin_relfection_array)\n",
    "                        couple_num_list =np.append(couple_num_list,spin_number)\n",
    "                        \n",
    "                        \n",
    "                        # spatial reflection \n",
    "                        spatial_relfection_array = spatial_reflection(array)\n",
    "                        spatial_number = B2D(spatial_relfection_array)\n",
    "                        couple_num_list = np.append(couple_num_list,spatial_number)\n",
    "                        \n",
    "                        # remove the repeated element \n",
    "                        couple_num_list = np.unique(couple_num_list)\n",
    "                        \n",
    "        # now we have final couple_num_list\n",
    "        couple_state_matrix.append(couple_num_list.tolist())\n",
    "        \n",
    "        # remove the ones already found \n",
    "        for j in range(len(couple_num_list)):\n",
    "            loop_state_list = np.delete(loop_state_list, np.where(loop_state_list ==couple_num_list[j] ))\n",
    "\n",
    "            \n"
   ]
  },
  {
   "cell_type": "code",
   "execution_count": 3,
   "id": "0bb06925-d998-4d50-81c2-3358156f548f",
   "metadata": {
    "jupyter": {
     "source_hidden": true
    },
    "tags": []
   },
   "outputs": [],
   "source": [
    "# now we want to decide the sign for each term \n",
    "\n",
    "for i in range(len(couple_state_matrix)):\n",
    "#for i in range(1,2):\n",
    "    \n",
    "    state_num = couple_state_matrix[i]\n",
    "    #print(state_num)\n",
    "    \n",
    "    # get spin & spatial reflection array without sign\n",
    "    spin_num_array = np.zeros(len(state_num),dtype=int)\n",
    "    spatial_num_array = np.zeros(len(state_num),dtype=int)\n",
    "    \n",
    "    for j in range(len(state_num)):\n",
    "        \n",
    "        array = D2B(state_num[j])\n",
    "\n",
    "        # spin reflection \n",
    "        spin_relfection_array = spin_reflection(array)\n",
    "        spin_number = B2D(spin_relfection_array)\n",
    "        spin_num_array[j] = spin_number\n",
    "        #print(spin_num_array)\n",
    "        \n",
    "        # spatial reflection \n",
    "        spatial_relfection_array = spatial_reflection(array)\n",
    "        spatial_number = B2D(spatial_relfection_array)\n",
    "        spatial_num_array[j] = spatial_number\n",
    "        #print(spatial_num_array)\n",
    "\n",
    "    \n",
    "    # loop all possbie sign        \n",
    "        \n",
    "    state_number_length = len(state_num) \n",
    "    for j in range( pow(2,state_number_length) ):\n",
    "        \n",
    "        sign_array = D2B_with_digit(j,state_number_length)\n",
    "        \n",
    "        # convert it into 1 or -1\n",
    "        \n",
    "        for k in range(len(sign_array)):\n",
    "            # the choice for sign here does not matter since we only the right + and -, what number it's is fine \n",
    "            if sign_array[k] == 1:\n",
    "                sign_array[k] = -1\n",
    "            else:\n",
    "                sign_array[k] = 1\n",
    "                \n",
    "        # combine signs on the reflection array sort is for comparison only \n",
    "        \n",
    "        temp_spin_num = spin_num_array * sign_array\n",
    "        temp_spin_num = np.sort(temp_spin_num)\n",
    "        #print(temp_spin_num)\n",
    "        \n",
    "        temp_spatial_num = spatial_num_array * sign_array\n",
    "        temp_spatial_num =np.sort(temp_spatial_num)\n",
    "        \n",
    "        # combine the sign for the orginal state number array\n",
    "        \n",
    "        #temp_spin_b4_num = state_num * sign_array * -1   # this one is for odd parity \n",
    "        temp_spin_b4_num = state_num * sign_array  \n",
    "        temp_spin_b4_num = np.sort(temp_spin_b4_num)\n",
    "\n",
    "        #temp_spatial_b4_num = state_num * sign_array * -1 # this one is for odd parity\n",
    "        temp_spatial_b4_num = state_num * sign_array\n",
    "        temp_spatial_b4_num = np.sort(temp_spatial_b4_num)\n",
    "        \n",
    "        \n",
    "        # check the parity here \n",
    "        if np.array_equal(temp_spin_num,temp_spin_b4_num):\n",
    "\n",
    "            if np.array_equal(temp_spatial_num,temp_spatial_b4_num):\n",
    "                if sign_array[0]==1: # just so to pick out the positive ones since all negatives would also work\n",
    "                    sign_matrix.append(sign_array.tolist())\n",
    "                    \n",
    "                    "
   ]
  },
  {
   "cell_type": "code",
   "execution_count": 4,
   "id": "bc0acdbe-5e19-4358-abdb-19490c8d74ae",
   "metadata": {
    "jupyter": {
     "source_hidden": true
    },
    "tags": []
   },
   "outputs": [],
   "source": [
    "# initialize H matrix\n",
    "couple_dimen = len(couple_state_matrix)\n",
    "\n",
    "HA_matrix = np.zeros((couple_dimen, couple_dimen), dtype='float64')\n",
    "HB_matrix = np.zeros((couple_dimen, couple_dimen), dtype='float64')"
   ]
  },
  {
   "cell_type": "code",
   "execution_count": 5,
   "id": "c4ab9342-e60b-44b3-bdb9-22c65ab1dee2",
   "metadata": {
    "jupyter": {
     "source_hidden": true
    },
    "tags": []
   },
   "outputs": [],
   "source": [
    "# loop each basis to fill in the diagonal elements for HA matrix \n",
    "\n",
    "for i in range(couple_dimen):\n",
    "    \n",
    "    state_array = np.array( couple_state_matrix[i] )\n",
    "    \n",
    "    # loop each element inside the array \n",
    "    normalization = len(state_array)\n",
    "    \n",
    "    # energy total for all the product states inside one basis\n",
    "    \n",
    "    e_tot = 0\n",
    "    for j in range(len(state_array)):\n",
    "        \n",
    "        state = D2B(state_array[j])\n",
    "        \n",
    "        # loop over N sites to change the state vector to either 1 or -1\n",
    "        \n",
    "        for k in range(N):\n",
    "            # 1 is spin down , 0 is spin up\n",
    "            if state[k] == 1:\n",
    "                state[k] = -1\n",
    "            else:\n",
    "                state[k] = 1\n",
    "\n",
    "        # now get the energy, loop all the sites and then pairs\n",
    "        \n",
    "        for m in range(N):\n",
    "            for q in range(N):\n",
    "                e_temp = J_matrix[m][q] * state[m] * state[q]\n",
    "                e_tot = e_tot + e_temp\n",
    "\n",
    "    HA_matrix[i][i] = e_tot/normalization"
   ]
  },
  {
   "cell_type": "code",
   "execution_count": 6,
   "id": "504fc82d-599c-452d-960b-540b4a1ef4c1",
   "metadata": {
    "jupyter": {
     "source_hidden": true
    },
    "tags": []
   },
   "outputs": [],
   "source": [
    "# generate vector form for each basis\n",
    "vector_form_basis_matrix = np.zeros((couple_dimen,Q))\n",
    "\n",
    "for i in range(couple_dimen):\n",
    "    \n",
    "    state_array = np.array( couple_state_matrix[i] )\n",
    "    normalization = np.sqrt(len(state_array))\n",
    "    \n",
    "    for j in state_array:\n",
    "        vector_form_basis_matrix[i][j] = 1\n",
    "        \n",
    "    # put back normalization factor\n",
    "    vector_form_basis_matrix[i] = vector_form_basis_matrix[i]/normalization\n",
    "    \n",
    "    "
   ]
  },
  {
   "cell_type": "code",
   "execution_count": 7,
   "id": "bb008183-6972-46e7-91fa-97cd7797b695",
   "metadata": {
    "jupyter": {
     "source_hidden": true
    },
    "tags": []
   },
   "outputs": [],
   "source": [
    "# loop each basis to fill in HB matrix \n",
    "\n",
    "for i in range(couple_dimen):\n",
    "\n",
    "    state_array = np.array( couple_state_matrix[i] )\n",
    "\n",
    "    # this is the actual normalization unlike before since it will couple to some other states\n",
    "    # so it can not be like just the square like we did before\n",
    "    normalization = np.sqrt(len(state_array))\n",
    "\n",
    "    # loop each product state to generate N other states, i.e. generaete the state after operator acting on it\n",
    "    result_num_list = []\n",
    "    result_num_list = np.array(result_num_list,dtype=int)\n",
    "    for k in range(len(state_array)):\n",
    "        \n",
    "        spin = D2B(state_array[k])\n",
    "\n",
    "        # start fliping the spins\n",
    "        for j in range(N):\n",
    "            if spin[j] == 1:\n",
    "                # if it's spin down, raise to spin up\n",
    "                spin[j] = 0\n",
    "                new_num = B2D(spin)\n",
    "                result_num_list = np.append(result_num_list,new_num)\n",
    "                # change it back for next operation\n",
    "                spin[j] = 1\n",
    "            else:\n",
    "                # if it's spin down, raise to spin up\n",
    "                spin[j] = 1\n",
    "                new_num = B2D(spin)\n",
    "                result_num_list = np.append(result_num_list,new_num)\n",
    "                # change it back for next operation\n",
    "                spin[j] = 0\n",
    "        \n",
    "     \n",
    "    # generate the vector form for the state after operrator acting on it\n",
    "    \n",
    "    vector_final_state = np.zeros(Q)\n",
    "    \n",
    "    for j in result_num_list:\n",
    "        vector_final_state[j] = vector_final_state[j] +1\n",
    "        \n",
    "    # put back normalization factor \n",
    "    vector_final_state = vector_final_state/normalization\n",
    "    \n",
    "    # calculate dot product to put into inside the matrix\n",
    "    for j in range(couple_dimen):\n",
    "        \n",
    "        dot_product = np.dot(vector_final_state,vector_form_basis_matrix[j])\n",
    "        HB_matrix[i][j] = dot_product"
   ]
  },
  {
   "cell_type": "code",
   "execution_count": 8,
   "id": "4a5a615f-4bba-4115-adac-33388d311370",
   "metadata": {},
   "outputs": [],
   "source": [
    "# get true ground state \n",
    "w, v = LA.eigh(HA_matrix + B* HB_matrix)\n",
    "inx = np.argsort(w)\n",
    "true_gs_vec = v[:, inx[0]]"
   ]
  },
  {
   "cell_type": "code",
   "execution_count": 9,
   "id": "ecacef1f-cf97-46d1-a321-bc30a7c23c16",
   "metadata": {
    "tags": []
   },
   "outputs": [],
   "source": [
    "# get  ground state with numerically infinite large B field\n",
    "w, v = LA.eigh(HB_matrix)\n",
    "inx = np.argsort(w)\n",
    "temp_vec = v[:, inx[0]] # the index here could be zero or one, depending on the parity\n",
    "# but if the wrong index will always give roughly zero fidelity "
   ]
  },
  {
   "cell_type": "code",
   "execution_count": 10,
   "id": "1c26d6f9-2875-4aa2-ae0e-42562109bfe1",
   "metadata": {
    "tags": []
   },
   "outputs": [],
   "source": [
    "# read B field file \n",
    "time_and_B_data = pandas.read_csv(f\"./B_profile_N={N}_a={J_matrix_alpha}_B_start={20}_B_0={0.1}.csv\")\n",
    "time_list = time_and_B_data['time'].to_numpy()\n",
    "B_list = time_and_B_data['B'].to_numpy()"
   ]
  },
  {
   "cell_type": "code",
   "execution_count": 11,
   "id": "17b5fabc-8dc7-47e0-849d-d5b7e01d729e",
   "metadata": {
    "tags": []
   },
   "outputs": [
    {
     "name": "stdout",
     "output_type": "stream",
     "text": [
      "ramp time is 29.355691745570777\n"
     ]
    }
   ],
   "source": [
    "# # diabatic gamma\n",
    "diabatic_gamma = 10  \n",
    "time_list = diabatic_gamma * time_list\n",
    "target_time_length = np.max(time_list)\n",
    "print('ramp time is',target_time_length)"
   ]
  },
  {
   "cell_type": "code",
   "execution_count": null,
   "id": "5622645d-d58e-4f48-ab9b-a7d07df67754",
   "metadata": {},
   "outputs": [],
   "source": []
  },
  {
   "cell_type": "code",
   "execution_count": 12,
   "id": "27f15e9c-c5bd-4c74-8072-3545e9ca2210",
   "metadata": {
    "tags": []
   },
   "outputs": [
    {
     "name": "stdout",
     "output_type": "stream",
     "text": [
      "ramp time is 29.35 gamma is  0.9998061110049763\n",
      "dt =  0.010003407747280858\n",
      "number of layers is 2935\n"
     ]
    }
   ],
   "source": [
    "# turn B into a function of t, so that we can just change B later but not t\n",
    "\n",
    "# fixed number of layers\n",
    "# dt_size = target_time_length/15\n",
    "# number_of_layers = int(target_time_length/dt_size)\n",
    "\n",
    "# fixed dt size\n",
    "dt_size = 0.01\n",
    "number_of_layers = int(target_time_length/dt_size)\n",
    "\n",
    "# diabatic gamma\n",
    "diabatic_gamma = number_of_layers*dt_size/np.max(time_list)\n",
    "\n",
    "\n",
    "time_list = diabatic_gamma * time_list\n",
    "target_time_length = np.max(time_list)\n",
    "print('ramp time is',target_time_length,'gamma is ',diabatic_gamma)\n",
    "\n",
    "\n",
    "bi = Akima1DInterpolator(time_list, B_list)\n",
    "t_data_smooth = np.linspace(min(time_list), max(time_list),number_of_layers)# Number of steps to take for time evolution \n",
    "B_data_smooth = bi(t_data_smooth)\n",
    "dt = t_data_smooth[1]-t_data_smooth[0]\n",
    "print('dt = ',dt)\n",
    "print( 'number of layers is', number_of_layers)"
   ]
  },
  {
   "cell_type": "code",
   "execution_count": null,
   "id": "26e78ece-ef0e-46fc-8dd1-cddfe09e30ae",
   "metadata": {},
   "outputs": [],
   "source": []
  },
  {
   "cell_type": "code",
   "execution_count": 13,
   "id": "31ab03f9-b142-4e60-87e5-51a708792a52",
   "metadata": {
    "tags": []
   },
   "outputs": [
    {
     "data": {
      "text/plain": [
       "[<matplotlib.lines.Line2D at 0x26f1f19fa50>]"
      ]
     },
     "execution_count": 13,
     "metadata": {},
     "output_type": "execute_result"
    },
    {
     "data": {
      "image/png": "[encoded data removed]",
      "text/plain": [
       "<Figure size 640x480 with 1 Axes>"
      ]
     },
     "metadata": {},
     "output_type": "display_data"
    }
   ],
   "source": [
    "plt.plot(t_data_smooth,B_data_smooth)"
   ]
  },
  {
   "cell_type": "code",
   "execution_count": 14,
   "id": "e0a9cbca-d47e-4c50-b045-dfc00747188b",
   "metadata": {
    "tags": []
   },
   "outputs": [],
   "source": [
    "# get fidelity for t= 0s\n",
    "fidelity_t_0 = pow(np.dot(true_gs_vec,temp_vec),2)"
   ]
  },
  {
   "cell_type": "code",
   "execution_count": 15,
   "id": "c359861d-dc59-432f-bf4e-28a5d70ed376",
   "metadata": {},
   "outputs": [],
   "source": [
    "# linear case\n",
    "# B_data_smooth = np.linspace(20,0.1,2935)\n",
    "# dt_size=0.01"
   ]
  },
  {
   "cell_type": "code",
   "execution_count": null,
   "id": "07868e61-beba-4309-abdf-cc2b9b35af7d",
   "metadata": {},
   "outputs": [],
   "source": []
  },
  {
   "cell_type": "code",
   "execution_count": 16,
   "id": "4880b870-dae3-46ab-8d6f-fdb1c15aee78",
   "metadata": {},
   "outputs": [],
   "source": [
    "import json\n",
    "# Load and print a sample of the saved data\n",
    "def read_saved_data(file_path):\n",
    "    with open(file_path, \"r\") as f:\n",
    "        data = json.load(f)\n",
    "    return data\n",
    "gs_data = read_saved_data(\"gs_data.json\")"
   ]
  },
  {
   "cell_type": "code",
   "execution_count": null,
   "id": "164dc204-9e89-49e1-a95b-9cfdf81acb03",
   "metadata": {},
   "outputs": [],
   "source": []
  },
  {
   "cell_type": "code",
   "execution_count": 17,
   "id": "b2e74f53-96c8-4dff-b0a3-47725ac22589",
   "metadata": {
    "scrolled": true
   },
   "outputs": [],
   "source": [
    "# run the case with just LA to see the base\n",
    "# time evolution\n",
    "final_fidelity_list =[]\n",
    "# final_fidelity_list.append(fidelity_t_0)\n",
    "step = len(B_data_smooth)\n",
    "instanously_fidelity_list = []\n",
    "instanously_and_true_gs_fidelity_list=[]\n",
    "# product state\n",
    "p = temp_vec  # p stands for product\n",
    "inst_B_list=[]    \n",
    " # loop each time step\n",
    "    \n",
    "for i in range(step): # start with 1 because the 0th element already put in at the lines above\n",
    "    \n",
    "    H_matrix = HA_matrix + B_data_smooth[i]*HB_matrix\n",
    "    \n",
    "    # instanous gs \n",
    "\n",
    "    # w, v = LA.eigh(H_matrix)\n",
    "    # inx = np.argsort(w)\n",
    "    # instanous_gs = v[:, inx[0]]\n",
    "   \n",
    "    ### \n",
    "    exp_imgH_matrix = expm( -1*1j*dt_size*H_matrix )\n",
    "    new_p = np.dot(exp_imgH_matrix,p)\n",
    "\n",
    "    ### get the highest inst fidelity\n",
    "    max_fidelity = 0\n",
    "    best_B_value = None\n",
    "    for B_value, gs_vector in gs_data.items():\n",
    "        dp = np.dot(gs_vector,new_p) # dp is dot product\n",
    "        #print(dp)\n",
    "        dp_cc = np.conjugate(dp)     # the complex conjucate of the dot product \n",
    "        fidelity = (dp*dp_cc).real\n",
    "        if fidelity > max_fidelity:\n",
    "            max_fidelity = fidelity\n",
    "            best_B_value = B_value   \n",
    "\n",
    "    instanously_fidelity_list.append(max_fidelity)\n",
    "    inst_B_list.append(best_B_value)\n",
    "\n",
    "    \n",
    "    #calculate fieldlity \n",
    "    dp = np.dot(true_gs_vec,new_p) # dp is dot product\n",
    "    #print(dp)\n",
    "    dp_cc = np.conjugate(dp)     # the complex conjucate of the dot product \n",
    "    fidelity = (dp*dp_cc).real\n",
    "    final_fidelity_list.append(fidelity)\n",
    "\n",
    "    \n",
    "    # update state\n",
    "    p = new_p"
   ]
  },
  {
   "cell_type": "code",
   "execution_count": 18,
   "id": "a540cd5e-26a5-49be-aa5f-7da1fd3d542d",
   "metadata": {},
   "outputs": [],
   "source": [
    "# plt.plot(instanously_fidelity_list)\n",
    "# plt.ylim(0.9,1)"
   ]
  },
  {
   "cell_type": "code",
   "execution_count": 19,
   "id": "e7f9e0d7-7701-4d98-89df-6009e68dba47",
   "metadata": {},
   "outputs": [],
   "source": [
    "inst_B_list = np.array(inst_B_list, dtype=float)"
   ]
  },
  {
   "cell_type": "code",
   "execution_count": null,
   "id": "4144f20b-79d3-4cde-b16c-10a9d949eaed",
   "metadata": {},
   "outputs": [],
   "source": []
  },
  {
   "cell_type": "code",
   "execution_count": 20,
   "id": "26ca5786-8ab1-4c37-9c1c-518ff7c8094c",
   "metadata": {},
   "outputs": [],
   "source": [
    "final_fidelity_list_array=np.array(final_fidelity_list)\n",
    "instanously_fidelity_list_array=np.array(instanously_fidelity_list)\n",
    "# instanously_and_true_gs_fidelity_list_array=np.array(instanously_and_true_gs_fidelity_list)"
   ]
  },
  {
   "cell_type": "code",
   "execution_count": null,
   "id": "ffb72964-333d-4de4-936d-a6430102e245",
   "metadata": {},
   "outputs": [],
   "source": []
  },
  {
   "cell_type": "code",
   "execution_count": null,
   "id": "47b30436-8ba2-4011-92b1-d456c66d7c4d",
   "metadata": {},
   "outputs": [],
   "source": []
  },
  {
   "cell_type": "code",
   "execution_count": null,
   "id": "c69f9b4c-839c-4c8e-88f8-108b6c7e71cc",
   "metadata": {},
   "outputs": [],
   "source": []
  },
  {
   "cell_type": "code",
   "execution_count": 22,
   "id": "a31334a0-9b70-4371-bc69-2957f9d045f5",
   "metadata": {},
   "outputs": [],
   "source": [
    "# # Save the array to a file\n",
    "# np.save('fig_1_la_la_gs_prob.npy', final_fidelity_list)\n",
    "# np.save('fig_1_la_inst_gs_prob.npy', instanously_fidelity_list)\n",
    "# np.save('fig_1_la_b_list.npy', inst_B_list)\n",
    "\n",
    "\n",
    "# np.save('fig_1_linear_gs_prob.npy', final_fidelity_list)\n",
    "# np.save('fig_1_linear_inst_gs_prob.npy', instanously_fidelity_list)\n",
    "# np.save('fig_1_linear_b_list.npy', inst_B_list)\n",
    "\n",
    "\n",
    "# np.save('D2_1_la_instanously_and_true_gs.npy', instanously_and_true_gs_fidelity_list_array)\n",
    "\n",
    "# load data for LA data\n",
    "final_fidelity_list_array = np.load('fig_1_la_gs_prob.npy')\n",
    "instanously_fidelity_list_array =  np.load('fig_1_la_inst_gs_prob.npy')\n",
    "\n",
    "final_fidelity_list_array_1 = np.load('long_la_gs_prob.npy')\n",
    "instanously_fidelity_list_array_1 =  np.load('long_la_inst_gs_prob.npy')\n",
    "\n",
    "# load data for linear data\n",
    "# B_data_smooth = np.linspace(20,0.1,2935)\n",
    "# dt_size=0.01\n",
    "# final_fidelity_list_array = np.load('fig_1_linear_gs_prob.npy')\n",
    "# instanously_fidelity_list_array =  np.load('fig_1_linear_inst_gs_prob.npy')\n",
    "# instanously_and_true_gs_fidelity_list_array = np.load('fig_1_linear_instanously_and_true_gs.npy')"
   ]
  },
  {
   "cell_type": "code",
   "execution_count": 23,
   "id": "aa2cdcb7-22af-41ed-96b5-07cd0459aa60",
   "metadata": {},
   "outputs": [
    {
     "name": "stdout",
     "output_type": "stream",
     "text": [
      "ramp time is 293.7506321366524\n",
      "ramp time is 293.75 gamma is  0.9999978480500694\n",
      "dt =  0.0010000033168017658\n",
      "number of layers is 293750\n"
     ]
    }
   ],
   "source": [
    "# read B field file \n",
    "time_and_B_data = pandas.read_csv(f\"./B_profile_N={N}_a={J_matrix_alpha}_B_start={50}_B_0={0.1}.csv\")\n",
    "time_list = time_and_B_data['time'].to_numpy()\n",
    "B_list = time_and_B_data['B'].to_numpy()\n",
    "# # diabatic gamma\n",
    "diabatic_gamma = 100  \n",
    "time_list = diabatic_gamma * time_list\n",
    "target_time_length = np.max(time_list)\n",
    "print('ramp time is',target_time_length)\n",
    "# turn B into a function of t, so that we can just change B later but not t\n",
    "\n",
    "# fixed number of layers\n",
    "# dt_size = target_time_length/15\n",
    "# number_of_layers = int(target_time_length/dt_size)\n",
    "\n",
    "# fixed dt size\n",
    "dt_size = 0.001\n",
    "number_of_layers = int(target_time_length/dt_size)\n",
    "\n",
    "# diabatic gamma\n",
    "diabatic_gamma = number_of_layers*dt_size/np.max(time_list)\n",
    "\n",
    "\n",
    "time_list = diabatic_gamma * time_list\n",
    "target_time_length = np.max(time_list)\n",
    "print('ramp time is',target_time_length,'gamma is ',diabatic_gamma)\n",
    "\n",
    "\n",
    "bi = Akima1DInterpolator(time_list, B_list)\n",
    "t_data_smooth = np.linspace(min(time_list), max(time_list),number_of_layers)# Number of steps to take for time evolution \n",
    "B_data_smooth_1 = bi(t_data_smooth)\n",
    "dt = t_data_smooth[1]-t_data_smooth[0]\n",
    "print('dt = ',dt)\n",
    "print( 'number of layers is', number_of_layers)"
   ]
  },
  {
   "cell_type": "code",
   "execution_count": 24,
   "id": "27213635-a5e3-40b9-bfa5-fd0755c7e66f",
   "metadata": {},
   "outputs": [
    {
     "data": {
      "image/png": "[encoded data removed]",
      "text/plain": [
       "<Figure size 600x400 with 2 Axes>"
      ]
     },
     "metadata": {},
     "output_type": "display_data"
    }
   ],
   "source": [
    "\n",
    "# Create figure and subplots\n",
    "fig, (ax1, ax2) = plt.subplots(2, 1, figsize=(6, 4), sharex=True)  # 2 rows, 1 column\n",
    "\n",
    "# Subplot 0\n",
    "ax1.plot(B_data_smooth, 1-instanously_fidelity_list_array, label=\"Final Fidelity\", color=\"black\")\n",
    "ax1.set_ylabel(\"Inst infidelity\", fontsize=15)  # Label size for y-axis\n",
    "# ax1.set_yticks(np.arange(0, 0.08, 0.02))  # Ensures it includes 1.0\n",
    "ax1.tick_params(axis='y', labelsize=15)  # Tick size for y-axis\n",
    "ax1.tick_params(axis='x', labelsize=15)  # Tick size for shared x-axis\n",
    "\n",
    "# Subplot 1\n",
    "ax2.plot(B_data_smooth_1, 1-instanously_fidelity_list_array_1, label=\"Instantaneous Fidelity\", color=\"black\")\n",
    "#ax2.plot(B_data_smooth, instanously_fidelity_list_array, label=\"Instantaneous Fidelity\", color=\"black\")\n",
    "ax2.set_xlabel(\"B\", fontsize=15)  # Label size for x-axis\n",
    "ax2.set_ylabel(\"Inst infidelity\", fontsize=15)  # Label size for y-axis\n",
    "ax2.set_xlim(10, 0)\n",
    "# ax2.set_yticks(np.linspace(0, 0.1,5))  # Ensures it includes 1.0\n",
    "ax2.tick_params(axis='y', labelsize=15)  # Tick size for y-axis\n",
    "ax2.tick_params(axis='x', labelsize=15)  # Tick size for x-axis\n",
    "\n",
    "# Adjust layout\n",
    "plt.tight_layout()\n",
    "plt.savefig('LA_fidelity_verus_B.pdf')\n",
    "# Show plot\n",
    "plt.show()"
   ]
  },
  {
   "cell_type": "code",
   "execution_count": null,
   "id": "5cd61b4f-72d7-4e2a-b7ad-cb9a03ad7f7b",
   "metadata": {},
   "outputs": [],
   "source": []
  },
  {
   "cell_type": "code",
   "execution_count": null,
   "id": "62008ac3-fca0-4e74-9185-ec8f21f97d4d",
   "metadata": {},
   "outputs": [],
   "source": []
  }
 ],
 "metadata": {
  "kernelspec": {
   "display_name": "Python 3 (ipykernel)",
   "language": "python",
   "name": "python3"
  },
  "language_info": {
   "codemirror_mode": {
    "name": "ipython",
    "version": 3
   },
   "file_extension": ".py",
   "mimetype": "text/x-python",
   "name": "python",
   "nbconvert_exporter": "python",
   "pygments_lexer": "ipython3",
   "version": "3.11.5"
  }
 },
 "nbformat": 4,
 "nbformat_minor": 5
}
