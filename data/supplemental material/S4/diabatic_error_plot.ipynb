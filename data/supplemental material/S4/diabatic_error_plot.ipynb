{
 "cells": [
  {
   "cell_type": "code",
   "execution_count": 1,
   "id": "5046e305-ffe2-4146-a294-8d44c61690cc",
   "metadata": {
    "id": "5046e305-ffe2-4146-a294-8d44c61690cc"
   },
   "outputs": [],
   "source": [
    "N = 8\n",
    "J_value = 1\n",
    "J_matrix_alpha = 1\n",
    "import torch\n",
    "import torch.optim as optim\n",
    "device = torch.device(\"cuda\" if torch.cuda.is_available() else \"cpu\")\n",
    "# device = torch.device( \"cpu\")"
   ]
  },
  {
   "cell_type": "code",
   "execution_count": 2,
   "id": "07cb000c-4018-47fb-9edd-9560d594fa91",
   "metadata": {
    "id": "07cb000c-4018-47fb-9edd-9560d594fa91",
    "tags": []
   },
   "outputs": [],
   "source": [
    "import numpy as np\n",
    "from scipy.sparse.linalg import eigs\n",
    "from scipy.sparse.linalg import eigsh\n",
    "from scipy.interpolate import Akima1DInterpolator\n",
    "from scipy.linalg import expm\n",
    "import csv\n",
    "import time\n",
    "from scipy import sparse\n",
    "import matplotlib.pyplot as plt\n",
    "import pandas\n",
    "import scipy\n",
    "np.set_printoptions(precision=6)\n",
    "# initialize variables\n",
    "# Q is the dimension\n",
    "Q = pow(2, N)\n",
    "# decimal number to binary array function\n",
    "def D2B(num):\n",
    "    string = f'{num:1b}'\n",
    "    result = np.zeros(N - len(string), int)\n",
    "\n",
    "    for ele in string:\n",
    "        result = np.append(result, int(ele))\n",
    "\n",
    "    return result\n",
    "\n",
    "# decimal number to binary array function\n",
    "def D2B_with_digit(num,digit):\n",
    "    string = f'{num:1b}'\n",
    "    result = np.zeros(digit - len(string), int)\n",
    "\n",
    "    for ele in string:\n",
    "        result = np.append(result, int(ele))\n",
    "\n",
    "    return result\n",
    "\n",
    "# binary array to decimal function\n",
    "def B2D(array):\n",
    "    res = 0\n",
    "    for ele in array:\n",
    "        res = (res << 1) | ele\n",
    "    return res\n",
    "\n",
    "def spin_reflection(array):\n",
    "    new_array = np.zeros(len(array),dtype=int)\n",
    "    for i in range(len(array)):\n",
    "        if array[i] == 1:\n",
    "            new_array[i] = 0\n",
    "        else:\n",
    "            new_array[i] = 1\n",
    "    return new_array\n",
    "\n",
    "def spatial_reflection(array):\n",
    "    new_array = array[::-1]\n",
    "    return new_array\n",
    "\n",
    "# start my main function\n",
    "\n",
    "# initialize J matrix\n",
    "J_matrix = np.zeros((N, N), dtype='float64')\n",
    "\n",
    "for i in range(N):\n",
    "    for j in range(N):\n",
    "        if j >= (i + 1):\n",
    "            J_matrix[i][j] = J_value/pow(abs(i-j),J_matrix_alpha)"
   ]
  },
  {
   "cell_type": "code",
   "execution_count": 3,
   "id": "61ae75dd-85e1-4314-859b-66f70713a85b",
   "metadata": {
    "id": "61ae75dd-85e1-4314-859b-66f70713a85b",
    "scrolled": true
   },
   "outputs": [],
   "source": [
    "# start to get what product states are having the same symmtries\n",
    "loop_state_list = np.linspace(0,Q-1,num=Q,dtype=int)\n",
    "\n",
    "couple_state_matrix = []\n",
    "sign_matrix = []\n",
    "# this is the final result for the states to consctruct basis\n",
    "\n",
    "for n in range(Q):  # n is an unused index\n",
    "\n",
    "    # couple_num_list would be my result for each state we loop\n",
    "\n",
    "    if len(loop_state_list)!=0: # loop for couple number for one state\n",
    "\n",
    "        couple_num_list = [] # this is the list to store all the number that couple to the number we are looping\n",
    "        couple_num_list = np.array(couple_num_list, dtype=int)\n",
    "        state_num = loop_state_list[0]\n",
    "        couple_num_list = np.append(couple_num_list,state_num)\n",
    "\n",
    "        for m in range(Q): # loop for spin and spatial for all states inside the couple number list\n",
    "\n",
    "            if m==0:\n",
    "\n",
    "                couple_num_list_old =couple_num_list\n",
    "\n",
    "                for i in range(len(couple_num_list)):\n",
    "                    number = couple_num_list[i]\n",
    "                    array = D2B(number)\n",
    "\n",
    "                    # spin reflection\n",
    "                    spin_relfection_array = spin_reflection(array)\n",
    "                    spin_number = B2D(spin_relfection_array)\n",
    "                    couple_num_list =np.append(couple_num_list,spin_number)\n",
    "\n",
    "\n",
    "\n",
    "                    # # spatial reflection\n",
    "                    spatial_relfection_array = spatial_reflection(array)\n",
    "                    spatial_number = B2D(spatial_relfection_array)\n",
    "                    couple_num_list =np.append(couple_num_list,spatial_number)\n",
    "\n",
    "                    # remove the repeated element\n",
    "                    couple_num_list = np.unique(couple_num_list)\n",
    "            else:\n",
    "\n",
    "                if len(couple_num_list_old) != len(couple_num_list):\n",
    "                    # update couple_num_list_old first\n",
    "                    couple_num_list_old =couple_num_list\n",
    "\n",
    "                    for i in range(len(couple_num_list)):\n",
    "                        number = couple_num_list[i]\n",
    "                        array = D2B(number)\n",
    "\n",
    "                        # spin reflection\n",
    "                        spin_relfection_array = spin_reflection(array)\n",
    "                        spin_number = B2D(spin_relfection_array)\n",
    "                        couple_num_list =np.append(couple_num_list,spin_number)\n",
    "\n",
    "\n",
    "                        # # spatial reflection\n",
    "                        spatial_relfection_array = spatial_reflection(array)\n",
    "                        spatial_number = B2D(spatial_relfection_array)\n",
    "                        couple_num_list = np.append(couple_num_list,spatial_number)\n",
    "\n",
    "                        # remove the repeated element\n",
    "                        couple_num_list = np.unique(couple_num_list)\n",
    "\n",
    "        # now we have final couple_num_list\n",
    "        couple_state_matrix.append(couple_num_list.tolist())\n",
    "\n",
    "        # remove the ones already found\n",
    "        for j in range(len(couple_num_list)):\n",
    "            loop_state_list = np.delete(loop_state_list, np.where(loop_state_list ==couple_num_list[j] ))"
   ]
  },
  {
   "cell_type": "code",
   "execution_count": 4,
   "id": "a4728649-d38d-4f07-acd6-16fea739f532",
   "metadata": {
    "id": "a4728649-d38d-4f07-acd6-16fea739f532",
    "jupyter": {
     "source_hidden": true
    }
   },
   "outputs": [],
   "source": [
    "# initialize H matrix\n",
    "couple_dimen = len(couple_state_matrix)\n",
    "\n",
    "HA_matrix = np.zeros((couple_dimen, couple_dimen), dtype='float64')\n",
    "HB_matrix = np.zeros((couple_dimen, couple_dimen), dtype='float64')\n",
    "\n",
    "# loop each basis to fill in the diagonal elements for HA matrix\n",
    "\n",
    "for i in range(couple_dimen):\n",
    "\n",
    "    state_array = np.array( couple_state_matrix[i] )\n",
    "\n",
    "    # loop each element inside the array\n",
    "    normalization = len(state_array)\n",
    "\n",
    "    # energy total for all the product states inside one basis\n",
    "\n",
    "    e_tot = 0\n",
    "    for j in range(len(state_array)):\n",
    "\n",
    "        state = D2B(state_array[j])\n",
    "\n",
    "        # loop over N sites to change the state vector to either 1 or -1\n",
    "\n",
    "        for k in range(N):\n",
    "            # 1 is spin down , 0 is spin up\n",
    "            if state[k] == 1:\n",
    "                state[k] = -1\n",
    "            else:\n",
    "                state[k] = 1\n",
    "\n",
    "        # now get the energy, loop all the sites and then pairs\n",
    "\n",
    "        for m in range(N):\n",
    "            for q in range(N):\n",
    "                e_temp = J_matrix[m][q] * state[m] * state[q]\n",
    "                e_tot = e_tot + e_temp\n",
    "\n",
    "    HA_matrix[i][i] = e_tot/normalization\n",
    "\n",
    "# generate vector form for each basis\n",
    "vector_form_basis_matrix = np.zeros((couple_dimen,Q))\n",
    "\n",
    "for i in range(couple_dimen):\n",
    "\n",
    "    state_array = np.array( couple_state_matrix[i] )\n",
    "    normalization = np.sqrt(len(state_array))\n",
    "\n",
    "    for j in state_array:\n",
    "        vector_form_basis_matrix[i][j] = 1\n",
    "\n",
    "    # put back normalization factor\n",
    "    vector_form_basis_matrix[i] = vector_form_basis_matrix[i]/normalization\n",
    "\n",
    "# loop each basis to fill in HB matrix\n",
    "\n",
    "for i in range(couple_dimen):\n",
    "\n",
    "    state_array = np.array( couple_state_matrix[i] )\n",
    "\n",
    "    # this is the actual normalization unlike before since it will couple to some other states\n",
    "    # so it can not be like just the square like we did before\n",
    "    normalization = np.sqrt(len(state_array))\n",
    "\n",
    "    # loop each product state to generate N other states, i.e. generaete the state after operator acting on it\n",
    "    result_num_list = []\n",
    "    result_num_list = np.array(result_num_list,dtype=int)\n",
    "    for k in range(len(state_array)):\n",
    "\n",
    "        spin = D2B(state_array[k])\n",
    "\n",
    "        # start fliping the spins\n",
    "        for j in range(N):\n",
    "            if spin[j] == 1:\n",
    "                # if it's spin down, raise to spin up\n",
    "                spin[j] = 0\n",
    "                new_num = B2D(spin)\n",
    "                result_num_list = np.append(result_num_list,new_num)\n",
    "                # change it back for next operation\n",
    "                spin[j] = 1\n",
    "            else:\n",
    "                # if it's spin down, raise to spin up\n",
    "                spin[j] = 1\n",
    "                new_num = B2D(spin)\n",
    "                result_num_list = np.append(result_num_list,new_num)\n",
    "                # change it back for next operation\n",
    "                spin[j] = 0\n",
    "\n",
    "\n",
    "    # generate the vector form for the state after operrator acting on it\n",
    "\n",
    "    vector_final_state = np.zeros(Q)\n",
    "\n",
    "    for j in result_num_list:\n",
    "        vector_final_state[j] = vector_final_state[j] +1\n",
    "\n",
    "    # put back normalization factor\n",
    "    vector_final_state = vector_final_state/normalization\n",
    "\n",
    "    # calculate dot product to put into inside the matrix\n",
    "    for j in range(couple_dimen):\n",
    "\n",
    "        dot_product = np.dot(vector_final_state,vector_form_basis_matrix[j])\n",
    "        HB_matrix[i][j] = dot_product"
   ]
  },
  {
   "cell_type": "code",
   "execution_count": 5,
   "id": "2762dd9a-78c2-4e60-a2fb-8a66a13740ef",
   "metadata": {
    "id": "2762dd9a-78c2-4e60-a2fb-8a66a13740ef"
   },
   "outputs": [],
   "source": [
    "B = 0.1  # !!! NEED TO BE CHANGED\n",
    "# Compute the smallest eigenvalue and eigenvector\n",
    "smallest_eigenvalue, smallest_eigenvector = eigsh(HA_matrix + B * HB_matrix, k=1, which='SA')\n",
    "\n",
    "true_gs_energy = smallest_eigenvalue[0]\n",
    "true_gs_vec = smallest_eigenvector[:, 0]\n",
    "\n",
    "# Compute the largest eigenvalue\n",
    "largest_eigenvalue = eigs(HA_matrix + B * HB_matrix, k=1, which='LR', return_eigenvectors=False)\n",
    "\n",
    "E_max = largest_eigenvalue[0].real"
   ]
  },
  {
   "cell_type": "code",
   "execution_count": 6,
   "id": "4315903f-1a36-4be0-84c9-4c8ff942a187",
   "metadata": {
    "colab": {
     "base_uri": "https://localhost:8080/"
    },
    "id": "4315903f-1a36-4be0-84c9-4c8ff942a187",
    "outputId": "a15b9eca-e3c3-4860-ed8a-91053174e4fa"
   },
   "outputs": [
    {
     "data": {
      "text/plain": [
       "-5.110650491789128"
      ]
     },
     "execution_count": 6,
     "metadata": {},
     "output_type": "execute_result"
    }
   ],
   "source": [
    "true_gs_energy"
   ]
  },
  {
   "cell_type": "code",
   "execution_count": 7,
   "id": "ecacef1f-cf97-46d1-a321-bc30a7c23c16",
   "metadata": {
    "id": "ecacef1f-cf97-46d1-a321-bc30a7c23c16",
    "tags": []
   },
   "outputs": [],
   "source": [
    "# get  ground state with numerically infinite large B field\n",
    "# Compute the smallest eigenvalue and eigenvector\n",
    "smallest_eigenvalue, smallest_eigenvector = eigsh( HB_matrix, k=1, which='SA')\n",
    "temp_vec = smallest_eigenvector[:, 0]"
   ]
  },
  {
   "cell_type": "code",
   "execution_count": 8,
   "id": "02aa00b3-7f1c-43bb-ba7a-7c13fd70d685",
   "metadata": {
    "id": "02aa00b3-7f1c-43bb-ba7a-7c13fd70d685"
   },
   "outputs": [],
   "source": [
    "# move to gpu\n",
    "true_gs_vec = torch.tensor(true_gs_vec.astype(np.complex128)).to(device=device)\n",
    "temp_vec = torch.tensor(temp_vec.astype(np.complex128)).to(device=device)\n",
    "\n",
    "HA_matrix = torch.tensor(HA_matrix, dtype=torch.complex128).to(device=device)\n",
    "HB_matrix = torch.tensor(HB_matrix, dtype=torch.complex128).to(device=device)\n",
    "target_H = HA_matrix + B * HB_matrix"
   ]
  },
  {
   "cell_type": "code",
   "execution_count": 9,
   "id": "31ab03f9-b142-4e60-87e5-51a708792a52",
   "metadata": {
    "id": "31ab03f9-b142-4e60-87e5-51a708792a52",
    "jupyter": {
     "source_hidden": true
    },
    "tags": []
   },
   "outputs": [],
   "source": [
    "def get_fidelity_torch(vector1, vector2):\n",
    "    overlap = torch.tensordot(vector1, vector2, dims=1)\n",
    "    overlap_conj = torch.conj(overlap)\n",
    "    fidelity = torch.real(overlap * overlap_conj)\n",
    "    return fidelity\n",
    "\n",
    "def get_energy_torch(matrix, vector):\n",
    "    conj_vector = torch.conj(vector)\n",
    "    energy = torch.real(torch.tensordot(conj_vector, torch.tensordot(matrix, vector, dims=1), dims=1))\n",
    "\n",
    "    return energy"
   ]
  },
  {
   "cell_type": "code",
   "execution_count": 10,
   "id": "b470c448-6d8f-445c-b6bc-379546bc3ec8",
   "metadata": {
    "colab": {
     "base_uri": "https://localhost:8080/"
    },
    "id": "b470c448-6d8f-445c-b6bc-379546bc3ec8",
    "outputId": "bf7a27ea-228d-4a8c-84ab-a6deb30792ac"
   },
   "outputs": [
    {
     "data": {
      "text/plain": [
       "-9.769962616701378e-15"
      ]
     },
     "execution_count": 10,
     "metadata": {},
     "output_type": "execute_result"
    }
   ],
   "source": [
    "get_energy_torch(target_H,true_gs_vec).item()- true_gs_energy"
   ]
  },
  {
   "cell_type": "code",
   "execution_count": 11,
   "id": "e0a9cbca-d47e-4c50-b045-dfc00747188b",
   "metadata": {
    "colab": {
     "base_uri": "https://localhost:8080/"
    },
    "id": "e0a9cbca-d47e-4c50-b045-dfc00747188b",
    "outputId": "6797ff1c-cd5e-4083-f3cc-42f907a753f9",
    "tags": []
   },
   "outputs": [
    {
     "name": "stdout",
     "output_type": "stream",
     "text": [
      "tensor(0.0162, device='cuda:0', dtype=torch.float64)\n"
     ]
    }
   ],
   "source": [
    "# get fidelity for t= 0s\n",
    "fidelity_t_0 = get_fidelity_torch(true_gs_vec,temp_vec)\n",
    "print(fidelity_t_0)"
   ]
  },
  {
   "cell_type": "code",
   "execution_count": 12,
   "id": "77e0ee37-be8a-42db-8bef-b719306c8079",
   "metadata": {
    "id": "77e0ee37-be8a-42db-8bef-b719306c8079"
   },
   "outputs": [],
   "source": [
    "# def lambda_evolve(x):\n",
    "#     global fidelity\n",
    "#     p = temp_vec.clone().to(torch.complex128)  # Create a copy of temp_vec\n",
    "\n",
    "#     for i in range(number_of_layers):\n",
    "#         H_matrix = HA_matrix + x[i+number_of_layers] * HB_matrix\n",
    "#         exp_imgH_matrix = torch.matrix_exp(-1j * x[i] * H_matrix)\n",
    "#         new_p = torch.matmul(exp_imgH_matrix, p)\n",
    "#         p = new_p\n",
    "\n",
    "#     # fidelity = get_fidelity_torch(true_gs_vec, p)\n",
    "#     # print(fidelity)\n",
    "#     energy = get_energy_torch(target_H, p)\n",
    "\n",
    "#     return energy"
   ]
  },
  {
   "cell_type": "code",
   "execution_count": 13,
   "id": "f9d7f0cf-3e61-4127-8d1a-02ec2b5065ed",
   "metadata": {},
   "outputs": [],
   "source": [
    "x_10 =np.array([0.481648640320813, 0.6392949356754583, 0.4649781516823971, 0.6518475128577886, 0.7955844634336527, 0.9787585633033431, 2.01698576701233, 2.841485170761013, 1.452539894644007, 1.2302090688738114, 7.418158051701331, 3.0226608991375126, 1.3673757532433595, 0.7605554646391439, 0.5852122130608153, 0.504743518139635, 0.43352984765388014, 0.3706165784075941, 0.27863901585784, 0.1851910325406766]\n",
    "               )   \n",
    "x_10 = torch.tensor(x_10, dtype=torch.float64, device=device, requires_grad=False)\n",
    "# 19 layers\n",
    "x_20 =np.array([ 0.3014844279435918,  0.1921272709621516,  0.2818537456700573,\n",
    "        0.3957882618914732,  0.4987596480845791,  0.6060442972129731,\n",
    "        3.4114358609178086,  1.6028012922450432,  0.7917161550403632,\n",
    "        0.783830255464649 ,  3.5655744280692376,  1.0183844667116926,\n",
    "        1.1773899329966038,  1.0690133944224753,  1.1567102611048585,\n",
    "        1.2521722384452187,  1.4720234839462139,  1.3080212636696467,\n",
    "        1.1420371297760137, 11.705174695338204 ,  2.735656480743786 ,\n",
    "        1.2739286628031565,  0.8767696497890644,  0.7036401130363863,\n",
    "        0.6224299298911959,  0.5899512305559111,  0.5704521080133822,\n",
    "        0.5434996050187133,  0.489695319858004 ,  0.460977378438144 ,\n",
    "        0.4249340427741412,  0.372375346040481 ,  0.3337116984977648,\n",
    "        0.2932959807846987,  0.2420681773890434,  0.1871137427741457,\n",
    "        0.140052027751236 ,  0.1038555268509599])\n",
    "x_20 = torch.tensor(x_20, dtype=torch.float64, device=device, requires_grad=False)\n",
    "\n",
    "x_50 =np.array([0.3528703060601084, 0.2453788720438224, 1.133905920873186, 1.5550037952726907, 2.052358822406153, 0.5470043513782152, 0.8966060910858116, 0.3136741863313714, 1.679284922462869, 1.97023766620678, 0.47869232691320684, 1.8427711133405464, 1.171590508472509, 1.5359894980301556, 2.2583482229946235, 1.4211336540222097, 1.0155582429326147, 1.6159885721485754, 2.5025434610675594, 0.5162807365120907, 0.058846293277307976, 1.61462062590704, 1.6250349490711433, -0.10508831026883904, 2.936060374212869, 1.3988251894752883, 2.3135297428009056, 1.2266522031844282, 1.4013357976197423, 1.9914664948959155, 2.08403415405316, 1.3213447023572755, 2.479101918088984, 1.083108432609445, 1.421349065952447, 1.5107199094613881, 2.790380990707153, -0.8041934128016902, 3.2761968900822986, 2.385735689829477, 0.17644988489639613, 0.6588404693902001, 1.816404068128337, 2.4703282482381237, 0.9811848855149738, 1.5351550957101499, 3.788589253715731, -2.724734321812374, 2.9110284179857895, 1.3631702659363303, 6.146882549101785, 2.6035914919230154, 1.6438095381041773, 1.2196149767980058, 1.0334385157483212, 0.9952447224538475, 0.908607339377829, 0.829595708240327, 0.7203613014901799, 0.6984871022873536, 0.6051784463093001, 0.5434420828581131, 0.5185759097105764, 0.5437759497668713, 0.5044391126412987, 0.4778888280099457, 0.4429313142432216, 0.48119647769611024, 0.41717584928314183, 0.38535038527304166, 0.28340727324436976, 0.3938490678865807, 0.3652427370293282, 0.38710299361360134, 0.3489503902005756, 0.3102888928102287, 0.29452901201499293, 0.31657021259967405, 0.29462255130586473, 0.32601220141838977, 0.288818057466813, 0.21405752181989346, 0.17811860360627577, 0.16679609987799607, 0.07344765541342176, -0.029218147354816804, -0.10220418873132182, -0.05397068189585801, -0.004833200843350127, -0.031181201639468442, 0.20431184877014608, 0.01208608073461419, 0.11811405496746705, 0.13676608665166431, 0.10042557849184834, 0.14313466257581203, 0.06316100041022538, 0.08899092378861156, 0.01574850601117229, 0.03409463067629089]\n",
    ")\n",
    "x_50 = torch.tensor(x_50, dtype=torch.float64, device=device, requires_grad=False)\n",
    "x_80 =np.array([1.3185283262155363, 1.3912867692615098, 1.5060424648394461, 1.4808578918916002, 2.02108026015372, 1.1227470403809112, 1.2343515208281644, 0.8793767647272311, 1.8070610978771873, 1.3014658129903607, 1.7859313716470995, 1.565229256075809, 1.032416359355382, 1.273104225534556, 1.503616402602846, 0.966952397719599, 1.8205140514544693, 1.4903745788817324, 1.6768173473599046, 1.3709755641247194, 1.0625015121705041, 1.151371648484852, 0.8874337147259379, 2.1508891298316626, 1.5366546381097, 0.9640704710149256, 1.7630748306652477, 1.415229897661135, 0.9167161973707662, 1.6145089703944984, 0.9530929163179287, 1.3652129000284312, 1.2031070083115756, 2.0019357157693674, 1.2247534303445964, 2.0030780750041974, 0.9069159395160943, 1.1294613247356036, 1.7015983351268167, 1.2696854755989953, 1.400498279024243, 0.7312919602106809, 2.2599498763345394, 1.5139800710719054, 0.8693839311925657, 1.5474324241464459, 2.0325069967719673, 1.9757518199778614, 1.1921455024213292, 1.2480041016643681, 2.173528442812072, 1.3566651186115268, 1.4953134963803436, 1.5056483382134258, 1.3663244918816781, 1.5988401738151297, 2.1505151829220672, 2.066602742085571, 1.3749367498716851, 1.7807339273833007, 0.9358944795762191, 0.39554784671050036, 1.998213460161461, 1.713100494395185, 1.9117361306813068, 0.8402935258933094, 1.8748349853208575, 0.9454958904201907, 2.3124457926979423, 1.2237226794969283, 1.9229324231258054, 1.0071117023918412, 1.8988700839349655, 1.6663065949620446, 0.38378372537838745, 1.9090985219084897, 1.3664326947674557, 1.613094575320484, 1.370403198568462, 1.3308031683706747, 1.8844316047252907, 1.1216467793426563, 0.8880351343937577, 0.7707175373653552, 1.0234762516020484, 0.8111769335650676, 0.6644710462736635, 0.940523433415001, 0.8594319521142699, 0.8227839814868949, 0.5620659555169448, 0.6492591514950224, 0.6181733186842526, 0.6607012601360258, 0.7726449160677641, 0.6232661137676193, 0.7792802308692939, 0.5765869943299823, 0.4956704740742871, 0.41491659246652407, 0.47454061672833914, 0.4049091797806241, 0.5394729368426142, 0.5810567409773579, 0.47551696157014123, 0.7031864814355262, 0.5385649065177178, 0.4207540383762089, 0.5065013434864443, 0.47228696341711907, 0.3583757164543054, 0.27035358233430845, 0.48059258761129936, 0.32198420164860647, 0.2496304627240936, 0.38282763246108814, 0.25913615856134586, 0.31774995071875467, 0.37385795267067273, 0.2597582518816391, 0.13138654668682687, 0.25560269934098023, 0.20765509209483596, 0.23616147842452692, 0.3353986955934178, 0.2604379269375688, 0.26547609835585256, 0.24082038474298018, 0.15438049029211376, 0.20901570418798132, 0.2945739929670995, 0.3242031520420313, 0.11602264978736228, 0.22599275556373938, 0.23105718897126265, 0.23145307707816615, 0.18991066453186772, 0.22652170642382977, 0.20808828157640552, 0.17482202782346062, 0.26251936217965405, 0.06148172222454257, 0.2757815497102569, 0.21930607366650623, 0.10200513245469259, 0.043767010742213376, 0.22268775293605192, 0.04250141618579957, 0.19119134860917458, 0.06955710639394236, 0.2549084792413403, 0.09617528240588906, 0.23851574472841938, 0.057793664696482235, 0.19170819840207937, 0.12872649065448577, 0.1554900604898718, 0.009814633166428081, -0.03288576491422699, -0.01885720381658167]\n",
    "              )\n",
    "x_80 = torch.tensor(x_80, dtype=torch.float64, device=device, requires_grad=False)"
   ]
  },
  {
   "cell_type": "code",
   "execution_count": 14,
   "id": "3c567c24-5bd2-4dc8-b4c7-b63170d5c3f4",
   "metadata": {
    "id": "3c567c24-5bd2-4dc8-b4c7-b63170d5c3f4"
   },
   "outputs": [],
   "source": [
    "def lambda_evolve(x):\n",
    "    number_of_layers = len(x)//2\n",
    "    p = temp_vec.clone().to(torch.complex128)  # Create a copy of temp_vec\n",
    "\n",
    "    for i in range(number_of_layers):\n",
    "        H_matrix = HA_matrix + x[i+number_of_layers] * HB_matrix\n",
    "        exp_imgH_matrix = torch.matrix_exp(-1j * x[i] * H_matrix)\n",
    "        new_p = torch.matmul(exp_imgH_matrix, p)\n",
    "        p = new_p\n",
    "\n",
    "    fidelity = get_fidelity_torch(true_gs_vec, p)\n",
    "    print(fidelity.item())\n",
    "    energy = get_energy_torch(target_H, p)\n",
    "\n",
    "    return energy.item()"
   ]
  },
  {
   "cell_type": "code",
   "execution_count": 15,
   "id": "cdcd8ab9-5b88-4ec1-9629-5a9d0df56f6d",
   "metadata": {
    "id": "cdcd8ab9-5b88-4ec1-9629-5a9d0df56f6d"
   },
   "outputs": [],
   "source": [
    "def get_energy_list(x):\n",
    "    number_of_layers = len(x)//2\n",
    "    energy_list = []\n",
    "    p = temp_vec.clone().to(torch.complex128)  # Create a copy of temp_vec\n",
    "\n",
    "    for i in range(number_of_layers):\n",
    "        H_matrix = HA_matrix + x[i+number_of_layers] * HB_matrix\n",
    "        exp_imgH_matrix = torch.matrix_exp(-1j * x[i] * H_matrix)\n",
    "        new_p = torch.matmul(exp_imgH_matrix, p)\n",
    "        p = new_p\n",
    "        energy = get_energy_torch(target_H, p)\n",
    "        energy_list.append(energy.item())\n",
    "\n",
    "    return energy_list"
   ]
  },
  {
   "cell_type": "code",
   "execution_count": 16,
   "id": "9f233c02-3066-4240-833b-7e74257b4d51",
   "metadata": {
    "id": "9f233c02-3066-4240-833b-7e74257b4d51"
   },
   "outputs": [],
   "source": [
    "def get_fidelity_matrix(x):\n",
    "    number_of_layers = len(x)//2\n",
    "    fidelity_matrix = []\n",
    "    p = temp_vec.clone().to(torch.complex128)  # Create a copy of temp_vec\n",
    "\n",
    "    for i in range(number_of_layers):\n",
    "        # evolve the state, loop each layers\n",
    "        H_matrix = HA_matrix + x[i+number_of_layers] * HB_matrix\n",
    "        exp_imgH_matrix = torch.matrix_exp(-1j * x[i] * H_matrix)\n",
    "        new_p = torch.matmul(exp_imgH_matrix, p)\n",
    "        p = new_p\n",
    "        # now i have my inst state\n",
    "\n",
    "        # loop states to get excited states\n",
    "        fidelity_list = []\n",
    "        for j in range(1,couple_dimen): # start with 1, only care about excitation\n",
    "\n",
    "          # get excited state\n",
    "          eigenvalues, eigenvectors = torch.linalg.eigh(HA_matrix + B * HB_matrix)\n",
    "\n",
    "          excited_state = eigenvectors.T[j]\n",
    "\n",
    "          fidelity = get_fidelity_torch(excited_state, p).item()\n",
    "          #print(fidelity)\n",
    "\n",
    "          fidelity_list.append(fidelity)\n",
    "\n",
    "        fidelity_matrix.append(fidelity_list)\n",
    "\n",
    "    return fidelity_matrix"
   ]
  },
  {
   "cell_type": "code",
   "execution_count": 17,
   "id": "Op4foy9Ixu85",
   "metadata": {
    "id": "Op4foy9Ixu85"
   },
   "outputs": [],
   "source": [
    "def get_fidelity_list(x):\n",
    "    number_of_layers = len(x)//2\n",
    "    fidelity_list = []\n",
    "    p = temp_vec.clone().to(torch.complex128)  # Create a copy of temp_vec\n",
    "\n",
    "    for i in range(number_of_layers):\n",
    "        # evolve the state, loop each layers\n",
    "        H_matrix = HA_matrix + x[i+number_of_layers] * HB_matrix\n",
    "        exp_imgH_matrix = torch.matrix_exp(-1j * x[i] * H_matrix)\n",
    "        new_p = torch.matmul(exp_imgH_matrix, p)\n",
    "        p = new_p\n",
    "        # now i have my inst state\n",
    "\n",
    "\n",
    "        fidelity = get_fidelity_torch(true_gs_vec, p).item()\n",
    "        #print(fidelity)\n",
    "\n",
    "        fidelity_list.append(fidelity)\n",
    "\n",
    "\n",
    "    return fidelity_list"
   ]
  },
  {
   "cell_type": "code",
   "execution_count": null,
   "id": "f0304a1c-5f8d-432f-8ada-19316952c430",
   "metadata": {},
   "outputs": [],
   "source": []
  },
  {
   "cell_type": "code",
   "execution_count": 18,
   "id": "390ec474-831b-48ad-8dcf-0c3cc1106eec",
   "metadata": {},
   "outputs": [],
   "source": [
    "# fidelity_list_10 = get_fidelity_list(x_10)\n",
    "# fidelity_list_20 = get_fidelity_list(x_20)\n",
    "# fidelity_list_50 = get_fidelity_list(x_50)\n",
    "# fidelity_list_80 = get_fidelity_list(x_80)\n",
    "# # Save the lists to CSV files\n",
    "# def save_fidelity_list_to_csv(filename, fidelity_list):\n",
    "#     with open(filename, 'w', newline='') as file:\n",
    "#         writer = csv.writer(file)\n",
    "#         writer.writerow(fidelity_list)  # Write the list as a single row\n",
    "\n",
    "# # Save each list into its own CSV file\n",
    "# save_fidelity_list_to_csv('fidelity_list_10.csv', fidelity_list_10)\n",
    "# save_fidelity_list_to_csv('fidelity_list_20.csv', fidelity_list_20)\n",
    "# save_fidelity_list_to_csv('fidelity_list_50.csv', fidelity_list_50)\n",
    "# save_fidelity_list_to_csv('fidelity_list_80.csv', fidelity_list_80)\n"
   ]
  },
  {
   "cell_type": "code",
   "execution_count": 19,
   "id": "d0c35cf5-365d-4571-a283-e00bacfa861a",
   "metadata": {},
   "outputs": [],
   "source": [
    "# Read the lists from CSV files\n",
    "def load_fidelity_list_from_csv(filename):\n",
    "    with open(filename, 'r') as file:\n",
    "        reader = csv.reader(file)\n",
    "        # Read the first (and only) row, convert each item to float\n",
    "        return [float(item) for item in next(reader)]\n",
    "\n",
    "# Load each list from its respective CSV file\n",
    "fidelity_list_10 = load_fidelity_list_from_csv('fidelity_list_10.csv')\n",
    "fidelity_list_20 = load_fidelity_list_from_csv('fidelity_list_20.csv')\n",
    "fidelity_list_50 = load_fidelity_list_from_csv('fidelity_list_50.csv')\n",
    "fidelity_list_80 = load_fidelity_list_from_csv('fidelity_list_80.csv')\n"
   ]
  },
  {
   "cell_type": "code",
   "execution_count": 20,
   "id": "ChJMoQT5_0BF",
   "metadata": {
    "colab": {
     "base_uri": "https://localhost:8080/",
     "height": 486
    },
    "id": "ChJMoQT5_0BF",
    "outputId": "cec1b071-de3a-4c34-8508-df433bdf3580"
   },
   "outputs": [
    {
     "data": {
      "image/png": "[encoded data removed]",
      "text/plain": [
       "<Figure size 640x480 with 1 Axes>"
      ]
     },
     "metadata": {},
     "output_type": "display_data"
    }
   ],
   "source": [
    "import matplotlib.pyplot as plt\n",
    "import numpy as np\n",
    "\n",
    "# Define markersize\n",
    "markersize = 7\n",
    "\n",
    "# Plotting the lines with different symbols\n",
    "plt.plot(np.linspace(0, 1, len(fidelity_list_10)), fidelity_list_10, color='orange', lw=2, marker='^', markersize=markersize, label='10 steps')\n",
    "plt.plot(np.linspace(0, 1, len(fidelity_list_20)), fidelity_list_20, color='black', lw=2, marker='s', markersize=markersize, label='20 steps')\n",
    "plt.plot(np.linspace(0, 1, len(fidelity_list_50)), fidelity_list_50, color='red', lw=2, marker='v', markersize=markersize, label='50 steps')\n",
    "plt.plot(np.linspace(0, 1, len(fidelity_list_80)), fidelity_list_80, color='blue', lw=2, marker='o', markersize=markersize, label='80 steps')\n",
    "# Adding labels and adjusting plot parameters\n",
    "plt.xlabel('normalized time', size=15)\n",
    "plt.ylabel(r'$|\\langle \\psi(t) | \\psi_{gs}(t=t_f) \\rangle|^2$', color='black', size=15)\n",
    "plt.tick_params(axis='both', which='major', labelsize=15, length=10, width=2)\n",
    "# Adjust legend for clarity\n",
    "plt.legend(fontsize=16)\n",
    "# Save the plot\n",
    "plt.tight_layout()\n",
    "plt.savefig('gs_evolution.png')\n",
    "plt.show()\n"
   ]
  },
  {
   "cell_type": "code",
   "execution_count": 21,
   "id": "6dc644c3-ce73-437f-b9cb-d5269e716483",
   "metadata": {
    "id": "6dc644c3-ce73-437f-b9cb-d5269e716483"
   },
   "outputs": [],
   "source": [
    "# fidelity_matrix = get_fidelity_matrix(x_80)\n",
    "# fidelity_matrix = np.array(fidelity_matrix)\n",
    "\n",
    "# import csv\n",
    "# import numpy as np\n",
    "\n",
    "# # Save the matrix to a CSV file\n",
    "# def save_fidelity_matrix_to_csv(filename, fidelity_matrix):\n",
    "#     with open(filename, 'w', newline='') as file:\n",
    "#         writer = csv.writer(file)\n",
    "#         # Write each row of the matrix to the CSV file\n",
    "#         for row in fidelity_matrix:\n",
    "#             writer.writerow(row)\n",
    "\n",
    "# # Save the fidelity matrix to 'fidelity_matrix.csv'\n",
    "# save_fidelity_matrix_to_csv('fidelity_matrix.csv', fidelity_matrix)\n"
   ]
  },
  {
   "cell_type": "code",
   "execution_count": 22,
   "id": "71548316-8a64-4776-bbe3-2c7dbf585ed4",
   "metadata": {},
   "outputs": [],
   "source": [
    "# Read the matrix from a CSV file\n",
    "def load_fidelity_matrix_from_csv(filename):\n",
    "    with open(filename, 'r') as file:\n",
    "        reader = csv.reader(file)\n",
    "        # Convert each row to a list of floats\n",
    "        return np.array([[float(item) for item in row] for row in reader])\n",
    "\n",
    "# Load the fidelity matrix from 'fidelity_matrix.csv'\n",
    "fidelity_matrix = load_fidelity_matrix_from_csv('fidelity_matrix.csv')\n",
    "# after transpose, fidelity_matrix[0] is the fidelity for the first exctied state along the time evolution\n",
    "fidelity_matrix = fidelity_matrix.T"
   ]
  },
  {
   "cell_type": "code",
   "execution_count": 23,
   "id": "ODZXv1Xjxk6w",
   "metadata": {
    "colab": {
     "base_uri": "https://localhost:8080/",
     "height": 487
    },
    "id": "ODZXv1Xjxk6w",
    "outputId": "235985ca-6dd4-403a-d4f1-7a95f2f08897"
   },
   "outputs": [
    {
     "data": {
      "image/png": "[encoded data removed]",
      "text/plain": [
       "<Figure size 640x480 with 2 Axes>"
      ]
     },
     "metadata": {},
     "output_type": "display_data"
    }
   ],
   "source": [
    "import seaborn as sns\n",
    "\n",
    "ax = sns.heatmap(fidelity_matrix[:10], cmap='viridis', cbar_kws={'ticks': [0, 0.05,0.1, 0.15,0.2,0.25, 0.3], 'shrink': 1})\n",
    "ax.collections[0].colorbar.ax.tick_params(labelsize=20)  # Set colorbar tick labels size\n",
    "\n",
    "# plt.title('Fidelity of exctied states ',size=16)\n",
    "\n",
    "# Customize ticks\n",
    "ax.set_xticks([0,20,40,60,80])\n",
    "ax.set_xticklabels(['0', '20', '40', '60', '80'], fontsize=20, rotation=0)\n",
    "\n",
    "\n",
    "# Customize ticks\n",
    "ax.set_yticks([0,2,4,6,8,10])\n",
    "ax.set_yticklabels(['0', '2','4','6','8' ,'10'], fontsize=20, rotation=0)\n",
    "\n",
    "ax.set_xlabel('Index of step', fontsize=20)\n",
    "ax.set_ylabel('Index of excited state', fontsize=20)\n",
    "\n",
    "# Invert y-axis\n",
    "ax.invert_yaxis()\n",
    "plt.tight_layout()\n",
    "plt.savefig('diabatic_excitation')\n",
    "plt.show()\n"
   ]
  }
 ],
 "metadata": {
  "colab": {
   "provenance": []
  },
  "kernelspec": {
   "display_name": "Python 3 (ipykernel)",
   "language": "python",
   "name": "python3"
  },
  "language_info": {
   "codemirror_mode": {
    "name": "ipython",
    "version": 3
   },
   "file_extension": ".py",
   "mimetype": "text/x-python",
   "name": "python",
   "nbconvert_exporter": "python",
   "pygments_lexer": "ipython3",
   "version": "3.11.5"
  }
 },
 "nbformat": 4,
 "nbformat_minor": 5
}
