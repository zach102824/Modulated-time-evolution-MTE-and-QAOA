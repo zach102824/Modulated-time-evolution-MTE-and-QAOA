{
 "cells": [
  {
   "cell_type": "code",
   "execution_count": 1,
   "id": "07cb000c-4018-47fb-9edd-9560d594fa91",
   "metadata": {
    "tags": []
   },
   "outputs": [],
   "source": [
    "import numpy as np\n",
    "from scipy.sparse.linalg import eigs\n",
    "from numpy import linalg as LA\n",
    "from scipy.interpolate import Akima1DInterpolator\n",
    "from scipy.linalg import expm\n",
    "import time\n",
    "from scipy import sparse\n",
    "import matplotlib.pyplot as plt\n",
    "import scipy\n",
    "np.set_printoptions(precision=6)\n",
    "# initialize variables\n",
    "N = 8\n",
    "# Q is the dimension\n",
    "Q = pow(2, N)\n",
    "\n",
    "# decimal number to binary array function\n",
    "def D2B(num):\n",
    "    string = f'{num:1b}'\n",
    "    result = np.zeros(N - len(string), int)\n",
    "\n",
    "    for ele in string:\n",
    "        result = np.append(result, int(ele))\n",
    "\n",
    "    return result\n",
    "\n",
    "# decimal number to binary array function\n",
    "def D2B_with_digit(num,digit):\n",
    "    string = f'{num:1b}'\n",
    "    result = np.zeros(digit - len(string), int)\n",
    "\n",
    "    for ele in string:\n",
    "        result = np.append(result, int(ele))\n",
    "\n",
    "    return result\n",
    "\n",
    "# binary array to decimal function\n",
    "def B2D(array):\n",
    "    res = 0\n",
    "    for ele in array:\n",
    "        res = (res << 1) | ele\n",
    "    return res\n",
    "\n",
    "def spin_reflection(array):\n",
    "    new_array = np.zeros(len(array),dtype=int)\n",
    "    for i in range(len(array)):\n",
    "        if array[i] == 1:\n",
    "            new_array[i] = 0\n",
    "        else:\n",
    "            new_array[i] = 1\n",
    "    return new_array\n",
    "\n",
    "def spatial_reflection(array):\n",
    "    new_array = array[::-1]\n",
    "    return new_array\n",
    "\n",
    "# start my main function\n",
    "\n",
    "# initialize J matrix\n",
    "J_matrix = np.zeros((N, N), dtype='float64')\n",
    "J_value = 1\n",
    "J_matrix_alpha = 1   # !!! NEED TO BE CHANGED\n",
    "for i in range(N):\n",
    "    for j in range(N):\n",
    "        if j >= (i + 1):\n",
    "            J_matrix[i][j] = J_value/pow(abs(i-j),J_matrix_alpha)"
   ]
  },
  {
   "cell_type": "code",
   "execution_count": 2,
   "id": "0a6aadaf-a0d9-4a97-be0e-c10fcc207179",
   "metadata": {
    "jupyter": {
     "source_hidden": true
    },
    "tags": []
   },
   "outputs": [],
   "source": [
    "# start to get what product states are having the same symmtries\n",
    "loop_state_list = np.linspace(0,Q-1,num=Q,dtype=int)\n",
    "\n",
    "couple_state_matrix = []\n",
    "sign_matrix = []\n",
    "# this is the final result for the states to consctruct basis \n",
    "\n",
    "for n in range(Q):  # n is an unused index\n",
    "    \n",
    "    # couple_num_list would be my result for each state we loop\n",
    "    \n",
    "    if len(loop_state_list)!=0: # loop for couple number for one state\n",
    "                \n",
    "        couple_num_list = [] # this is the list to store all the number that couple to the number we are looping\n",
    "        couple_num_list = np.array(couple_num_list, dtype=int)\n",
    "        state_num = loop_state_list[0]\n",
    "        couple_num_list = np.append(couple_num_list,state_num)\n",
    "        \n",
    "        for m in range(Q): # loop for spin and spatial for all states inside the couple number list\n",
    "            \n",
    "            if m==0:\n",
    "                \n",
    "                couple_num_list_old =couple_num_list\n",
    "                \n",
    "                for i in range(len(couple_num_list)):\n",
    "                    number = couple_num_list[i]\n",
    "                    array = D2B(number)\n",
    "\n",
    "                    # spin reflection \n",
    "                    spin_relfection_array = spin_reflection(array)\n",
    "                    spin_number = B2D(spin_relfection_array)\n",
    "                    couple_num_list =np.append(couple_num_list,spin_number)\n",
    "\n",
    "\n",
    "\n",
    "                    # spatial reflection \n",
    "                    spatial_relfection_array = spatial_reflection(array)\n",
    "                    spatial_number = B2D(spatial_relfection_array)\n",
    "                    couple_num_list =np.append(couple_num_list,spatial_number)\n",
    "                    \n",
    "                    # remove the repeated element \n",
    "                    couple_num_list = np.unique(couple_num_list)\n",
    "            else:\n",
    "                \n",
    "                if len(couple_num_list_old) != len(couple_num_list):\n",
    "                    # update couple_num_list_old first \n",
    "                    couple_num_list_old =couple_num_list\n",
    "                    \n",
    "                    for i in range(len(couple_num_list)):\n",
    "                        number = couple_num_list[i]\n",
    "                        array = D2B(number)\n",
    "\n",
    "                        # spin reflection \n",
    "                        spin_relfection_array = spin_reflection(array)\n",
    "                        spin_number = B2D(spin_relfection_array)\n",
    "                        couple_num_list =np.append(couple_num_list,spin_number)\n",
    "                        \n",
    "                        \n",
    "                        # spatial reflection \n",
    "                        spatial_relfection_array = spatial_reflection(array)\n",
    "                        spatial_number = B2D(spatial_relfection_array)\n",
    "                        couple_num_list = np.append(couple_num_list,spatial_number)\n",
    "                        \n",
    "                        # remove the repeated element \n",
    "                        couple_num_list = np.unique(couple_num_list)\n",
    "                        \n",
    "        # now we have final couple_num_list\n",
    "        couple_state_matrix.append(couple_num_list.tolist())\n",
    "        \n",
    "        # remove the ones already found \n",
    "        for j in range(len(couple_num_list)):\n",
    "            loop_state_list = np.delete(loop_state_list, np.where(loop_state_list ==couple_num_list[j] ))\n",
    "\n",
    "            \n"
   ]
  },
  {
   "cell_type": "code",
   "execution_count": 3,
   "id": "0bb06925-d998-4d50-81c2-3358156f548f",
   "metadata": {
    "jupyter": {
     "source_hidden": true
    },
    "tags": []
   },
   "outputs": [],
   "source": [
    "# # now we want to decide the sign for each term \n",
    "\n",
    "# for i in range(len(couple_state_matrix)):\n",
    "# #for i in range(1,2):\n",
    "    \n",
    "#     state_num = couple_state_matrix[i]\n",
    "#     #print(state_num)\n",
    "    \n",
    "#     # get spin & spatial reflection array without sign\n",
    "#     spin_num_array = np.zeros(len(state_num),dtype=int)\n",
    "#     spatial_num_array = np.zeros(len(state_num),dtype=int)\n",
    "    \n",
    "#     for j in range(len(state_num)):\n",
    "        \n",
    "#         array = D2B(state_num[j])\n",
    "\n",
    "#         # spin reflection \n",
    "#         spin_relfection_array = spin_reflection(array)\n",
    "#         spin_number = B2D(spin_relfection_array)\n",
    "#         spin_num_array[j] = spin_number\n",
    "#         #print(spin_num_array)\n",
    "        \n",
    "#         # spatial reflection \n",
    "#         spatial_relfection_array = spatial_reflection(array)\n",
    "#         spatial_number = B2D(spatial_relfection_array)\n",
    "#         spatial_num_array[j] = spatial_number\n",
    "#         #print(spatial_num_array)\n",
    "\n",
    "    \n",
    "#     # loop all possbie sign        \n",
    "        \n",
    "#     state_number_length = len(state_num) \n",
    "#     for j in range( pow(2,state_number_length) ):\n",
    "        \n",
    "#         sign_array = D2B_with_digit(j,state_number_length)\n",
    "        \n",
    "#         # convert it into 1 or -1\n",
    "        \n",
    "#         for k in range(len(sign_array)):\n",
    "#             # the choice for sign here does not matter since we only the right + and -, what number it's is fine \n",
    "#             if sign_array[k] == 1:\n",
    "#                 sign_array[k] = -1\n",
    "#             else:\n",
    "#                 sign_array[k] = 1\n",
    "                \n",
    "#         # combine signs on the reflection array sort is for comparison only \n",
    "        \n",
    "#         temp_spin_num = spin_num_array * sign_array\n",
    "#         temp_spin_num = np.sort(temp_spin_num)\n",
    "#         #print(temp_spin_num)\n",
    "        \n",
    "#         temp_spatial_num = spatial_num_array * sign_array\n",
    "#         temp_spatial_num =np.sort(temp_spatial_num)\n",
    "        \n",
    "#         # combine the sign for the orginal state number array\n",
    "        \n",
    "#         #temp_spin_b4_num = state_num * sign_array * -1   # this one is for odd parity \n",
    "#         temp_spin_b4_num = state_num * sign_array  \n",
    "#         temp_spin_b4_num = np.sort(temp_spin_b4_num)\n",
    "\n",
    "#         #temp_spatial_b4_num = state_num * sign_array * -1 # this one is for odd parity\n",
    "#         temp_spatial_b4_num = state_num * sign_array\n",
    "#         temp_spatial_b4_num = np.sort(temp_spatial_b4_num)\n",
    "        \n",
    "        \n",
    "#         # check the parity here \n",
    "#         if np.array_equal(temp_spin_num,temp_spin_b4_num):\n",
    "\n",
    "#             if np.array_equal(temp_spatial_num,temp_spatial_b4_num):\n",
    "#                 if sign_array[0]==1: # just so to pick out the positive ones since all negatives would also work\n",
    "#                     sign_matrix.append(sign_array.tolist())\n",
    "                    \n",
    "#         # if not np.array_equal(temp_spin_num, state_num) and not np.array_equal(temp_spatial_num, state_num):\n",
    "#         #     sign_matrix.append(sign_array.tolist())                    "
   ]
  },
  {
   "cell_type": "code",
   "execution_count": 4,
   "id": "bc0acdbe-5e19-4358-abdb-19490c8d74ae",
   "metadata": {
    "tags": []
   },
   "outputs": [],
   "source": [
    "# initialize H matrix\n",
    "couple_dimen = len(couple_state_matrix)\n",
    "\n",
    "HA_matrix = np.zeros((couple_dimen, couple_dimen), dtype='float64')\n",
    "HB_matrix = np.zeros((couple_dimen, couple_dimen), dtype='float64')"
   ]
  },
  {
   "cell_type": "code",
   "execution_count": 5,
   "id": "e72f81c3-30f3-4b84-8cfb-e9e64ac22519",
   "metadata": {},
   "outputs": [
    {
     "data": {
      "text/plain": [
       "72"
      ]
     },
     "execution_count": 5,
     "metadata": {},
     "output_type": "execute_result"
    }
   ],
   "source": [
    "couple_dimen"
   ]
  },
  {
   "cell_type": "code",
   "execution_count": 6,
   "id": "c4ab9342-e60b-44b3-bdb9-22c65ab1dee2",
   "metadata": {
    "jupyter": {
     "source_hidden": true
    },
    "tags": []
   },
   "outputs": [],
   "source": [
    "# loop each basis to fill in the diagonal elements for HA matrix \n",
    "\n",
    "for i in range(couple_dimen):\n",
    "    \n",
    "    state_array = np.array( couple_state_matrix[i] )\n",
    "    \n",
    "    # loop each element inside the array \n",
    "    normalization = len(state_array)\n",
    "    \n",
    "    # energy total for all the product states inside one basis\n",
    "    \n",
    "    e_tot = 0\n",
    "    for j in range(len(state_array)):\n",
    "        \n",
    "        state = D2B(state_array[j])\n",
    "        \n",
    "        # loop over N sites to change the state vector to either 1 or -1\n",
    "        \n",
    "        for k in range(N):\n",
    "            # 1 is spin down , 0 is spin up\n",
    "            if state[k] == 1:\n",
    "                state[k] = -1\n",
    "            else:\n",
    "                state[k] = 1\n",
    "\n",
    "        # now get the energy, loop all the sites and then pairs\n",
    "        \n",
    "        for m in range(N):\n",
    "            for q in range(N):\n",
    "                e_temp = J_matrix[m][q] * state[m] * state[q]\n",
    "                e_tot = e_tot + e_temp\n",
    "\n",
    "    HA_matrix[i][i] = e_tot/normalization"
   ]
  },
  {
   "cell_type": "code",
   "execution_count": 7,
   "id": "504fc82d-599c-452d-960b-540b4a1ef4c1",
   "metadata": {
    "jupyter": {
     "source_hidden": true
    },
    "tags": []
   },
   "outputs": [],
   "source": [
    "# generate vector form for each basis\n",
    "vector_form_basis_matrix = np.zeros((couple_dimen,Q))\n",
    "\n",
    "for i in range(couple_dimen):\n",
    "    \n",
    "    state_array = np.array( couple_state_matrix[i] )\n",
    "    normalization = np.sqrt(len(state_array))\n",
    "    \n",
    "    for j in state_array:\n",
    "        vector_form_basis_matrix[i][j] = 1\n",
    "        \n",
    "    # put back normalization factor\n",
    "    vector_form_basis_matrix[i] = vector_form_basis_matrix[i]/normalization\n",
    "    \n",
    "    "
   ]
  },
  {
   "cell_type": "code",
   "execution_count": 8,
   "id": "bb008183-6972-46e7-91fa-97cd7797b695",
   "metadata": {
    "jupyter": {
     "source_hidden": true
    },
    "tags": []
   },
   "outputs": [],
   "source": [
    "# loop each basis to fill in HB matrix \n",
    "\n",
    "for i in range(couple_dimen):\n",
    "\n",
    "    state_array = np.array( couple_state_matrix[i] )\n",
    "\n",
    "    # this is the actual normalization unlike before since it will couple to some other states\n",
    "    # so it can not be like just the square like we did before\n",
    "    normalization = np.sqrt(len(state_array))\n",
    "\n",
    "    # loop each product state to generate N other states, i.e. generaete the state after operator acting on it\n",
    "    result_num_list = []\n",
    "    result_num_list = np.array(result_num_list,dtype=int)\n",
    "    for k in range(len(state_array)):\n",
    "        \n",
    "        spin = D2B(state_array[k])\n",
    "\n",
    "        # start fliping the spins\n",
    "        for j in range(N):\n",
    "            if spin[j] == 1:\n",
    "                # if it's spin down, raise to spin up\n",
    "                spin[j] = 0\n",
    "                new_num = B2D(spin)\n",
    "                result_num_list = np.append(result_num_list,new_num)\n",
    "                # change it back for next operation\n",
    "                spin[j] = 1\n",
    "            else:\n",
    "                # if it's spin down, raise to spin up\n",
    "                spin[j] = 1\n",
    "                new_num = B2D(spin)\n",
    "                result_num_list = np.append(result_num_list,new_num)\n",
    "                # change it back for next operation\n",
    "                spin[j] = 0\n",
    "        \n",
    "     \n",
    "    # generate the vector form for the state after operrator acting on it\n",
    "    \n",
    "    vector_final_state = np.zeros(Q)\n",
    "    \n",
    "    for j in result_num_list:\n",
    "        vector_final_state[j] = vector_final_state[j] +1\n",
    "        \n",
    "    # put back normalization factor \n",
    "    vector_final_state = vector_final_state/normalization\n",
    "    \n",
    "    # calculate dot product to put into inside the matrix\n",
    "    for j in range(couple_dimen):\n",
    "        \n",
    "        dot_product = np.dot(vector_final_state,vector_form_basis_matrix[j])\n",
    "        HB_matrix[i][j] = dot_product"
   ]
  },
  {
   "cell_type": "code",
   "execution_count": 9,
   "id": "4a5a615f-4bba-4115-adac-33388d311370",
   "metadata": {
    "tags": []
   },
   "outputs": [],
   "source": [
    "# get true ground state \n",
    "B = 0.1   # !!! NEED TO BE CHANGED\n",
    "w, v = LA.eigh(HA_matrix + B* HB_matrix)\n",
    "inx = np.argsort(w)\n",
    "true_gs_vec = v[:, inx[0]]\n",
    "true_gs_energy =w[0]\n",
    "E_max =w[-1]"
   ]
  },
  {
   "cell_type": "code",
   "execution_count": 10,
   "id": "24d64853-9986-4270-a169-d1a78e62115d",
   "metadata": {},
   "outputs": [
    {
     "data": {
      "text/plain": [
       "-5.110650491789136"
      ]
     },
     "execution_count": 10,
     "metadata": {},
     "output_type": "execute_result"
    }
   ],
   "source": [
    "true_gs_energy"
   ]
  },
  {
   "cell_type": "code",
   "execution_count": 11,
   "id": "ecacef1f-cf97-46d1-a321-bc30a7c23c16",
   "metadata": {
    "tags": []
   },
   "outputs": [],
   "source": [
    "# get  ground state with numerically infinite large B field\n",
    "w, v = LA.eigh(HB_matrix)\n",
    "inx = np.argsort(w)\n",
    "temp_vec = v[:, inx[0]] # the index here could be zero or one, depending on the parity\n",
    "# but if the wrong index will always give roughly zero fidelity "
   ]
  },
  {
   "cell_type": "code",
   "execution_count": 12,
   "id": "e0a9cbca-d47e-4c50-b045-dfc00747188b",
   "metadata": {
    "tags": []
   },
   "outputs": [
    {
     "name": "stdout",
     "output_type": "stream",
     "text": [
      "0.016242148889510737\n"
     ]
    }
   ],
   "source": [
    "# get fidelity for t= 0s\n",
    "fidelity_t_0 = pow(np.dot(true_gs_vec,temp_vec),2) # all real so no need to cc\n",
    "print(fidelity_t_0)"
   ]
  },
  {
   "cell_type": "code",
   "execution_count": 13,
   "id": "eb90d1d0-5dbd-4c5e-8390-053ee462dba7",
   "metadata": {
    "tags": []
   },
   "outputs": [],
   "source": [
    "def get_energy(H_matrix,state):\n",
    "    \n",
    "    a = np.dot(H_matrix,state)\n",
    "    energy = np.dot(np.conjugate(state),a).real\n",
    "    \n",
    "    return energy"
   ]
  },
  {
   "cell_type": "code",
   "execution_count": 14,
   "id": "49b16761-4ce8-43fd-86fa-d0562db65d95",
   "metadata": {
    "tags": []
   },
   "outputs": [],
   "source": [
    "def get_fidelity(gs,state):\n",
    "\n",
    "    dp = np.dot(gs,state) # dp is dot product\n",
    "    #print(dp)\n",
    "    dp_cc = np.conjugate(dp)     # the complex conjucate of the dot product \n",
    "    return (dp*dp_cc).real"
   ]
  },
  {
   "cell_type": "code",
   "execution_count": 15,
   "id": "49911cb8-8e6e-40ad-981a-71c779529a46",
   "metadata": {
    "tags": []
   },
   "outputs": [],
   "source": [
    "target_H = np.copy(HA_matrix + B* HB_matrix)"
   ]
  },
  {
   "cell_type": "code",
   "execution_count": 16,
   "id": "b2e74f53-96c8-4dff-b0a3-47725ac22589",
   "metadata": {},
   "outputs": [],
   "source": [
    "def lambda_evolve(x):\n",
    "    # global fidelity\n",
    "    # final_fidelity_list =[]\n",
    "    # final_fidelity_list.append(fidelity_t_0)\n",
    "    # product state\n",
    "    p = temp_vec  # p stands for product\n",
    "     # loop each time step\n",
    "    for i in range(number_of_layers):\n",
    "        H_matrix = HA_matrix + x[i+number_of_layers]*HB_matrix\n",
    "        exp_imgH_matrix = expm( -1*1j*x[i]*H_matrix )\n",
    "        new_p = np.dot(exp_imgH_matrix,p)\n",
    "        # update state\n",
    "        p = new_p\n",
    "        \n",
    "    # get fidelity \n",
    "    # fidelity = get_fidelity(true_gs_vec,p)\n",
    "    #print('fidelity is ',fidelity)\n",
    "    # get energy\n",
    "    energy = get_energy(target_H,p)\n",
    "    #return -1*fidelity\n",
    "    return energy"
   ]
  },
  {
   "cell_type": "code",
   "execution_count": 17,
   "id": "a7a25342-615f-4333-91c6-c8b791db1879",
   "metadata": {},
   "outputs": [],
   "source": [
    "def lambda_evolve_fidelity(x):\n",
    "    p = temp_vec  # p stands for product\n",
    "     # loop each time step\n",
    "    for i in range(number_of_layers):\n",
    "        H_matrix = HA_matrix + x[i+number_of_layers]*HB_matrix\n",
    "        exp_imgH_matrix = expm( -1*1j*x[i]*H_matrix )\n",
    "        new_p = np.dot(exp_imgH_matrix,p)\n",
    "        # update state\n",
    "        p = new_p\n",
    "        \n",
    "    # get fidelity \n",
    "    fidelity = get_fidelity(true_gs_vec,p)\n",
    "    return fidelity"
   ]
  },
  {
   "cell_type": "code",
   "execution_count": 18,
   "id": "d2c21f01-226b-4fbc-9966-9a62b391aa1c",
   "metadata": {},
   "outputs": [],
   "source": [
    "def extract_selected_results_from_file(filename):\n",
    "    results = {\n",
    "        \"nit\": [],\n",
    "        \"nfev\": [],\n",
    "        \"fidelity\": [],\n",
    "        \"message\": [],\n",
    "        \"success\": []\n",
    "    }\n",
    "\n",
    "    with open(filename, 'r') as f:\n",
    "        for line in f:\n",
    "            if line.startswith(\"message:\"):\n",
    "                results[\"message\"].append(line.split(\"message: \")[1].strip())\n",
    "            elif line.startswith(\"success:\"):\n",
    "                results[\"success\"].append(line.split(\"success: \")[1].strip() == \"True\")\n",
    "\n",
    "            for key in results.keys():\n",
    "                if key in [\"nit\", \"nfev\", \"fidelity\"]:\n",
    "                    if line.startswith(f\"{key}:\"):\n",
    "                        value = line.split(f\"{key}: \")[1].strip()\n",
    "                        if key == \"nit\" or key == \"nfev\":\n",
    "                            value = int(value)\n",
    "                        elif key == \"fidelity\":\n",
    "                            value = float(value)\n",
    "                        results[key].append(value)\n",
    "\n",
    "    # Filter results for successful runs\n",
    "    success_indices = [i for i, s in enumerate(results[\"success\"]) if s]\n",
    "    success_results = {\n",
    "        \"nit\": [results[\"nit\"][i] for i in success_indices],\n",
    "        \"nfev\": [results[\"nfev\"][i] for i in success_indices],\n",
    "        \"fidelity\": [results[\"fidelity\"][i] for i in success_indices],\n",
    "        \"message\": [results[\"message\"][i] for i in success_indices]\n",
    "    }\n",
    "\n",
    "    # Count the number of successful runs\n",
    "    num_success = sum(results[\"success\"])\n",
    "\n",
    "    # Count the total number of optimization reports\n",
    "    total_reports = len(results[\"success\"])\n",
    "\n",
    "    return success_results, num_success, total_reports\n",
    "\n",
    "# Example usage\n",
    "# success_results, num_success, total_reports = extract_selected_results_from_file(f'scipy_lambda_B_convergence_result_N={N}_B={B}_layers_{10}.txt')\n",
    "# print(f\"Number of successful runs: {num_success}\")\n",
    "# print(f\"Total number of optimization reports: {total_reports}\")\n",
    "# print('success rate',num_success/total_reports)"
   ]
  },
  {
   "cell_type": "code",
   "execution_count": 19,
   "id": "b7aee889-8605-4bda-9418-d83b18840fd4",
   "metadata": {},
   "outputs": [],
   "source": [
    "# # Define the layers you want to iterate over\n",
    "# layers_list = [10, 20, 50, 80]\n",
    "\n",
    "# # Initialize lists to store results\n",
    "# fidelity_lists = []\n",
    "# nit_lists = []\n",
    "# nfev_lists = []\n",
    "\n",
    "# for layers in layers_list:\n",
    "#     # Generate file name based on current layers value, that is the the original file but too large to fit into the data repository\n",
    "#     filename = f'scipy_lambda_B_convergence_result_N={N}_B={B}_layers_{layers}.txt'\n",
    "    \n",
    "#     # Extract results for current layers value\n",
    "#     success_results, num_success, total_reports = extract_selected_results_from_file(filename)\n",
    "    \n",
    "#     # Append lists for current layers value\n",
    "#     fidelity_lists.append(success_results[\"fidelity\"])\n",
    "#     nit_lists.append(success_results[\"nit\"])\n",
    "#     nfev_lists.append(success_results[\"nfev\"])\n",
    "\n",
    "# import csv\n",
    "\n",
    "# # File name to save the data\n",
    "# output_filename = 'convergence_results_output.csv'\n",
    "\n",
    "# # Combine the lists into rows\n",
    "# data = list(zip(layers_list, fidelity_lists, nit_lists, nfev_lists))\n",
    "\n",
    "# # Write data to a CSV file\n",
    "# with open(output_filename, mode='w', newline='') as file:\n",
    "#     writer = csv.writer(file)\n",
    "    \n",
    "#     # Write header\n",
    "#     writer.writerow(['Layers', 'Fidelity', 'Nit', 'Nfev'])\n",
    "    \n",
    "#     # Write the rows\n",
    "#     for row in data:\n",
    "#         writer.writerow(row)\n",
    "\n",
    "# print(f\"Data saved to {output_filename}\")\n",
    "\n"
   ]
  },
  {
   "cell_type": "code",
   "execution_count": 20,
   "id": "11eba648-f800-43e4-aa8f-c477dcf021b0",
   "metadata": {},
   "outputs": [
    {
     "name": "stdout",
     "output_type": "stream",
     "text": [
      "Data successfully read and stored in original variables.\n"
     ]
    }
   ],
   "source": [
    "import csv\n",
    "\n",
    "# File name to read the data from\n",
    "input_filename = 'convergence_results_output.csv'\n",
    "\n",
    "# Initialize lists to store the read data\n",
    "layers_list = []\n",
    "fidelity_lists = []\n",
    "nit_lists = []\n",
    "nfev_lists = []\n",
    "\n",
    "# Read data from the CSV file\n",
    "with open(input_filename, mode='r') as file:\n",
    "    reader = csv.reader(file)\n",
    "    \n",
    "    # Skip the header\n",
    "    next(reader)\n",
    "    \n",
    "    # Read the rows\n",
    "    for row in reader:\n",
    "        layers_list.append(int(row[0]))       # Convert layers to integer\n",
    "        fidelity_lists.append(eval(row[1]))   # Convert back to appropriate type\n",
    "        nit_lists.append(eval(row[2]))        # Convert back to appropriate type\n",
    "        nfev_lists.append(eval(row[3]))       # Convert back to appropriate type\n",
    "\n",
    "print(\"Data successfully read and stored in original variables.\")\n"
   ]
  },
  {
   "cell_type": "code",
   "execution_count": null,
   "id": "cbad268f-1915-4f7e-b1ad-b582b0f58284",
   "metadata": {},
   "outputs": [],
   "source": []
  },
  {
   "cell_type": "code",
   "execution_count": 21,
   "id": "7a3bf2cf-f4d6-4c89-8feb-c79373a45ca8",
   "metadata": {},
   "outputs": [
    {
     "data": {
      "image/png": "[encoded data removed]",
      "text/plain": [
       "<Figure size 700x400 with 1 Axes>"
      ]
     },
     "metadata": {},
     "output_type": "display_data"
    }
   ],
   "source": [
    "import matplotlib.pyplot as plt\n",
    "import seaborn as sns\n",
    "import numpy as np\n",
    "\n",
    "# Calculate infidelity from fidelity_lists\n",
    "infidelity_flat = [1 - item for sublist in fidelity_lists for item in sublist]\n",
    "\n",
    "# Create a list to repeat layers for corresponding infidelity values\n",
    "layers_flat = []\n",
    "for i, sublist in enumerate(fidelity_lists):\n",
    "    layers_flat.extend([layers_list[i]] * len(sublist))\n",
    "\n",
    "# Create a figure and axis\n",
    "plt.figure(figsize=(7, 4))  # Adjust size as needed\n",
    "ax = sns.boxplot(x=layers_flat, y=infidelity_flat, hue=layers_flat, palette=\"Set3\", dodge=False,log_scale=True)\n",
    "\n",
    "# Set labels and title\n",
    "ax.set_xlabel('number of steps', fontsize=20)\n",
    "ax.set_ylabel('Infidelity', fontsize=20)\n",
    "# ax.set_title('Infidelity Boxplot for Different Layers', fontsize=20)\n",
    "\n",
    "\n",
    "# Set y-axis to semilog scale\n",
    "ax.set_yscale('log')\n",
    "\n",
    "# Set tick parameters\n",
    "ax.tick_params(axis='both', which='major', labelsize=20)\n",
    "\n",
    "# Remove legend since hue is not needed here\n",
    "ax.legend_.remove()\n",
    "plt.tight_layout()\n",
    "plt.savefig('fidelity_boxplot')\n",
    "# Show plot\n",
    "plt.show()"
   ]
  },
  {
   "cell_type": "code",
   "execution_count": 22,
   "id": "b82e3460-f088-4566-ba02-fa27582887a3",
   "metadata": {},
   "outputs": [
    {
     "data": {
      "image/png": "[encoded data removed]",
      "text/plain": [
       "<Figure size 1000x600 with 1 Axes>"
      ]
     },
     "metadata": {},
     "output_type": "display_data"
    }
   ],
   "source": [
    "which_layer =1\n",
    "nfev_list = nit_lists[which_layer] \n",
    "fidelity_list = fidelity_lists[which_layer]\n",
    "import numpy as np\n",
    "import seaborn as sns\n",
    "import pandas as pd\n",
    "import matplotlib.pyplot as plt\n",
    "\n",
    "# Assuming nfev_list and fidelity_list are already defined\n",
    "# Binning the data\n",
    "font_size = 25\n",
    "bins = np.linspace(np.min(nfev_list), np.max(nfev_list), 10)\n",
    "bin_labels = np.digitize(nfev_list, bins)\n",
    "\n",
    "# Creating a DataFrame for easier plotting with Seaborn\n",
    "data = pd.DataFrame({'nfev': nfev_list, 'fidelity': fidelity_list, 'bin': bin_labels})\n",
    "\n",
    "# Filter out any bins with no data\n",
    "data = data.groupby('bin').filter(lambda x: len(x) > 0)\n",
    "\n",
    "# Calculate the mean of nfev for each bin\n",
    "bin_means = data.groupby('bin')['nfev'].mean().values\n",
    "\n",
    "# Determine the common exponent\n",
    "common_exponent = int(np.floor(np.log10(np.mean(bin_means))))\n",
    "bin_means /= 10 ** common_exponent\n",
    "\n",
    "# Custom function to format labels without the exponent\n",
    "def format_coefficient(value):\n",
    "    return f'{value:.1f}'\n",
    "\n",
    "# Apply the custom function to all bin means\n",
    "bin_means_labels = [format_coefficient(mean) for mean in bin_means]\n",
    "\n",
    "plt.figure(figsize=(10, 6))\n",
    "sns.boxplot(x='bin', y='fidelity', data=data, showfliers=True)\n",
    "\n",
    "plt.xticks(ticks=np.arange(len(bin_means_labels)), labels=bin_means_labels, rotation=0, fontsize=25)\n",
    "\n",
    "plt.xlabel(f'number of iterations ($\\\\times 10^{{{common_exponent}}}$)', fontsize=font_size)\n",
    "plt.ylabel('fidelity', fontsize=font_size)\n",
    "plt.yticks([0.98, 0.99, 0.997, 1], fontsize=font_size)\n",
    "\n",
    "plt.tight_layout()\n",
    "plt.savefig('Iteration_vs_fidelity_20_layers_boxplot.png')\n",
    "plt.show()\n"
   ]
  },
  {
   "cell_type": "code",
   "execution_count": 23,
   "id": "ca0310d8-4f2e-4044-8443-4ecb3bbc7ddd",
   "metadata": {},
   "outputs": [
    {
     "data": {
      "image/png": "[encoded data removed]",
      "text/plain": [
       "<Figure size 1000x600 with 1 Axes>"
      ]
     },
     "metadata": {},
     "output_type": "display_data"
    }
   ],
   "source": [
    "which_layer =1\n",
    "nfev_list = nfev_lists[which_layer] \n",
    "fidelity_list = fidelity_lists[which_layer]\n",
    "import numpy as np\n",
    "import seaborn as sns\n",
    "import pandas as pd\n",
    "import matplotlib.pyplot as plt\n",
    "\n",
    "# Assuming nfev_list and fidelity_list are already defined\n",
    "# Binning the data\n",
    "font_size = 25\n",
    "bins = np.linspace(np.min(nfev_list), np.max(nfev_list) + 100, 10)\n",
    "bin_labels = np.digitize(nfev_list, bins)\n",
    "\n",
    "# Creating a DataFrame for easier plotting with Seaborn\n",
    "data = pd.DataFrame({'nfev': nfev_list, 'fidelity': fidelity_list, 'bin': bin_labels})\n",
    "\n",
    "# Filter out any bins with no data\n",
    "data = data.groupby('bin').filter(lambda x: len(x) > 0)\n",
    "\n",
    "# Calculate the mean of nfev for each bin\n",
    "bin_means = data.groupby('bin')['nfev'].mean().values\n",
    "\n",
    "# Determine the common exponent\n",
    "common_exponent = int(np.floor(np.log10(np.mean(bin_means))))\n",
    "bin_means /= 10 ** common_exponent\n",
    "\n",
    "# Custom function to format labels without the exponent\n",
    "def format_coefficient(value):\n",
    "    return f'{value:.1f}'\n",
    "\n",
    "# Apply the custom function to all bin means\n",
    "bin_means_labels = [format_coefficient(mean) for mean in bin_means]\n",
    "\n",
    "plt.figure(figsize=(10, 6))\n",
    "sns.boxplot(x='bin', y='fidelity', data=data, showfliers=True)\n",
    "\n",
    "plt.xticks(ticks=np.arange(len(bin_means_labels)), labels=bin_means_labels, rotation=0, fontsize=25)\n",
    "\n",
    "plt.xlabel(f'number of energy measurements ($\\\\times 10^{{{common_exponent}}}$)', fontsize=font_size)\n",
    "plt.ylabel('fidelity', fontsize=font_size)\n",
    "plt.yticks([0.98, 0.99, 0.997, 1], fontsize=font_size)\n",
    "\n",
    "plt.tight_layout()\n",
    "plt.savefig('measurement_vs_fidelity_20_layers_boxplot.png')\n",
    "plt.show()\n"
   ]
  },
  {
   "cell_type": "code",
   "execution_count": null,
   "id": "8c9ab915-8dca-46fe-835e-07fb90fc36d3",
   "metadata": {},
   "outputs": [],
   "source": []
  },
  {
   "cell_type": "code",
   "execution_count": null,
   "id": "45749a5c-825a-4570-8a52-5cef5fa4d72a",
   "metadata": {},
   "outputs": [],
   "source": []
  }
 ],
 "metadata": {
  "kernelspec": {
   "display_name": "Python 3 (ipykernel)",
   "language": "python",
   "name": "python3"
  },
  "language_info": {
   "codemirror_mode": {
    "name": "ipython",
    "version": 3
   },
   "file_extension": ".py",
   "mimetype": "text/x-python",
   "name": "python",
   "nbconvert_exporter": "python",
   "pygments_lexer": "ipython3",
   "version": "3.11.5"
  }
 },
 "nbformat": 4,
 "nbformat_minor": 5
}
