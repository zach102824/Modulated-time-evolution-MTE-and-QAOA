{
  "cells": [
    {
      "cell_type": "code",
      "execution_count": 1,
      "id": "5046e305-ffe2-4146-a294-8d44c61690cc",
      "metadata": {
        "id": "5046e305-ffe2-4146-a294-8d44c61690cc"
      },
      "outputs": [],
      "source": [
        "N = 8\n",
        "J_value = 1\n",
        "J_matrix_alpha = 1"
      ]
    },
    {
      "cell_type": "code",
      "execution_count": 2,
      "id": "07cb000c-4018-47fb-9edd-9560d594fa91",
      "metadata": {
        "tags": [],
        "id": "07cb000c-4018-47fb-9edd-9560d594fa91"
      },
      "outputs": [],
      "source": [
        "import os\n",
        "import numpy as np\n",
        "from scipy.sparse.linalg import eigs\n",
        "from scipy.sparse.linalg import eigsh\n",
        "from scipy.interpolate import Akima1DInterpolator\n",
        "from scipy.linalg import expm\n",
        "import time\n",
        "from scipy import sparse\n",
        "import matplotlib.pyplot as plt\n",
        "import pandas\n",
        "import scipy\n",
        "import torch\n",
        "import torch.optim as optim\n",
        "device = torch.device(\"cuda\" if torch.cuda.is_available() else \"cpu\")\n",
        "# device = torch.device( \"cpu\")\n",
        "np.set_printoptions(precision=6)\n",
        "# initialize variables\n",
        "# Q is the dimension\n",
        "Q = pow(2, N)\n",
        "\n",
        "# decimal number to binary array function\n",
        "def D2B(num):\n",
        "    string = f'{num:1b}'\n",
        "    result = np.zeros(N - len(string), int)\n",
        "\n",
        "    for ele in string:\n",
        "        result = np.append(result, int(ele))\n",
        "\n",
        "    return result\n",
        "\n",
        "# decimal number to binary array function\n",
        "def D2B_with_digit(num,digit):\n",
        "    string = f'{num:1b}'\n",
        "    result = np.zeros(digit - len(string), int)\n",
        "\n",
        "    for ele in string:\n",
        "        result = np.append(result, int(ele))\n",
        "\n",
        "    return result\n",
        "\n",
        "# binary array to decimal function\n",
        "def B2D(array):\n",
        "    res = 0\n",
        "    for ele in array:\n",
        "        res = (res << 1) | ele\n",
        "    return res\n",
        "\n",
        "def spin_reflection(array):\n",
        "    new_array = np.zeros(len(array),dtype=int)\n",
        "    for i in range(len(array)):\n",
        "        if array[i] == 1:\n",
        "            new_array[i] = 0\n",
        "        else:\n",
        "            new_array[i] = 1\n",
        "    return new_array\n",
        "\n",
        "def spatial_reflection(array):\n",
        "    new_array = array[::-1]\n",
        "    return new_array\n",
        "\n",
        "# start my main function\n",
        "\n",
        "# initialize J matrix\n",
        "J_matrix = np.zeros((N, N), dtype='float64')\n",
        "\n",
        "for i in range(N):\n",
        "    for j in range(N):\n",
        "        if j >= (i + 1):\n",
        "            J_matrix[i][j] = J_value/pow(abs(i-j),J_matrix_alpha)"
      ]
    },
    {
      "cell_type": "code",
      "execution_count": 3,
      "id": "61ae75dd-85e1-4314-859b-66f70713a85b",
      "metadata": {
        "jupyter": {
          "source_hidden": true
        },
        "id": "61ae75dd-85e1-4314-859b-66f70713a85b"
      },
      "outputs": [],
      "source": [
        "# start to get what product states are having the same symmtries\n",
        "loop_state_list = np.linspace(0,Q-1,num=Q,dtype=int)\n",
        "\n",
        "couple_state_matrix = []\n",
        "sign_matrix = []\n",
        "# this is the final result for the states to consctruct basis\n",
        "\n",
        "for n in range(Q):  # n is an unused index\n",
        "\n",
        "    # couple_num_list would be my result for each state we loop\n",
        "\n",
        "    if len(loop_state_list)!=0: # loop for couple number for one state\n",
        "\n",
        "        couple_num_list = [] # this is the list to store all the number that couple to the number we are looping\n",
        "        couple_num_list = np.array(couple_num_list, dtype=int)\n",
        "        state_num = loop_state_list[0]\n",
        "        couple_num_list = np.append(couple_num_list,state_num)\n",
        "\n",
        "        for m in range(Q): # loop for spin and spatial for all states inside the couple number list\n",
        "\n",
        "            if m==0:\n",
        "\n",
        "                couple_num_list_old =couple_num_list\n",
        "\n",
        "                for i in range(len(couple_num_list)):\n",
        "                    number = couple_num_list[i]\n",
        "                    array = D2B(number)\n",
        "\n",
        "                    # spin reflection\n",
        "                    spin_relfection_array = spin_reflection(array)\n",
        "                    spin_number = B2D(spin_relfection_array)\n",
        "                    couple_num_list =np.append(couple_num_list,spin_number)\n",
        "\n",
        "\n",
        "\n",
        "                    # # spatial reflection\n",
        "                    spatial_relfection_array = spatial_reflection(array)\n",
        "                    spatial_number = B2D(spatial_relfection_array)\n",
        "                    couple_num_list =np.append(couple_num_list,spatial_number)\n",
        "\n",
        "                    # remove the repeated element\n",
        "                    couple_num_list = np.unique(couple_num_list)\n",
        "            else:\n",
        "\n",
        "                if len(couple_num_list_old) != len(couple_num_list):\n",
        "                    # update couple_num_list_old first\n",
        "                    couple_num_list_old =couple_num_list\n",
        "\n",
        "                    for i in range(len(couple_num_list)):\n",
        "                        number = couple_num_list[i]\n",
        "                        array = D2B(number)\n",
        "\n",
        "                        # spin reflection\n",
        "                        spin_relfection_array = spin_reflection(array)\n",
        "                        spin_number = B2D(spin_relfection_array)\n",
        "                        couple_num_list =np.append(couple_num_list,spin_number)\n",
        "\n",
        "\n",
        "                        # # spatial reflection\n",
        "                        spatial_relfection_array = spatial_reflection(array)\n",
        "                        spatial_number = B2D(spatial_relfection_array)\n",
        "                        couple_num_list = np.append(couple_num_list,spatial_number)\n",
        "\n",
        "                        # remove the repeated element\n",
        "                        couple_num_list = np.unique(couple_num_list)\n",
        "\n",
        "        # now we have final couple_num_list\n",
        "        couple_state_matrix.append(couple_num_list.tolist())\n",
        "\n",
        "        # remove the ones already found\n",
        "        for j in range(len(couple_num_list)):\n",
        "            loop_state_list = np.delete(loop_state_list, np.where(loop_state_list ==couple_num_list[j] ))"
      ]
    },
    {
      "cell_type": "code",
      "execution_count": 4,
      "id": "a4728649-d38d-4f07-acd6-16fea739f532",
      "metadata": {
        "jupyter": {
          "source_hidden": true
        },
        "id": "a4728649-d38d-4f07-acd6-16fea739f532"
      },
      "outputs": [],
      "source": [
        "# initialize H matrix\n",
        "couple_dimen = len(couple_state_matrix)\n",
        "\n",
        "HA_matrix = np.zeros((couple_dimen, couple_dimen), dtype='float64')\n",
        "HB_matrix = np.zeros((couple_dimen, couple_dimen), dtype='float64')\n",
        "\n",
        "# loop each basis to fill in the diagonal elements for HA matrix\n",
        "\n",
        "for i in range(couple_dimen):\n",
        "\n",
        "    state_array = np.array( couple_state_matrix[i] )\n",
        "\n",
        "    # loop each element inside the array\n",
        "    normalization = len(state_array)\n",
        "\n",
        "    # energy total for all the product states inside one basis\n",
        "\n",
        "    e_tot = 0\n",
        "    for j in range(len(state_array)):\n",
        "\n",
        "        state = D2B(state_array[j])\n",
        "\n",
        "        # loop over N sites to change the state vector to either 1 or -1\n",
        "\n",
        "        for k in range(N):\n",
        "            # 1 is spin down , 0 is spin up\n",
        "            if state[k] == 1:\n",
        "                state[k] = -1\n",
        "            else:\n",
        "                state[k] = 1\n",
        "\n",
        "        # now get the energy, loop all the sites and then pairs\n",
        "\n",
        "        for m in range(N):\n",
        "            for q in range(N):\n",
        "                e_temp = J_matrix[m][q] * state[m] * state[q]\n",
        "                e_tot = e_tot + e_temp\n",
        "\n",
        "    HA_matrix[i][i] = e_tot/normalization\n",
        "\n",
        "# generate vector form for each basis\n",
        "vector_form_basis_matrix = np.zeros((couple_dimen,Q))\n",
        "\n",
        "for i in range(couple_dimen):\n",
        "\n",
        "    state_array = np.array( couple_state_matrix[i] )\n",
        "    normalization = np.sqrt(len(state_array))\n",
        "\n",
        "    for j in state_array:\n",
        "        vector_form_basis_matrix[i][j] = 1\n",
        "\n",
        "    # put back normalization factor\n",
        "    vector_form_basis_matrix[i] = vector_form_basis_matrix[i]/normalization\n",
        "\n",
        "# loop each basis to fill in HB matrix\n",
        "\n",
        "for i in range(couple_dimen):\n",
        "\n",
        "    state_array = np.array( couple_state_matrix[i] )\n",
        "\n",
        "    # this is the actual normalization unlike before since it will couple to some other states\n",
        "    # so it can not be like just the square like we did before\n",
        "    normalization = np.sqrt(len(state_array))\n",
        "\n",
        "    # loop each product state to generate N other states, i.e. generaete the state after operator acting on it\n",
        "    result_num_list = []\n",
        "    result_num_list = np.array(result_num_list,dtype=int)\n",
        "    for k in range(len(state_array)):\n",
        "\n",
        "        spin = D2B(state_array[k])\n",
        "\n",
        "        # start fliping the spins\n",
        "        for j in range(N):\n",
        "            if spin[j] == 1:\n",
        "                # if it's spin down, raise to spin up\n",
        "                spin[j] = 0\n",
        "                new_num = B2D(spin)\n",
        "                result_num_list = np.append(result_num_list,new_num)\n",
        "                # change it back for next operation\n",
        "                spin[j] = 1\n",
        "            else:\n",
        "                # if it's spin down, raise to spin up\n",
        "                spin[j] = 1\n",
        "                new_num = B2D(spin)\n",
        "                result_num_list = np.append(result_num_list,new_num)\n",
        "                # change it back for next operation\n",
        "                spin[j] = 0\n",
        "\n",
        "\n",
        "    # generate the vector form for the state after operrator acting on it\n",
        "\n",
        "    vector_final_state = np.zeros(Q)\n",
        "\n",
        "    for j in result_num_list:\n",
        "        vector_final_state[j] = vector_final_state[j] +1\n",
        "\n",
        "    # put back normalization factor\n",
        "    vector_final_state = vector_final_state/normalization\n",
        "\n",
        "    # calculate dot product to put into inside the matrix\n",
        "    for j in range(couple_dimen):\n",
        "\n",
        "        dot_product = np.dot(vector_final_state,vector_form_basis_matrix[j])\n",
        "        HB_matrix[i][j] = dot_product"
      ]
    },
    {
      "cell_type": "code",
      "execution_count": 5,
      "id": "4a5a615f-4bba-4115-adac-33388d311370",
      "metadata": {
        "jupyter": {
          "source_hidden": true
        },
        "tags": [],
        "id": "4a5a615f-4bba-4115-adac-33388d311370"
      },
      "outputs": [],
      "source": [
        "# # get true ground state\n",
        "# B = 0.1   # !!! NEED TO BE CHANGED\n",
        "# w, v = LA.eigh(HA_matrix + B* HB_matrix)\n",
        "# inx = np.argsort(w)\n",
        "# true_gs_vec = v[:, inx[0]]\n",
        "# true_gs_energy =w[0]\n",
        "# E_max =w[-1]"
      ]
    },
    {
      "cell_type": "code",
      "execution_count": 6,
      "id": "2762dd9a-78c2-4e60-a2fb-8a66a13740ef",
      "metadata": {
        "id": "2762dd9a-78c2-4e60-a2fb-8a66a13740ef"
      },
      "outputs": [],
      "source": [
        "B = 0.1\n",
        "# Compute the smallest eigenvalue and eigenvector\n",
        "smallest_eigenvalue, smallest_eigenvector = eigsh(HA_matrix + B * HB_matrix, k=1, which='SA')\n",
        "\n",
        "true_gs_energy = smallest_eigenvalue[0]\n",
        "true_gs_vec = smallest_eigenvector[:, 0]\n",
        "\n",
        "# Compute the largest eigenvalue\n",
        "largest_eigenvalue = eigs(HA_matrix + B * HB_matrix, k=1, which='LR', return_eigenvectors=False)\n",
        "\n",
        "E_max = largest_eigenvalue[0].real"
      ]
    },
    {
      "cell_type": "code",
      "execution_count": 6,
      "id": "980619e8-6c23-448e-bc3c-b5b0e0028fdd",
      "metadata": {
        "id": "980619e8-6c23-448e-bc3c-b5b0e0028fdd"
      },
      "outputs": [],
      "source": []
    },
    {
      "cell_type": "code",
      "execution_count": 7,
      "id": "4315903f-1a36-4be0-84c9-4c8ff942a187",
      "metadata": {
        "colab": {
          "base_uri": "https://localhost:8080/"
        },
        "id": "4315903f-1a36-4be0-84c9-4c8ff942a187",
        "outputId": "bfcdd8f3-7afe-40e7-d9c9-423234add5a4"
      },
      "outputs": [
        {
          "output_type": "execute_result",
          "data": {
            "text/plain": [
              "-5.110650491789151"
            ]
          },
          "metadata": {},
          "execution_count": 7
        }
      ],
      "source": [
        "true_gs_energy"
      ]
    },
    {
      "cell_type": "code",
      "execution_count": 8,
      "id": "ecacef1f-cf97-46d1-a321-bc30a7c23c16",
      "metadata": {
        "tags": [],
        "id": "ecacef1f-cf97-46d1-a321-bc30a7c23c16"
      },
      "outputs": [],
      "source": [
        "# get  ground state with numerically infinite large B field\n",
        "# Compute the smallest eigenvalue and eigenvector\n",
        "smallest_eigenvalue, smallest_eigenvector = eigsh( HB_matrix, k=1, which='SA')\n",
        "temp_vec = smallest_eigenvector[:, 0]"
      ]
    },
    {
      "cell_type": "code",
      "execution_count": 9,
      "id": "02aa00b3-7f1c-43bb-ba7a-7c13fd70d685",
      "metadata": {
        "id": "02aa00b3-7f1c-43bb-ba7a-7c13fd70d685"
      },
      "outputs": [],
      "source": [
        "# move to gpu\n",
        "true_gs_vec = torch.tensor(true_gs_vec.astype(np.complex128)).to(device=device)\n",
        "temp_vec = torch.tensor(temp_vec.astype(np.complex128)).to(device=device)\n",
        "\n",
        "HA_matrix = torch.tensor(HA_matrix, dtype=torch.complex128).to(device=device)\n",
        "HB_matrix = torch.tensor(HB_matrix, dtype=torch.complex128).to(device=device)\n",
        "target_H = HA_matrix + B * HB_matrix"
      ]
    },
    {
      "cell_type": "code",
      "execution_count": 10,
      "id": "31ab03f9-b142-4e60-87e5-51a708792a52",
      "metadata": {
        "tags": [],
        "id": "31ab03f9-b142-4e60-87e5-51a708792a52"
      },
      "outputs": [],
      "source": [
        "def get_fidelity_torch(vector1, vector2):\n",
        "    overlap = torch.tensordot(vector1, vector2, dims=1)\n",
        "    overlap_conj = torch.conj(overlap)\n",
        "    fidelity = torch.real(overlap * overlap_conj)\n",
        "    return fidelity\n",
        "\n",
        "def get_energy_torch(matrix, vector):\n",
        "    conj_vector = torch.conj(vector)\n",
        "    energy = torch.real(torch.tensordot(conj_vector, torch.tensordot(matrix, vector, dims=1), dims=1))\n",
        "\n",
        "    return energy"
      ]
    },
    {
      "cell_type": "code",
      "execution_count": 11,
      "id": "edfc49a8-99b4-4f0b-8af3-76cb1635246b",
      "metadata": {
        "colab": {
          "base_uri": "https://localhost:8080/"
        },
        "id": "edfc49a8-99b4-4f0b-8af3-76cb1635246b",
        "outputId": "2740abfd-ef8b-4334-80ae-9292556b3721"
      },
      "outputs": [
        {
          "output_type": "execute_result",
          "data": {
            "text/plain": [
              "-5.110650491789141"
            ]
          },
          "metadata": {},
          "execution_count": 11
        }
      ],
      "source": [
        "get_energy_torch(target_H,true_gs_vec).item()"
      ]
    },
    {
      "cell_type": "code",
      "execution_count": 12,
      "id": "e0a9cbca-d47e-4c50-b045-dfc00747188b",
      "metadata": {
        "tags": [],
        "colab": {
          "base_uri": "https://localhost:8080/"
        },
        "id": "e0a9cbca-d47e-4c50-b045-dfc00747188b",
        "outputId": "fc51d896-67d8-4aa4-a746-62208fa270a2"
      },
      "outputs": [
        {
          "output_type": "stream",
          "name": "stdout",
          "text": [
            "tensor(0.0162, dtype=torch.float64)\n"
          ]
        }
      ],
      "source": [
        "# get fidelity for t= 0s\n",
        "fidelity_t_0 = get_fidelity_torch(true_gs_vec,temp_vec)\n",
        "print(fidelity_t_0)"
      ]
    },
    {
      "cell_type": "code",
      "execution_count": 13,
      "id": "77e0ee37-be8a-42db-8bef-b719306c8079",
      "metadata": {
        "id": "77e0ee37-be8a-42db-8bef-b719306c8079"
      },
      "outputs": [],
      "source": [
        "def lambda_evolve(x):\n",
        "    global fidelity\n",
        "    p = temp_vec.clone().to(torch.complex128)  # Create a copy of temp_vec\n",
        "\n",
        "    for i in range(number_of_layers):\n",
        "        H_matrix = HA_matrix + B_guess[i] * HB_matrix\n",
        "        exp_imgH_matrix = torch.matrix_exp(-1j * x* H_matrix)\n",
        "        new_p = torch.matmul(exp_imgH_matrix, p)\n",
        "        p = new_p\n",
        "\n",
        "    # fidelity = get_fidelity_torch(true_gs_vec, p)\n",
        "    # print(fidelity)\n",
        "    energy = get_energy_torch(target_H, p)\n",
        "    # print(torch.norm(p).item())\n",
        "    return energy"
      ]
    },
    {
      "cell_type": "code",
      "execution_count": 14,
      "id": "e5510acd-7b42-4372-a692-e68574914b1b",
      "metadata": {
        "id": "e5510acd-7b42-4372-a692-e68574914b1b"
      },
      "outputs": [],
      "source": [
        "def exp_decay_guess(t_end,B_0,B_end,x):\n",
        "\n",
        "    tau =  np.log(B_0/B_end)/t_end\n",
        "\n",
        "    value = B_0*np.exp(-x*tau)\n",
        "\n",
        "    return value\n",
        "t_end = 40000  # Example value for t_end\n",
        "B_0 = 10  # Example value for B_0\n",
        "B_end = 0.1  # Example value for B_end"
      ]
    },
    {
      "cell_type": "code",
      "execution_count": 15,
      "id": "01d45da8-733b-4f39-ab69-b101bda00e2c",
      "metadata": {
        "id": "01d45da8-733b-4f39-ab69-b101bda00e2c"
      },
      "outputs": [],
      "source": [
        "def lambda_evolve_filidety(x):\n",
        "    global fidelity\n",
        "    p = temp_vec.clone().to(torch.complex128)  # Create a copy of temp_vec\n",
        "\n",
        "    for i in range(number_of_layers):\n",
        "        H_matrix = HA_matrix + B_guess[i] * HB_matrix\n",
        "        exp_imgH_matrix = torch.matrix_exp(-1j * x* H_matrix)\n",
        "        new_p = torch.matmul(exp_imgH_matrix, p)\n",
        "        p = new_p\n",
        "\n",
        "    fidelity = get_fidelity_torch(true_gs_vec, p)\n",
        "    return fidelity.item()"
      ]
    },
    {
      "cell_type": "code",
      "execution_count": 16,
      "id": "982b87a4-a3fb-43b9-8525-5d5a92e9ed1c",
      "metadata": {
        "collapsed": true,
        "id": "982b87a4-a3fb-43b9-8525-5d5a92e9ed1c"
      },
      "outputs": [],
      "source": [
        "# Parameters\n",
        "step_list = np.arange(50, 120, 10)\n",
        "lambda_list = np.arange(1,5, 0.1)\n",
        "\n",
        "# Initialize matrix to store fidelity values\n",
        "fidelity_matrix = np.zeros((len(step_list), len(lambda_list)))\n",
        "\n",
        "# Loop through parameters and calculate fidelity\n",
        "for i, number_of_layers in enumerate(step_list):\n",
        "    for j, dt_size in enumerate(lambda_list):\n",
        "        x = np.linspace(0, t_end, number_of_layers)\n",
        "        B_guess = exp_decay_guess(t_end, B_0, B_end, x)\n",
        "\n",
        "        # Assuming lambda_evolve_fidelity returns a fidelity value\n",
        "        fidelity = lambda_evolve_filidety(dt_size)  # Adjust this line according to your function\n",
        "        #print(fidelity)\n",
        "        # Store fidelity value in the matrix\n",
        "        fidelity_matrix[i, j] = fidelity\n"
      ]
    },
    {
      "cell_type": "markdown",
      "source": [
        "# Best data is 100 layers with 1.153 as $\\lambda_0$"
      ],
      "metadata": {
        "id": "EiwtQTaPBaAD"
      },
      "id": "EiwtQTaPBaAD"
    },
    {
      "cell_type": "code",
      "source": [
        "# Save the matrix to a CSV file\n",
        "# np.savetxt('fidelity_matrix.csv', fidelity_matrix, delimiter=',')\n",
        "\n",
        "\n",
        "# Load the matrix from the CSV file\n",
        "fidelity_matrix = np.loadtxt('fidelity_matrix.csv', delimiter=',')\n"
      ],
      "metadata": {
        "id": "jH7e9V9qk-yQ"
      },
      "id": "jH7e9V9qk-yQ",
      "execution_count": 22,
      "outputs": []
    },
    {
      "cell_type": "code",
      "source": [
        "# Find the maximum value in the matrix\n",
        "max_value = np.max(fidelity_matrix)\n",
        "\n",
        "# Find the indices of the maximum value\n",
        "max_index = np.unravel_index(np.argmax(fidelity_matrix), fidelity_matrix.shape)\n",
        "\n",
        "# max_index will be a tuple (i, j)\n",
        "i, j = max_index\n",
        "\n",
        "# Output the result\n",
        "print(f\"Maximum value: {max_value}\")\n",
        "print(f\"Indices of maximum value: i = {i}, j = {j}\")"
      ],
      "metadata": {
        "colab": {
          "base_uri": "https://localhost:8080/"
        },
        "id": "dRSaHR7hAjKA",
        "outputId": "74c3a201-5077-462f-9966-38c8bca8f97d"
      },
      "id": "dRSaHR7hAjKA",
      "execution_count": 18,
      "outputs": [
        {
          "output_type": "stream",
          "name": "stdout",
          "text": [
            "Maximum value: 0.9912953052346107\n",
            "Indices of maximum value: i = 5, j = 2\n"
          ]
        }
      ]
    },
    {
      "cell_type": "code",
      "source": [
        "import seaborn as sns\n",
        "\n",
        "# Define the specific x-axis tick positions and labels\n",
        "specific_xticks = np.array([1, 1.5, 2, 2.5, 3, 3.5, 4])\n",
        "specific_xticklabels = specific_xticks.astype(str)\n",
        "\n",
        "# Plot heatmap using Seaborn\n",
        "plt.figure(figsize=(10, 6))\n",
        "ax = sns.heatmap(fidelity_matrix, cmap='viridis', cbar=True, annot=False,\n",
        "                 xticklabels=specific_xticklabels,cbar_kws={'shrink': 1},\n",
        "                 yticklabels=step_list)\n",
        "\n",
        "# Adjust x-axis ticks\n",
        "ax.set_xticks(np.linspace(0, len(lambda_list) - 1, len(specific_xticks)))\n",
        "ax.set_xticklabels(specific_xticklabels, rotation=360)\n",
        "# Adjust y-axis ticks and rotate labels\n",
        "ax.set_yticklabels(step_list, rotation=360)  # Rotate y-axis labels 90 degrees\n",
        "\n",
        "# Define the specific x and y coordinates for the star symbol\n",
        "star_x = 1.2\n",
        "star_y = 110\n",
        "# Find closest indices to star_x and star_y in lambda_list and step_list\n",
        "idx_x = np.abs(lambda_list - star_x).argmin()\n",
        "idx_y = np.abs(step_list - star_y).argmin()\n",
        "\n",
        "plt.xlabel(r'$\\lambda_0$', size=20)  # LaTeX formatted xlabel\n",
        "plt.ylabel('number of steps', size=20)\n",
        "\n",
        "# Add a star symbol at the specified location\n",
        "plt.scatter([idx_x], [idx_y], marker='*', color='red', s=300)\n",
        "\n",
        "# Set font size of ticks\n",
        "plt.xticks(fontsize=20)\n",
        "plt.yticks(fontsize=20)\n",
        "# Set font size of ticks on color bar\n",
        "cbar = ax.collections[0].colorbar\n",
        "cbar.ax.tick_params(labelsize=20)\n",
        "\n",
        "# Save the figure\n",
        "plt.savefig('constant_lambda_heatmap.png', bbox_inches='tight')\n",
        "plt.show()"
      ],
      "metadata": {
        "colab": {
          "base_uri": "https://localhost:8080/",
          "height": 573
        },
        "id": "hqxayYMrlFa5",
        "outputId": "84d193a5-b3b3-4dd3-cc94-e46b3643931c"
      },
      "id": "hqxayYMrlFa5",
      "execution_count": 19,
      "outputs": [
        {
          "output_type": "display_data",
          "data": {
            "text/plain": [
              "<Figure size 1000x600 with 2 Axes>"
            ],
            "image/png": "[encoded data removed]"
          },
          "metadata": {}
        }
      ]
    },
    {
      "cell_type": "code",
      "source": [],
      "metadata": {
        "id": "GTmaf_hLIQHc"
      },
      "id": "GTmaf_hLIQHc",
      "execution_count": 19,
      "outputs": []
    }
  ],
  "metadata": {
    "kernelspec": {
      "display_name": "Python 3 (ipykernel)",
      "language": "python",
      "name": "python3"
    },
    "language_info": {
      "codemirror_mode": {
        "name": "ipython",
        "version": 3
      },
      "file_extension": ".py",
      "mimetype": "text/x-python",
      "name": "python",
      "nbconvert_exporter": "python",
      "pygments_lexer": "ipython3",
      "version": "3.11.5"
    },
    "colab": {
      "provenance": []
    }
  },
  "nbformat": 4,
  "nbformat_minor": 5
}