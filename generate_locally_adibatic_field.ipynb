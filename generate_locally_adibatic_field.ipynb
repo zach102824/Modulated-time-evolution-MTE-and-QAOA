{
 "cells": [
  {
   "cell_type": "code",
   "execution_count": 29,
   "metadata": {
    "tags": []
   },
   "outputs": [],
   "source": [
    "import numpy as np\n",
    "from scipy.sparse.linalg import eigs\n",
    "from numpy import linalg as LA\n",
    "from scipy.interpolate import Akima1DInterpolator\n",
    "from scipy.linalg import expm\n",
    "import time\n",
    "from scipy import sparse\n",
    "import matplotlib.pyplot as plt\n",
    "import pandas\n",
    "import scipy\n",
    "import torch\n",
    "np.set_printoptions(precision=6)\n",
    "import torch.linalg as LA\n",
    "# initialize variables\n",
    "N = 8\n",
    "# Q is the dimension\n",
    "Q = pow(2, N)\n",
    "\n",
    "# decimal number to binary array function\n",
    "def D2B(num):\n",
    "    string = f'{num:1b}'\n",
    "    result = np.zeros(N - len(string), int)\n",
    "\n",
    "    for ele in string:\n",
    "        result = np.append(result, int(ele))\n",
    "\n",
    "    return result\n",
    "\n",
    "# decimal number to binary array function\n",
    "def D2B_with_digit(num,digit):\n",
    "    string = f'{num:1b}'\n",
    "    result = np.zeros(digit - len(string), int)\n",
    "\n",
    "    for ele in string:\n",
    "        result = np.append(result, int(ele))\n",
    "\n",
    "    return result\n",
    "\n",
    "# binary array to decimal function\n",
    "def B2D(array):\n",
    "    res = 0\n",
    "    for ele in array:\n",
    "        res = (res << 1) | ele\n",
    "    return res\n",
    "\n",
    "def spin_reflection(array):\n",
    "    new_array = np.zeros(len(array),dtype=int)\n",
    "    for i in range(len(array)):\n",
    "        if array[i] == 1:\n",
    "            new_array[i] = 0\n",
    "        else:\n",
    "            new_array[i] = 1\n",
    "    return new_array\n",
    "\n",
    "def spatial_reflection(array):\n",
    "    new_array = array[::-1]\n",
    "    return new_array  "
   ]
  },
  {
   "cell_type": "code",
   "execution_count": 6,
   "metadata": {},
   "outputs": [],
   "source": [
    "B = 0.1  # Initial B value \n",
    "B_not = 20"
   ]
  },
  {
   "cell_type": "code",
   "execution_count": 7,
   "metadata": {
    "tags": []
   },
   "outputs": [],
   "source": [
    "# initialize J matrix\n",
    "J_matrix = np.zeros((N, N), dtype='float64')\n",
    "\n",
    "J_value = 1\n",
    "J_matrix_alpha =  1 # NEED TO BE CHANGED \n",
    "for i in range(N):\n",
    "    for j in range(N):\n",
    "        if j >= (i + 1):\n",
    "            J_matrix[i][j] = J_value/pow(abs(i-j),J_matrix_alpha)"
   ]
  },
  {
   "cell_type": "code",
   "execution_count": 8,
   "metadata": {
    "jupyter": {
     "source_hidden": true
    }
   },
   "outputs": [],
   "source": [
    "# # spin glass case \n",
    "# J_matrix = np.zeros((N, N), dtype='float64')\n",
    "# for i in range(N):\n",
    "#     for j in range(N):\n",
    "#         if j >= (i + 1):\n",
    "#             J_matrix[i][j] = np.random.uniform(-1,1)"
   ]
  },
  {
   "cell_type": "code",
   "execution_count": 9,
   "metadata": {
    "tags": []
   },
   "outputs": [],
   "source": [
    "# start to get what product states are having the same symmtries\n",
    "loop_state_list = np.linspace(0,Q-1,num=Q,dtype=int)\n",
    "\n",
    "couple_state_matrix = []\n",
    "sign_matrix = []\n",
    "# this is the final result for the states to consctruct basis \n",
    "\n",
    "for n in range(Q):  # n is an unused index\n",
    "    \n",
    "    # couple_num_list would be my result for each state we loop\n",
    "    \n",
    "    if len(loop_state_list)!=0: # loop for couple number for one state\n",
    "                \n",
    "        couple_num_list = [] # this is the list to store all the number that couple to the number we are looping\n",
    "        couple_num_list = np.array(couple_num_list, dtype=int)\n",
    "        state_num = loop_state_list[0]\n",
    "        couple_num_list = np.append(couple_num_list,state_num)\n",
    "        \n",
    "        for m in range(Q): # loop for spin and spatial for all states inside the couple number list\n",
    "            \n",
    "            if m==0:\n",
    "                \n",
    "                couple_num_list_old =couple_num_list\n",
    "                \n",
    "                for i in range(len(couple_num_list)):\n",
    "                    number = couple_num_list[i]\n",
    "                    array = D2B(number)\n",
    "\n",
    "                    # spin reflection \n",
    "                    spin_relfection_array = spin_reflection(array)\n",
    "                    spin_number = B2D(spin_relfection_array)\n",
    "                    couple_num_list =np.append(couple_num_list,spin_number)\n",
    "\n",
    "\n",
    "\n",
    "                    # # spatial reflection \n",
    "                    spatial_relfection_array = spatial_reflection(array)\n",
    "                    spatial_number = B2D(spatial_relfection_array)\n",
    "                    couple_num_list =np.append(couple_num_list,spatial_number)\n",
    "                    \n",
    "                    # remove the repeated element \n",
    "                    couple_num_list = np.unique(couple_num_list)\n",
    "            else:\n",
    "                \n",
    "                if len(couple_num_list_old) != len(couple_num_list):\n",
    "                    # update couple_num_list_old first \n",
    "                    couple_num_list_old =couple_num_list\n",
    "                    \n",
    "                    for i in range(len(couple_num_list)):\n",
    "                        number = couple_num_list[i]\n",
    "                        array = D2B(number)\n",
    "\n",
    "                        # spin reflection \n",
    "                        spin_relfection_array = spin_reflection(array)\n",
    "                        spin_number = B2D(spin_relfection_array)\n",
    "                        couple_num_list =np.append(couple_num_list,spin_number)\n",
    "                        \n",
    "                        \n",
    "                        # # spatial reflection \n",
    "                        spatial_relfection_array = spatial_reflection(array)\n",
    "                        spatial_number = B2D(spatial_relfection_array)\n",
    "                        couple_num_list = np.append(couple_num_list,spatial_number)\n",
    "                        \n",
    "                        # remove the repeated element \n",
    "                        couple_num_list = np.unique(couple_num_list)\n",
    "                        \n",
    "        # now we have final couple_num_list\n",
    "        couple_state_matrix.append(couple_num_list.tolist())\n",
    "        \n",
    "        # remove the ones already found \n",
    "        for j in range(len(couple_num_list)):\n",
    "            loop_state_list = np.delete(loop_state_list, np.where(loop_state_list ==couple_num_list[j] ))"
   ]
  },
  {
   "cell_type": "code",
   "execution_count": 10,
   "metadata": {},
   "outputs": [],
   "source": [
    "from scipy.sparse import coo_matrix\n",
    "\n",
    "# Initialize H matrix\n",
    "couple_dimen = len(couple_state_matrix)\n",
    "\n",
    "# Initialize lists to store non-zero values and corresponding indices for HA_matrix and HB_matrix\n",
    "HA_row_indices = [] # row is col index\n",
    "HA_values = []\n",
    "HB_row_indices = []\n",
    "HB_col_indices = []\n",
    "HB_values = []\n",
    "\n",
    "# Loop each basis to fill in the diagonal elements for HA matrix \n",
    "for i in range(couple_dimen):\n",
    "    state_array = np.array(couple_state_matrix[i])\n",
    "    normalization = len(state_array)\n",
    "    e_tot = 0\n",
    "    for j in range(len(state_array)):\n",
    "        state = D2B(state_array[j])\n",
    "        for k in range(N):\n",
    "            if state[k] == 1:\n",
    "                state[k] = -1\n",
    "            else:\n",
    "                state[k] = 1\n",
    "        for m in range(N):\n",
    "            for q in range(N):\n",
    "                e_temp = J_matrix[m][q] * state[m] * state[q]\n",
    "                e_tot += e_temp\n",
    "    HA_row_indices.append(i)\n",
    "    HA_values.append(e_tot / normalization)\n",
    "\n",
    "# Generate vector form for each basis\n",
    "vector_form_basis_matrix = np.zeros((couple_dimen, Q))\n",
    "for i in range(couple_dimen):\n",
    "    state_array = np.array(couple_state_matrix[i])\n",
    "    normalization = np.sqrt(len(state_array))\n",
    "    for j in state_array:\n",
    "        vector_form_basis_matrix[i][j] = 1\n",
    "    vector_form_basis_matrix[i] = vector_form_basis_matrix[i] / normalization\n",
    "\n",
    "# Loop each basis to fill in HB matrix \n",
    "for i in range(couple_dimen):\n",
    "    state_array = np.array(couple_state_matrix[i])\n",
    "    normalization = np.sqrt(len(state_array))\n",
    "    result_num_list = np.array([], dtype=int)\n",
    "    for k in range(len(state_array)):\n",
    "        spin = D2B(state_array[k])\n",
    "        for j in range(N):\n",
    "            if spin[j] == 1:\n",
    "                spin[j] = 0\n",
    "                new_num = B2D(spin)\n",
    "                result_num_list = np.append(result_num_list, new_num)\n",
    "                spin[j] = 1\n",
    "            else:\n",
    "                spin[j] = 1\n",
    "                new_num = B2D(spin)\n",
    "                result_num_list = np.append(result_num_list, new_num)\n",
    "                spin[j] = 0\n",
    "    \n",
    "    vector_final_state = np.zeros(Q)\n",
    "    for j in result_num_list:\n",
    "        vector_final_state[j] += 1\n",
    "        \n",
    "    vector_final_state = vector_final_state / normalization\n",
    "    \n",
    "    for j in range(couple_dimen):\n",
    "        dot_product = np.dot(vector_final_state, vector_form_basis_matrix[j])\n",
    "        if dot_product != 0:  # Only store non-zero values for sparsity\n",
    "            HB_row_indices.append(i)\n",
    "            HB_col_indices.append(j)\n",
    "            HB_values.append(dot_product)\n",
    "\n",
    "# Create sparse matrices using COO format\n",
    "HA_matrix = coo_matrix((HA_values, (HA_row_indices, HA_row_indices)), shape=(couple_dimen, couple_dimen))\n",
    "HB_matrix = coo_matrix((HB_values, (HB_row_indices, HB_col_indices)), shape=(couple_dimen, couple_dimen))\n"
   ]
  },
  {
   "cell_type": "code",
   "execution_count": 12,
   "metadata": {
    "tags": []
   },
   "outputs": [],
   "source": [
    "from scipy.sparse.linalg import eigsh\n",
    "from scipy import sparse\n",
    "# start looping for different B value \n",
    "dB=0.01 # \n",
    "B_value_list = np.arange(B,B_not,dB) # the biggest value of B, change the sign if we change FM TO AFM \n",
    "\n",
    "delta_e_list = []\n",
    "for B_value in B_value_list:\n",
    "    result = sparse.linalg.eigsh(HA_matrix+B_value*HB_matrix,k=2, which='SA',return_eigenvectors=False)\n",
    "    #print(delta_enengy)\n",
    "    delta_e_list.append(result[0] -result[1]) "
   ]
  },
  {
   "cell_type": "code",
   "execution_count": null,
   "metadata": {},
   "outputs": [],
   "source": []
  },
  {
   "cell_type": "code",
   "execution_count": 30,
   "metadata": {
    "tags": []
   },
   "outputs": [
    {
     "data": {
      "image/png": "[encoded data removed]",
      "text/plain": [
       "<Figure size 640x480 with 1 Axes>"
      ]
     },
     "metadata": {},
     "output_type": "display_data"
    }
   ],
   "source": [
    "fig, ax = plt.subplots()\n",
    "ax.plot(B_value_list,delta_e_list)\n",
    "# ax.plot(test_x,test_y,'black')\n",
    "ax.set(xlabel=r'$B$', ylabel=r'$\\Delta(B)$')\n",
    "# Increase the font size of the labels\n",
    "ax.tick_params(axis='both', labelsize=20)\n",
    "# Set the font size for the axis labels\n",
    "label_size =20\n",
    "ax.xaxis.label.set_fontsize(label_size)  # Adjust the font size for the x-axis label\n",
    "ax.yaxis.label.set_fontsize(label_size)  # Adjust the font size for the y-axis label\n",
    "\n",
    "\n",
    "ax.set_xlim(0,1)\n",
    "ax.set_ylim(0,2)\n",
    "\n",
    "# plot B critical \n",
    "# plt.vlines(0.42, 0, 6, color='blue',ls='--')\n",
    "# plt.vlines(0.45, 0, 6, color='black',ls='--')\n",
    "\n",
    "# plt.text(0.4,3,'B_critical',size=20,color = 'red')\n",
    "\n",
    "# latex_text = r'$B_{critical} =0.38$'\n",
    "# ax.text(0.9, 4.5, latex_text, fontsize=22, ha='center', va='center',color ='red')\n",
    "\n",
    "plt.savefig('B vs energy gap',bbox_inches='tight')\n",
    "plt.show()"
   ]
  },
  {
   "cell_type": "code",
   "execution_count": 31,
   "metadata": {
    "tags": []
   },
   "outputs": [],
   "source": [
    "# just to double name some variable so can be lazy with editing code\n",
    "delta_e_list = np.array(delta_e_list)\n",
    "plot_B_total_list = np.array(B_value_list)\n",
    "plot_de_total_list =delta_e_list"
   ]
  },
  {
   "cell_type": "code",
   "execution_count": 32,
   "metadata": {
    "tags": []
   },
   "outputs": [
    {
     "data": {
      "image/png": "[encoded data removed]",
      "text/plain": [
       "<Figure size 640x480 with 1 Axes>"
      ]
     },
     "metadata": {},
     "output_type": "display_data"
    }
   ],
   "source": [
    "fig, ax = plt.subplots()\n",
    "ax.plot(plot_B_total_list/B_not, (plot_de_total_list.real)/B_not)\n",
    "ax.set(xlabel=r'$\\frac{B}{B_0}$', ylabel=r'$\\frac{\\Delta(B)}{B_0}$')\n",
    "# Increase the font size of the labels\n",
    "ax.tick_params(axis='both', labelsize=14)\n",
    "# Set the font size for the axis labels\n",
    "label_size =20\n",
    "ax.xaxis.label.set_fontsize(label_size)  # Adjust the font size for the x-axis label\n",
    "ax.yaxis.label.set_fontsize(label_size)  # Adjust the font size for the y-axis label\n",
    "\n",
    "ax.set_xlim(0,0.2)\n",
    "ax.set_ylim(0,0.5)\n",
    "ax.grid()\n",
    "plt.show()"
   ]
  },
  {
   "cell_type": "code",
   "execution_count": 33,
   "metadata": {
    "tags": []
   },
   "outputs": [
    {
     "name": "stdout",
     "output_type": "stream",
     "text": [
      "critical B value =  0.3799999999999999\n",
      "critical delta energy value =  0.45778596870081234\n"
     ]
    }
   ],
   "source": [
    "print('critical B value = ',plot_B_total_list[np.argmin(plot_de_total_list.real)])\n",
    "print('critical delta energy value = ',np.min(plot_de_total_list.real))"
   ]
  },
  {
   "cell_type": "code",
   "execution_count": 34,
   "metadata": {
    "tags": []
   },
   "outputs": [
    {
     "name": "stdout",
     "output_type": "stream",
     "text": [
      "t_f is  1.9724152563613664\n"
     ]
    }
   ],
   "source": [
    "# calculate t_f , total ramp time, set gamma to be 1\n",
    "gamma = 1\n",
    "\n",
    "#from scipy.integrate import simps\n",
    "one_over_delta_square = pow(1/ delta_e_list,2)\n",
    "#t_f = gamma * simps(B_total_list, one_over_delta_square)\n",
    "t_f = gamma * np.trapz(one_over_delta_square,x= B_value_list)\n",
    "print('t_f is ', t_f)"
   ]
  },
  {
   "cell_type": "code",
   "execution_count": null,
   "metadata": {
    "tags": []
   },
   "outputs": [],
   "source": []
  },
  {
   "cell_type": "code",
   "execution_count": 35,
   "metadata": {
    "tags": []
   },
   "outputs": [],
   "source": [
    "# create reverse B field and de list to calcualte t_c from B_not\n",
    "B_total_list_reversed = B_value_list[::-1]\n",
    "B_integrate = np.array([B_total_list_reversed[0]])\n",
    "one_over_delta_square_reversed = one_over_delta_square[::-1]\n",
    "one_over_delta_square_integrate = np.array([one_over_delta_square_reversed[0]])"
   ]
  },
  {
   "cell_type": "code",
   "execution_count": 36,
   "metadata": {
    "tags": []
   },
   "outputs": [],
   "source": [
    "t_c_list = []\n",
    "for i in range(1,len(B_total_list_reversed)):\n",
    "    B_integrate = np.append(B_integrate,B_total_list_reversed[i])\n",
    "    one_over_delta_square_integrate =  np.append(one_over_delta_square_integrate,one_over_delta_square_reversed[i])\n",
    "    t_c = gamma * np.trapz(one_over_delta_square_integrate,x= B_integrate)\n",
    "    t_c_list.append(t_c)\n",
    "\n",
    "t_c_list = -np.array(t_c_list)\n",
    "t_c_list_unit = t_c_list /t_f # negative sign is to put time into postive or we can change the integral limit before"
   ]
  },
  {
   "cell_type": "code",
   "execution_count": null,
   "metadata": {
    "tags": []
   },
   "outputs": [],
   "source": []
  },
  {
   "cell_type": "code",
   "execution_count": 37,
   "metadata": {
    "tags": []
   },
   "outputs": [],
   "source": [
    "# becauase len(t_c_list) is one less than len(B_total_list_reversed) \n",
    "# I created a new list with old B field range but len(t_c_list) numbere of points \n",
    "\n",
    "plot_final_B = np.linspace(np.amin(B_value_list),np.amax(B_value_list) , num=len(t_c_list), retstep=False) \n",
    "plot_final_B = plot_final_B[::-1]"
   ]
  },
  {
   "cell_type": "code",
   "execution_count": null,
   "metadata": {},
   "outputs": [],
   "source": []
  },
  {
   "cell_type": "code",
   "execution_count": 38,
   "metadata": {
    "tags": []
   },
   "outputs": [
    {
     "data": {
      "image/png": "[encoded data removed]",
      "text/plain": [
       "<Figure size 640x480 with 1 Axes>"
      ]
     },
     "metadata": {},
     "output_type": "display_data"
    }
   ],
   "source": [
    "plt.plot(t_c_list/t_f,plot_final_B,color='blue')\n",
    "plt.xlabel(r'$t/t_{f}$',size=20)\n",
    "plt.ylabel('$B$',size=20)\n",
    "plt.tick_params(axis='both', which='both', labelsize=20)  # You can adjust the labelsize as needed\n",
    "# Save the figure to a file (e.g., PNG format)\n",
    "# Set tight axis limits\n",
    "plt.tight_layout()\n",
    "\n",
    "# Save the figure with tight axis limits to a file (e.g., PNG format)\n",
    "# plt.savefig(\"B_field.png\", bbox_inches='tight')"
   ]
  },
  {
   "cell_type": "code",
   "execution_count": 39,
   "metadata": {},
   "outputs": [],
   "source": [
    "# "
   ]
  },
  {
   "cell_type": "code",
   "execution_count": 40,
   "metadata": {},
   "outputs": [],
   "source": [
    "# save B field data\n",
    "import pandas\n",
    "df = pandas.DataFrame(data={\"time\": t_c_list, \"B\": plot_final_B})\n",
    "df.to_csv(f\"./B_profile_N={N}_a={J_matrix_alpha}_B_start={B_not}_B_0={B}.csv\", sep=',',index=False)"
   ]
  },
  {
   "cell_type": "code",
   "execution_count": 41,
   "metadata": {},
   "outputs": [
    {
     "name": "stdout",
     "output_type": "stream",
     "text": [
      "number of layers is 100\n"
     ]
    }
   ],
   "source": [
    "# read B field file \n",
    "time_and_B_data = pandas.read_csv(f\"B_profile_N={N}_a={J_matrix_alpha}_B_start={B_not}_B_0={B}.csv\")\n",
    "time_list = time_and_B_data['time'].to_numpy()\n",
    "B_list = time_and_B_data['B'].to_numpy()\n",
    "number_of_layers = 100\n",
    "\n",
    "bi = Akima1DInterpolator(time_list, B_list)\n",
    "t_data_smooth = np.linspace(min(time_list), max(time_list),number_of_layers)# Number of steps to take for time evolution \n",
    "B_data_smooth = bi(t_data_smooth)\n",
    "print( 'number of layers is', number_of_layers)"
   ]
  },
  {
   "cell_type": "code",
   "execution_count": 42,
   "metadata": {},
   "outputs": [
    {
     "data": {
      "text/plain": [
       "array([19.99    ,  3.284836,  2.00608 ,  1.526475,  1.272446,  1.113901,\n",
       "        1.004845,  0.924819,  0.863316,  0.814373,  0.774352,  0.740902,\n",
       "        0.712436,  0.687846,  0.666325,  0.647282,  0.630267,  0.614934,\n",
       "        0.601011,  0.588286,  0.576578,  0.565748,  0.555679,  0.546275,\n",
       "        0.537452,  0.529142,  0.521281,  0.513828,  0.506737,  0.499962,\n",
       "        0.493475,  0.487253,  0.481256,  0.475476,  0.469883,  0.46446 ,\n",
       "        0.459197,  0.454067,  0.44907 ,  0.444182,  0.439402,  0.434709,\n",
       "        0.430102,  0.425569,  0.421099,  0.416692,  0.412328,  0.408017,\n",
       "        0.403734,  0.399488,  0.395264,  0.391057,  0.386872,  0.382688,\n",
       "        0.378503,  0.374318,  0.370133,  0.365932,  0.361709,  0.357472,\n",
       "        0.353199,  0.348901,  0.344561,  0.340181,  0.335754,  0.331272,\n",
       "        0.326737,  0.322132,  0.317465,  0.312718,  0.307896,  0.302981,\n",
       "        0.29798 ,  0.292874,  0.287667,  0.282342,  0.276902,  0.271331,\n",
       "        0.265628,  0.25978 ,  0.253781,  0.247624,  0.241297,  0.234795,\n",
       "        0.228107,  0.221222,  0.214133,  0.206831,  0.199306,  0.191548,\n",
       "        0.183551,  0.175306,  0.166805,  0.158044,  0.149019,  0.139728,\n",
       "        0.130173,  0.12036 ,  0.110297,  0.1     ])"
      ]
     },
     "execution_count": 42,
     "metadata": {},
     "output_type": "execute_result"
    }
   ],
   "source": [
    "B_data_smooth"
   ]
  },
  {
   "cell_type": "code",
   "execution_count": null,
   "metadata": {},
   "outputs": [],
   "source": []
  },
  {
   "cell_type": "code",
   "execution_count": null,
   "metadata": {},
   "outputs": [],
   "source": []
  }
 ],
 "metadata": {
  "kernelspec": {
   "display_name": "Python 3 (ipykernel)",
   "language": "python",
   "name": "python3"
  },
  "language_info": {
   "codemirror_mode": {
    "name": "ipython",
    "version": 3
   },
   "file_extension": ".py",
   "mimetype": "text/x-python",
   "name": "python",
   "nbconvert_exporter": "python",
   "pygments_lexer": "ipython3",
   "version": "3.11.5"
  }
 },
 "nbformat": 4,
 "nbformat_minor": 4
}
